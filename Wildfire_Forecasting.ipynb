{
  "nbformat": 4,
  "nbformat_minor": 0,
  "metadata": {
    "colab": {
      "name": "Wildfire Forecasting.ipynb",
      "provenance": [],
      "collapsed_sections": [
        "jnNXSgKK9t0A",
        "b8nFtOGrVopk",
        "EkpLt5xIyZgC",
        "j2BzTScXXik8",
        "xPpMyZd3ERGG",
        "5Kc8vrsQ4Bca",
        "jcLgs2tMJyMJ",
        "qmiPZX4wLL2s",
        "5kS9SEL-nPXg",
        "eGaiYTvPqG6j",
        "fTPZpTIzyjqV"
      ]
    },
    "kernelspec": {
      "display_name": "Python 3",
      "name": "python3"
    },
    "language_info": {
      "name": "python"
    }
  },
  "cells": [
    {
      "cell_type": "markdown",
      "metadata": {
        "id": "3reFAUIg5dR5"
      },
      "source": [
        "<h1 align=\"center\"><b>CS114.L21 - MÁY HỌC - MACHINE LEARNING</b></h1>\n",
        "<h1 align=\"center\"><b>ĐỒ ÁN CUỐI KỲ - XÂY DỰNG MÔ HÌNH MACHINE LEARNING DỰ BÁO CHÁY RỪNG Ở CÁC TỈNH TÂY NGUYÊN DỮ VÀO DỮ LIỆU CHÁY RỪNG</b></h1>\n"
      ]
    },
    {
      "cell_type": "markdown",
      "metadata": {
        "id": "aL0iKhZ171pw"
      },
      "source": [
        "**Nhóm thực hiện:**\n",
        "  1. Văn Viết Hiếu Anh - 19521225\n",
        "  2. Lê Văn Phước - 19522054\n",
        "  3. Nguyễn Đại Kỳ - 19521731"
      ]
    },
    {
      "cell_type": "markdown",
      "metadata": {
        "id": "fH204orR9YFI"
      },
      "source": [
        "**Môn học:** CS114.L21 - Máy học\n",
        "\n",
        "**Giảng viên hướng dẫn:** \n",
        "  1. Lê Đình Duy\n",
        "  2. Phạm Nguyễn Trường An"
      ]
    },
    {
      "cell_type": "markdown",
      "metadata": {
        "id": "jnNXSgKK9t0A"
      },
      "source": [
        "# Setup"
      ]
    },
    {
      "cell_type": "code",
      "metadata": {
        "colab": {
          "base_uri": "https://localhost:8080/"
        },
        "id": "SDOTJnTaGpNv",
        "outputId": "4ac5736c-d7b6-41bf-a8db-962afbbe7ab7"
      },
      "source": [
        "!pip3 install missingno"
      ],
      "execution_count": null,
      "outputs": [
        {
          "output_type": "stream",
          "text": [
            "Requirement already satisfied: missingno in /usr/local/lib/python3.7/dist-packages (0.5.0)\n",
            "Requirement already satisfied: numpy in /usr/local/lib/python3.7/dist-packages (from missingno) (1.19.5)\n",
            "Requirement already satisfied: matplotlib in /usr/local/lib/python3.7/dist-packages (from missingno) (3.2.2)\n",
            "Requirement already satisfied: scipy in /usr/local/lib/python3.7/dist-packages (from missingno) (1.4.1)\n",
            "Requirement already satisfied: seaborn in /usr/local/lib/python3.7/dist-packages (from missingno) (0.11.1)\n",
            "Requirement already satisfied: python-dateutil>=2.1 in /usr/local/lib/python3.7/dist-packages (from matplotlib->missingno) (2.8.2)\n",
            "Requirement already satisfied: cycler>=0.10 in /usr/local/lib/python3.7/dist-packages (from matplotlib->missingno) (0.10.0)\n",
            "Requirement already satisfied: pyparsing!=2.0.4,!=2.1.2,!=2.1.6,>=2.0.1 in /usr/local/lib/python3.7/dist-packages (from matplotlib->missingno) (2.4.7)\n",
            "Requirement already satisfied: kiwisolver>=1.0.1 in /usr/local/lib/python3.7/dist-packages (from matplotlib->missingno) (1.3.1)\n",
            "Requirement already satisfied: six in /usr/local/lib/python3.7/dist-packages (from cycler>=0.10->matplotlib->missingno) (1.15.0)\n",
            "Requirement already satisfied: pandas>=0.23 in /usr/local/lib/python3.7/dist-packages (from seaborn->missingno) (1.1.5)\n",
            "Requirement already satisfied: pytz>=2017.2 in /usr/local/lib/python3.7/dist-packages (from pandas>=0.23->seaborn->missingno) (2018.9)\n"
          ],
          "name": "stdout"
        }
      ]
    },
    {
      "cell_type": "code",
      "metadata": {
        "id": "tQeUyDOc9K3M"
      },
      "source": [
        "import os\n",
        "import datetime\n",
        "\n",
        "import IPython\n",
        "import IPython.display\n",
        "import matplotlib as mpl\n",
        "import matplotlib.pyplot as plt\n",
        "import numpy as np\n",
        "import pandas as pd\n",
        "import seaborn as sns\n",
        "import tensorflow as tf\n",
        "import missingno as msno\n",
        "\n",
        "import datetime\n",
        "\n",
        "from tensorflow.keras.layers import Input, Dense, Conv1D, Conv2D, Flatten, concatenate, MaxPooling2D, MaxPooling1D, LSTM,GlobalMaxPooling1D\n",
        "from tensorflow.keras.models import Model\n",
        "from tensorflow.keras.models import Sequential\n",
        "\n",
        "from sklearn.model_selection import train_test_split\n",
        "from sklearn.preprocessing import MinMaxScaler\n",
        "from sklearn.preprocessing import StandardScaler\n",
        "\n",
        "from sklearn.pipeline import make_pipeline\n",
        "from sklearn.preprocessing import StandardScaler\n",
        "from sklearn.svm import SVC\n",
        "\n",
        "from sklearn.ensemble import RandomForestClassifier\n",
        "from sklearn.linear_model import LogisticRegression\n",
        "from sklearn.naive_bayes import GaussianNB\n",
        "from sklearn.tree import DecisionTreeClassifier\n",
        "from sklearn.neighbors import KNeighborsClassifier\n",
        "\n",
        "from sklearn.metrics import plot_confusion_matrix\n",
        "from sklearn.metrics import confusion_matrix,accuracy_score,roc_curve,classification_report\n",
        "\n",
        "\n",
        "mpl.rcParams['figure.figsize'] = (20, 6)\n",
        "mpl.rcParams['axes.grid'] = False\n",
        "\n",
        "TAY_NGUYEN = ['Đắk Lắk', 'Gia Lai', 'Kon Tum', 'Đắk Nông', 'Lâm Đồng']\n",
        "TRAIN_SIZE, VAL_SIZE, TEST_SIZE = 0.7, 0.2, 0.1"
      ],
      "execution_count": null,
      "outputs": []
    },
    {
      "cell_type": "code",
      "metadata": {
        "id": "J2xod5ih721k"
      },
      "source": [
        "def minmaxScale(series):\n",
        "  return (series-series.min())/(series.max()-series.min())"
      ],
      "execution_count": null,
      "outputs": []
    },
    {
      "cell_type": "markdown",
      "metadata": {
        "id": "K-auu3jP_XYd"
      },
      "source": [
        "# The Wildfire Dataset\n",
        "\n",
        "Here we load 2 dataframes:\n",
        "1. **The wildfire dataframe** which be crawled from [Fire Watch Việt Nam](http://firewatchvn.kiemlam.org.vn/). For how the system detect the wildfire please visit [this article](https://geoviet.vn/FM/GetFile.aspx?ID=369dc03d-796c-4d31-9c4e-28d230a35473). For in depth how algorithm work please read [this article](https://modis.gsfc.nasa.gov/data/atbd/atbd_mod14.pdf).\n",
        "\n",
        "  This dataframe recorded from *3rd Jan 2008* to *5th Dec 2020*. Each record contain basic infomation about the fire:\n",
        "    - date: the date that fire had been recorded.\n",
        "    - province/district/ward: sequencly is first/second/third tier units.\n",
        "    - long/lat: the longtitude/latitude of the fire position.\n",
        "\n",
        "|date    |province|district|ward|long      |lat  |\n",
        "|--------|--------|--------|----|----------|-----|\n",
        "|01/06/2020|Bắc Giang|Yên Dũng|Tiền Phong|106.172   |21.238|\n",
        "|26/05/2020|Lào Cai |Văn Bàn |Nậm Tha|104.41616 |21.99459|\n",
        "|26/05/2020|Sóc Trăng|Mỹ Tú   |Hưng  Phú|105.70397 |9.64698|\n",
        "|26/05/2020|Sơn La  |Vân Hồ  |Tân Xuân|104.70561 |20.6593|\n",
        "|26/05/2020|Bạc Liêu|Bạc Liêu|Vĩnh Trạch|105.76225 |9.30437|\n",
        "\n",
        "\n",
        "2. **The administrative dataframe**. This dataframe created thanks for [Fire Watch Việt Nam](http://firewatchvn.kiemlam.org.vn/) contain code of 3 first tier in system. This code is for a unique system, and make the training process easier. For example, \"Quảng Trị\" is a province but also name of a unit in Lâm Đồng province. So with this code system, we no longer need to create a \"address\" columns just for recognize the place.\n",
        "\n",
        "|province|province_code|district|district_code|ward      |ward_code|\n",
        "|--------|-------------|--------|-------------|----------|---------|\n",
        "|An Giang|89           |An Phú  |886          |Đa Phước  |30373    |\n",
        "|An Giang|89           |An Phú  |886          |Khánh An  |30340    |\n",
        "|An Giang|89           |An Phú  |886          |Khánh Bình|30343    |\n",
        "|An Giang|89           |An Phú  |886          |Nhơn Hội  |30349    |\n",
        "|An Giang|89           |An Phú  |886          |Phú Hội   |30355    |\n",
        "|An Giang|89           |An Phú  |886          |Phú Hữu   |30352    |"
      ]
    },
    {
      "cell_type": "code",
      "metadata": {
        "id": "2mhvovHd_W6e"
      },
      "source": [
        "# The Wildfire Dataset\n",
        "df_wildfire = pd.read_csv('https://raw.githubusercontent.com/vanviethieuanh/CS114.L21/main/DoAn/wildfire.csv', parse_dates=['date'])\n",
        "\n",
        "# The Administrative Data\n",
        "df_administrative = pd.read_csv('https://gist.github.com/vanviethieuanh/0adf76c1c8e6107a198fbf212ba9c07b/raw/d6a7a5fa889be63b269d65e45439f6e7d1f64b09/administrative.csv')"
      ],
      "execution_count": null,
      "outputs": []
    },
    {
      "cell_type": "code",
      "metadata": {
        "colab": {
          "base_uri": "https://localhost:8080/"
        },
        "id": "cOFmFQkuILtN",
        "outputId": "340dcaaa-57ea-483d-edf5-7d29d6fc9fbf"
      },
      "source": [
        "df_wildfire['ward'].nunique()"
      ],
      "execution_count": null,
      "outputs": [
        {
          "output_type": "execute_result",
          "data": {
            "text/plain": [
              "6621"
            ]
          },
          "metadata": {
            "tags": []
          },
          "execution_count": 15
        }
      ]
    },
    {
      "cell_type": "code",
      "metadata": {
        "id": "0YISBHRdHAh7"
      },
      "source": [
        "df_wildfire = pd.merge(df_wildfire,df_administrative, how='left',on=['province','district','ward']).drop(['province', 'district','ward','district_code'], axis=1)"
      ],
      "execution_count": null,
      "outputs": []
    },
    {
      "cell_type": "code",
      "metadata": {
        "id": "N9jHWIxhHbRl"
      },
      "source": [
        "# Extract Tay Nguyen data\n",
        "df_administrative_tn = df_administrative[df_administrative['province'].isin(TAY_NGUYEN)]\n",
        "\n",
        "df_wildfire_tn = df_wildfire[df_wildfire['ward_code'].isin(df_administrative_tn['ward_code'])]"
      ],
      "execution_count": null,
      "outputs": []
    },
    {
      "cell_type": "code",
      "metadata": {
        "colab": {
          "base_uri": "https://localhost:8080/"
        },
        "id": "zeCqwZwbiS0q",
        "outputId": "df492ebf-779b-45bb-de84-11f92adafec6"
      },
      "source": [
        "df_administrative.nunique()"
      ],
      "execution_count": null,
      "outputs": [
        {
          "output_type": "execute_result",
          "data": {
            "text/plain": [
              "province            63\n",
              "province_code       63\n",
              "district           694\n",
              "district_code      710\n",
              "ward              8205\n",
              "ward_code        11166\n",
              "dtype: int64"
            ]
          },
          "metadata": {
            "tags": []
          },
          "execution_count": 18
        }
      ]
    },
    {
      "cell_type": "markdown",
      "metadata": {
        "id": "b8nFtOGrVopk"
      },
      "source": [
        "# The [worldweatheronline.com](https://www.worldweatheronline.com/vietnam-weather.aspx) data\n",
        "This data record in 40 Cities/Town in different province/municipalities of Vietnam.\n",
        "\n",
        "_The [link above](https://www.worldweatheronline.com/vietnam-weather.aspx) provide the list._\n",
        "\n",
        "This data records from _01 Jan 2009_ to _18 Jun 2021_. Each record include:\n",
        "\n",
        "- province: cities/town name _(no assent)_\n",
        "- day/month/year: date\n",
        "- max: max tempeture in the date (celcius)\n",
        "- min: min tempeture in the date (celcius)\n",
        "- wind: wind speed (km/h)\n",
        "- wind_d: wind [direction](https://www7.ncdc.noaa.gov/climvis/help_wind.html)\n",
        "- rain: Precipitation (mm)\n",
        "- humidi: Humidity(%)\n",
        "- cloud: cloud(%)\n",
        "- pressure: pressure([Bar](https://en.wikipedia.org/wiki/Bar_(unit)))\n",
        "\n",
        "|province|max|min|wind|wind_d|rain|humidi|cloud|pressure|date      |\n",
        "|--------|---|---|----|------|----|------|-----|--------|----------|\n",
        "|Bac Lieu|27 |22 |17  |NNE   |6.9 |90    |71   |1010    |2009-01-01|\n",
        "|Bac Lieu|31 |25 |20  |ENE   |0.0 |64    |24   |1010    |2010-01-01|\n",
        "|Bac Lieu|29 |24 |14  |E     |0.0 |75    |45   |1008    |2011-01-01|\n",
        "|Bac Lieu|30 |24 |30  |E     |0.0 |79    |52   |1012    |2012-01-01|\n",
        "|Bac Lieu|31 |25 |20  |ENE   |0.0 |70    |24   |1010    |2013-01-01|\n",
        "\n"
      ]
    },
    {
      "cell_type": "code",
      "metadata": {
        "id": "D76SrOqtbeXy"
      },
      "source": [
        "df_wwo_weather = pd.read_csv('https://raw.githubusercontent.com/vanviethieuanh/CS114.L21/main/DoAn/wwo_weather.csv', parse_dates=['date'])"
      ],
      "execution_count": null,
      "outputs": []
    },
    {
      "cell_type": "code",
      "metadata": {
        "id": "JbpTZPxmGyPx"
      },
      "source": [
        "#\n",
        "# Map all wind_direction to angle (radiant)\n",
        "#\n",
        "wind_direction = pd.read_csv('https://raw.githubusercontent.com/vanviethieuanh/CS114.L21/main/DoAn/wind_direction.csv', index_col='sign').to_dict()['angle']\n",
        "df_wwo_weather['wind_d'] = np.deg2rad(df_wwo_weather['wind_d'].map(lambda c: wind_direction[c]))"
      ],
      "execution_count": null,
      "outputs": []
    },
    {
      "cell_type": "markdown",
      "metadata": {
        "id": "pPwx9YSDXbpr"
      },
      "source": [
        "## Inspect and cleanup"
      ]
    },
    {
      "cell_type": "markdown",
      "metadata": {
        "id": "eYyQIGxSRczX"
      },
      "source": [
        "### Metrics"
      ]
    },
    {
      "cell_type": "code",
      "metadata": {
        "colab": {
          "base_uri": "https://localhost:8080/"
        },
        "id": "YLBKk2ZARfnd",
        "outputId": "8e8a3d50-c94f-4745-e318-d21130461dc5"
      },
      "source": [
        "df_wwo_weather.info()"
      ],
      "execution_count": null,
      "outputs": [
        {
          "output_type": "stream",
          "text": [
            "<class 'pandas.core.frame.DataFrame'>\n",
            "RangeIndex: 181960 entries, 0 to 181959\n",
            "Data columns (total 10 columns):\n",
            " #   Column    Non-Null Count   Dtype         \n",
            "---  ------    --------------   -----         \n",
            " 0   province  181960 non-null  object        \n",
            " 1   max       181960 non-null  int64         \n",
            " 2   min       181960 non-null  int64         \n",
            " 3   wind      181960 non-null  int64         \n",
            " 4   wind_d    181960 non-null  float64       \n",
            " 5   rain      181960 non-null  float64       \n",
            " 6   humidi    181960 non-null  int64         \n",
            " 7   cloud     181960 non-null  int64         \n",
            " 8   pressure  181960 non-null  int64         \n",
            " 9   date      181960 non-null  datetime64[ns]\n",
            "dtypes: datetime64[ns](1), float64(2), int64(6), object(1)\n",
            "memory usage: 13.9+ MB\n"
          ],
          "name": "stdout"
        }
      ]
    },
    {
      "cell_type": "code",
      "metadata": {
        "colab": {
          "base_uri": "https://localhost:8080/"
        },
        "id": "vCECaOQNRouP",
        "outputId": "c77e99fb-ad7a-42d3-d341-761850341736"
      },
      "source": [
        "df_wwo_weather.describe()"
      ],
      "execution_count": null,
      "outputs": [
        {
          "output_type": "execute_result",
          "data": {
            "text/html": [
              "<div>\n",
              "<style scoped>\n",
              "    .dataframe tbody tr th:only-of-type {\n",
              "        vertical-align: middle;\n",
              "    }\n",
              "\n",
              "    .dataframe tbody tr th {\n",
              "        vertical-align: top;\n",
              "    }\n",
              "\n",
              "    .dataframe thead th {\n",
              "        text-align: right;\n",
              "    }\n",
              "</style>\n",
              "<table border=\"1\" class=\"dataframe\">\n",
              "  <thead>\n",
              "    <tr style=\"text-align: right;\">\n",
              "      <th></th>\n",
              "      <th>max</th>\n",
              "      <th>min</th>\n",
              "      <th>wind</th>\n",
              "      <th>wind_d</th>\n",
              "      <th>rain</th>\n",
              "      <th>humidi</th>\n",
              "      <th>cloud</th>\n",
              "      <th>pressure</th>\n",
              "    </tr>\n",
              "  </thead>\n",
              "  <tbody>\n",
              "    <tr>\n",
              "      <th>count</th>\n",
              "      <td>181960.000000</td>\n",
              "      <td>181960.000000</td>\n",
              "      <td>181960.000000</td>\n",
              "      <td>181960.000000</td>\n",
              "      <td>181960.000000</td>\n",
              "      <td>181960.000000</td>\n",
              "      <td>181960.000000</td>\n",
              "      <td>181960.000000</td>\n",
              "    </tr>\n",
              "    <tr>\n",
              "      <th>mean</th>\n",
              "      <td>29.837277</td>\n",
              "      <td>23.277874</td>\n",
              "      <td>11.038657</td>\n",
              "      <td>2.678850</td>\n",
              "      <td>6.567130</td>\n",
              "      <td>77.083068</td>\n",
              "      <td>41.721268</td>\n",
              "      <td>1010.229127</td>\n",
              "    </tr>\n",
              "    <tr>\n",
              "      <th>std</th>\n",
              "      <td>4.571345</td>\n",
              "      <td>3.945381</td>\n",
              "      <td>5.311807</td>\n",
              "      <td>1.241257</td>\n",
              "      <td>13.602055</td>\n",
              "      <td>9.288553</td>\n",
              "      <td>23.875067</td>\n",
              "      <td>4.635714</td>\n",
              "    </tr>\n",
              "    <tr>\n",
              "      <th>min</th>\n",
              "      <td>4.000000</td>\n",
              "      <td>2.000000</td>\n",
              "      <td>1.000000</td>\n",
              "      <td>0.000000</td>\n",
              "      <td>0.000000</td>\n",
              "      <td>23.000000</td>\n",
              "      <td>0.000000</td>\n",
              "      <td>988.000000</td>\n",
              "    </tr>\n",
              "    <tr>\n",
              "      <th>25%</th>\n",
              "      <td>28.000000</td>\n",
              "      <td>21.000000</td>\n",
              "      <td>7.000000</td>\n",
              "      <td>1.570796</td>\n",
              "      <td>0.100000</td>\n",
              "      <td>71.000000</td>\n",
              "      <td>23.000000</td>\n",
              "      <td>1008.000000</td>\n",
              "    </tr>\n",
              "    <tr>\n",
              "      <th>50%</th>\n",
              "      <td>31.000000</td>\n",
              "      <td>24.000000</td>\n",
              "      <td>10.000000</td>\n",
              "      <td>2.356194</td>\n",
              "      <td>1.800000</td>\n",
              "      <td>78.000000</td>\n",
              "      <td>38.000000</td>\n",
              "      <td>1010.000000</td>\n",
              "    </tr>\n",
              "    <tr>\n",
              "      <th>75%</th>\n",
              "      <td>33.000000</td>\n",
              "      <td>26.000000</td>\n",
              "      <td>14.000000</td>\n",
              "      <td>3.926991</td>\n",
              "      <td>7.500000</td>\n",
              "      <td>83.000000</td>\n",
              "      <td>58.000000</td>\n",
              "      <td>1012.000000</td>\n",
              "    </tr>\n",
              "    <tr>\n",
              "      <th>max</th>\n",
              "      <td>46.000000</td>\n",
              "      <td>32.000000</td>\n",
              "      <td>54.000000</td>\n",
              "      <td>5.890486</td>\n",
              "      <td>596.400000</td>\n",
              "      <td>100.000000</td>\n",
              "      <td>100.000000</td>\n",
              "      <td>1038.000000</td>\n",
              "    </tr>\n",
              "  </tbody>\n",
              "</table>\n",
              "</div>"
            ],
            "text/plain": [
              "                 max            min  ...          cloud       pressure\n",
              "count  181960.000000  181960.000000  ...  181960.000000  181960.000000\n",
              "mean       29.837277      23.277874  ...      41.721268    1010.229127\n",
              "std         4.571345       3.945381  ...      23.875067       4.635714\n",
              "min         4.000000       2.000000  ...       0.000000     988.000000\n",
              "25%        28.000000      21.000000  ...      23.000000    1008.000000\n",
              "50%        31.000000      24.000000  ...      38.000000    1010.000000\n",
              "75%        33.000000      26.000000  ...      58.000000    1012.000000\n",
              "max        46.000000      32.000000  ...     100.000000    1038.000000\n",
              "\n",
              "[8 rows x 8 columns]"
            ]
          },
          "metadata": {
            "tags": []
          },
          "execution_count": 22
        }
      ]
    },
    {
      "cell_type": "markdown",
      "metadata": {
        "id": "ymM84FtuV96O"
      },
      "source": [
        "# The weather.com data\n",
        "This data record in Ward/Commune/Townships level of 5 provinces in Tay Nguyen.\n",
        "\n",
        "Record start from _01 Jan 2014_ to _08 Jul 2021_.\n",
        "\n",
        "Each weather observation contain:\n",
        "\n",
        "- ward: Ward/Commune/Townships code(provided by [Fire Watch Việt Nam API](http://firewatchvn.kiemlam.org.vn/fwdata/hanhchinh/0/0))\n",
        "- date: date obsercation had been recorded.\n",
        "- max/min: highest and lowest tempeture in (celcius).\n",
        "- sunrise/sunset: sunrise and sunset time\n",
        "- 7_rain: 7 Day Precipitation (cm)\n",
        "- m_rain: [Month to Date Precipitation](https://www.sisense.com/blog/calculate-mtd-qtd-ytd/) (cm)\n",
        "- 24_rain: (cm)\n",
        "\n",
        "|ward   |date      |max|min|sunrise |sunset  |7_rain|m_rain|24_rain|\n",
        "|-------|----------|---|---|--------|--------|------|------|-------|\n",
        "|23627.0|2020-12-03|26 |23 |05:51 AM|05:13 PM|6.19  |0.27  |0.0    |\n",
        "|23627.0|2020-12-04|26 |22 |05:52 AM|05:13 PM|6.17  |0.33  |0.05   |\n",
        "|23627.0|2020-12-05|24 |22 |05:53 AM|05:14 PM|5.35  |0.48  |0.12   |\n",
        "|23627.0|2020-12-06|25 |22 |05:53 AM|05:14 PM|2.89  |0.48  |0.0    |\n",
        "|23627.0|2020-12-07|26 |23 |05:54 AM|05:14 PM|0.63  |0.63  |0.15   |\n"
      ]
    },
    {
      "cell_type": "markdown",
      "metadata": {
        "id": "EkpLt5xIyZgC"
      },
      "source": [
        "## Load data and adjustment"
      ]
    },
    {
      "cell_type": "code",
      "metadata": {
        "id": "PJY6XbwicV-7"
      },
      "source": [
        "df_ibm_weather = pd.read_csv('https://raw.githubusercontent.com/vanviethieuanh/CS114.L21/main/DoAn/ibm_weather.csv', parse_dates=['date'])"
      ],
      "execution_count": null,
      "outputs": []
    },
    {
      "cell_type": "code",
      "metadata": {
        "id": "szSsrd3zZCX9"
      },
      "source": [
        " df_ibm_weather = df_ibm_weather.drop_duplicates()"
      ],
      "execution_count": null,
      "outputs": []
    },
    {
      "cell_type": "code",
      "metadata": {
        "id": "XzVBTLip570E"
      },
      "source": [
        "# Turn sunrise and sunset time to minutes from start of the date\n",
        "df_ibm_weather['sunrise'] = df_ibm_weather['sunrise'].str.strip(' AM').apply(lambda e: int(str(e)[:2])*60 + int(str(e)[-2:]))\n",
        "df_ibm_weather['sunset'] = df_ibm_weather['sunset'].str.strip(' PM').apply(lambda e: (int(str(e)[:2])+12)*60 + int(str(e)[-2:]))\n",
        "\n",
        "df_ibm_weather['sun_mins'] = df_ibm_weather['sunset'] - df_ibm_weather['sunrise']"
      ],
      "execution_count": null,
      "outputs": []
    },
    {
      "cell_type": "code",
      "metadata": {
        "id": "r8b1jmSGidDO"
      },
      "source": [
        "# Turn precipitation to mm\n",
        "df_ibm_weather['7_rain'] = df_ibm_weather['7_rain'] * 10\n",
        "df_ibm_weather['m_rain'] = df_ibm_weather['m_rain'] * 10\n",
        "df_ibm_weather['24_rain'] = df_ibm_weather['24_rain'] * 10"
      ],
      "execution_count": null,
      "outputs": []
    },
    {
      "cell_type": "markdown",
      "metadata": {
        "id": "j2BzTScXXik8"
      },
      "source": [
        "## Inspect and cleanup"
      ]
    },
    {
      "cell_type": "markdown",
      "metadata": {
        "id": "xPpMyZd3ERGG"
      },
      "source": [
        "### Metrics"
      ]
    },
    {
      "cell_type": "code",
      "metadata": {
        "colab": {
          "base_uri": "https://localhost:8080/"
        },
        "id": "Q7ffpL3nHDe9",
        "outputId": "2bbaba6e-d6a7-46f1-81b2-aa16f2fb6be7"
      },
      "source": [
        "df_ibm_weather.info()"
      ],
      "execution_count": null,
      "outputs": [
        {
          "output_type": "stream",
          "text": [
            "<class 'pandas.core.frame.DataFrame'>\n",
            "Int64Index: 1130904 entries, 0 to 1158077\n",
            "Data columns (total 10 columns):\n",
            " #   Column    Non-Null Count    Dtype         \n",
            "---  ------    --------------    -----         \n",
            " 0   ward      1130904 non-null  float64       \n",
            " 1   date      1130904 non-null  datetime64[ns]\n",
            " 2   max       1130904 non-null  int64         \n",
            " 3   min       1130904 non-null  int64         \n",
            " 4   sunrise   1130904 non-null  int64         \n",
            " 5   sunset    1130904 non-null  int64         \n",
            " 6   7_rain    679514 non-null   float64       \n",
            " 7   m_rain    679514 non-null   float64       \n",
            " 8   24_rain   679514 non-null   float64       \n",
            " 9   sun_mins  1130904 non-null  int64         \n",
            "dtypes: datetime64[ns](1), float64(4), int64(5)\n",
            "memory usage: 94.9 MB\n"
          ],
          "name": "stdout"
        }
      ]
    },
    {
      "cell_type": "code",
      "metadata": {
        "colab": {
          "base_uri": "https://localhost:8080/"
        },
        "id": "x0Qe53itHMDG",
        "outputId": "c7419d5b-08c8-4c11-be70-eb1f28fbb6d1"
      },
      "source": [
        "df_ibm_weather.nunique()"
      ],
      "execution_count": null,
      "outputs": [
        {
          "output_type": "execute_result",
          "data": {
            "text/plain": [
              "ward         592\n",
              "date        2739\n",
              "max           25\n",
              "min           21\n",
              "sunrise       75\n",
              "sunset        74\n",
              "7_rain       644\n",
              "m_rain       976\n",
              "24_rain      231\n",
              "sun_mins     121\n",
              "dtype: int64"
            ]
          },
          "metadata": {
            "tags": []
          },
          "execution_count": 28
        }
      ]
    },
    {
      "cell_type": "code",
      "metadata": {
        "colab": {
          "base_uri": "https://localhost:8080/"
        },
        "id": "rz6wPgtoEVZm",
        "outputId": "ada0e8b0-97ac-469f-fb89-2397f841de8b"
      },
      "source": [
        "df_ibm_weather.describe()"
      ],
      "execution_count": null,
      "outputs": [
        {
          "output_type": "execute_result",
          "data": {
            "text/html": [
              "<div>\n",
              "<style scoped>\n",
              "    .dataframe tbody tr th:only-of-type {\n",
              "        vertical-align: middle;\n",
              "    }\n",
              "\n",
              "    .dataframe tbody tr th {\n",
              "        vertical-align: top;\n",
              "    }\n",
              "\n",
              "    .dataframe thead th {\n",
              "        text-align: right;\n",
              "    }\n",
              "</style>\n",
              "<table border=\"1\" class=\"dataframe\">\n",
              "  <thead>\n",
              "    <tr style=\"text-align: right;\">\n",
              "      <th></th>\n",
              "      <th>ward</th>\n",
              "      <th>max</th>\n",
              "      <th>min</th>\n",
              "      <th>sunrise</th>\n",
              "      <th>sunset</th>\n",
              "      <th>7_rain</th>\n",
              "      <th>m_rain</th>\n",
              "      <th>24_rain</th>\n",
              "      <th>sun_mins</th>\n",
              "    </tr>\n",
              "  </thead>\n",
              "  <tbody>\n",
              "    <tr>\n",
              "      <th>count</th>\n",
              "      <td>1.130904e+06</td>\n",
              "      <td>1.130904e+06</td>\n",
              "      <td>1.130904e+06</td>\n",
              "      <td>1.130904e+06</td>\n",
              "      <td>1.130904e+06</td>\n",
              "      <td>679514.000000</td>\n",
              "      <td>679514.000000</td>\n",
              "      <td>679514.000000</td>\n",
              "      <td>1.130904e+06</td>\n",
              "    </tr>\n",
              "    <tr>\n",
              "      <th>mean</th>\n",
              "      <td>2.431992e+04</td>\n",
              "      <td>3.060013e+01</td>\n",
              "      <td>2.466924e+01</td>\n",
              "      <td>3.401227e+02</td>\n",
              "      <td>1.068678e+03</td>\n",
              "      <td>33.813765</td>\n",
              "      <td>82.088195</td>\n",
              "      <td>4.797731</td>\n",
              "      <td>7.285553e+02</td>\n",
              "    </tr>\n",
              "    <tr>\n",
              "      <th>std</th>\n",
              "      <td>5.289295e+02</td>\n",
              "      <td>2.836824e+00</td>\n",
              "      <td>2.207649e+00</td>\n",
              "      <td>1.752867e+01</td>\n",
              "      <td>1.875531e+01</td>\n",
              "      <td>71.482188</td>\n",
              "      <td>153.732438</td>\n",
              "      <td>16.574482</td>\n",
              "      <td>3.121405e+01</td>\n",
              "    </tr>\n",
              "    <tr>\n",
              "      <th>min</th>\n",
              "      <td>2.334400e+04</td>\n",
              "      <td>1.800000e+01</td>\n",
              "      <td>1.400000e+01</td>\n",
              "      <td>2.760000e+02</td>\n",
              "      <td>1.031000e+03</td>\n",
              "      <td>0.000000</td>\n",
              "      <td>0.000000</td>\n",
              "      <td>0.000000</td>\n",
              "      <td>6.570000e+02</td>\n",
              "    </tr>\n",
              "    <tr>\n",
              "      <th>25%</th>\n",
              "      <td>2.384800e+04</td>\n",
              "      <td>2.900000e+01</td>\n",
              "      <td>2.300000e+01</td>\n",
              "      <td>3.270000e+02</td>\n",
              "      <td>1.054000e+03</td>\n",
              "      <td>0.500000</td>\n",
              "      <td>2.200000</td>\n",
              "      <td>0.000000</td>\n",
              "      <td>6.990000e+02</td>\n",
              "    </tr>\n",
              "    <tr>\n",
              "      <th>50%</th>\n",
              "      <td>2.421500e+04</td>\n",
              "      <td>3.100000e+01</td>\n",
              "      <td>2.500000e+01</td>\n",
              "      <td>3.360000e+02</td>\n",
              "      <td>1.074000e+03</td>\n",
              "      <td>8.100000</td>\n",
              "      <td>21.300000</td>\n",
              "      <td>0.000000</td>\n",
              "      <td>7.300000e+02</td>\n",
              "    </tr>\n",
              "    <tr>\n",
              "      <th>75%</th>\n",
              "      <td>2.481700e+04</td>\n",
              "      <td>3.200000e+01</td>\n",
              "      <td>2.600000e+01</td>\n",
              "      <td>3.550000e+02</td>\n",
              "      <td>1.083000e+03</td>\n",
              "      <td>34.700000</td>\n",
              "      <td>88.600000</td>\n",
              "      <td>2.700000</td>\n",
              "      <td>7.580000e+02</td>\n",
              "    </tr>\n",
              "    <tr>\n",
              "      <th>max</th>\n",
              "      <td>2.519200e+04</td>\n",
              "      <td>4.600000e+01</td>\n",
              "      <td>3.600000e+01</td>\n",
              "      <td>4.230000e+02</td>\n",
              "      <td>1.104000e+03</td>\n",
              "      <td>903.700000</td>\n",
              "      <td>1300.700000</td>\n",
              "      <td>419.100000</td>\n",
              "      <td>7.860000e+02</td>\n",
              "    </tr>\n",
              "  </tbody>\n",
              "</table>\n",
              "</div>"
            ],
            "text/plain": [
              "               ward           max  ...        24_rain      sun_mins\n",
              "count  1.130904e+06  1.130904e+06  ...  679514.000000  1.130904e+06\n",
              "mean   2.431992e+04  3.060013e+01  ...       4.797731  7.285553e+02\n",
              "std    5.289295e+02  2.836824e+00  ...      16.574482  3.121405e+01\n",
              "min    2.334400e+04  1.800000e+01  ...       0.000000  6.570000e+02\n",
              "25%    2.384800e+04  2.900000e+01  ...       0.000000  6.990000e+02\n",
              "50%    2.421500e+04  3.100000e+01  ...       0.000000  7.300000e+02\n",
              "75%    2.481700e+04  3.200000e+01  ...       2.700000  7.580000e+02\n",
              "max    2.519200e+04  4.600000e+01  ...     419.100000  7.860000e+02\n",
              "\n",
              "[8 rows x 9 columns]"
            ]
          },
          "metadata": {
            "tags": []
          },
          "execution_count": 29
        }
      ]
    },
    {
      "cell_type": "markdown",
      "metadata": {
        "id": "5Kc8vrsQ4Bca"
      },
      "source": [
        "### Simple analytics"
      ]
    },
    {
      "cell_type": "code",
      "metadata": {
        "colab": {
          "base_uri": "https://localhost:8080/"
        },
        "id": "IGsk9z9AAKO3",
        "outputId": "26d82111-a9c5-47b9-f30b-f17b5acb9a23"
      },
      "source": [
        "df_ibm_weather[['min','max','sun_mins']].corr()"
      ],
      "execution_count": null,
      "outputs": [
        {
          "output_type": "execute_result",
          "data": {
            "text/html": [
              "<div>\n",
              "<style scoped>\n",
              "    .dataframe tbody tr th:only-of-type {\n",
              "        vertical-align: middle;\n",
              "    }\n",
              "\n",
              "    .dataframe tbody tr th {\n",
              "        vertical-align: top;\n",
              "    }\n",
              "\n",
              "    .dataframe thead th {\n",
              "        text-align: right;\n",
              "    }\n",
              "</style>\n",
              "<table border=\"1\" class=\"dataframe\">\n",
              "  <thead>\n",
              "    <tr style=\"text-align: right;\">\n",
              "      <th></th>\n",
              "      <th>min</th>\n",
              "      <th>max</th>\n",
              "      <th>sun_mins</th>\n",
              "    </tr>\n",
              "  </thead>\n",
              "  <tbody>\n",
              "    <tr>\n",
              "      <th>min</th>\n",
              "      <td>1.000000</td>\n",
              "      <td>0.745423</td>\n",
              "      <td>0.679038</td>\n",
              "    </tr>\n",
              "    <tr>\n",
              "      <th>max</th>\n",
              "      <td>0.745423</td>\n",
              "      <td>1.000000</td>\n",
              "      <td>0.712949</td>\n",
              "    </tr>\n",
              "    <tr>\n",
              "      <th>sun_mins</th>\n",
              "      <td>0.679038</td>\n",
              "      <td>0.712949</td>\n",
              "      <td>1.000000</td>\n",
              "    </tr>\n",
              "  </tbody>\n",
              "</table>\n",
              "</div>"
            ],
            "text/plain": [
              "               min       max  sun_mins\n",
              "min       1.000000  0.745423  0.679038\n",
              "max       0.745423  1.000000  0.712949\n",
              "sun_mins  0.679038  0.712949  1.000000"
            ]
          },
          "metadata": {
            "tags": []
          },
          "execution_count": 30
        }
      ]
    },
    {
      "cell_type": "markdown",
      "metadata": {
        "id": "1t1fqV26EGXu"
      },
      "source": [
        "Because high corr between max tempeture and anothers parameter, we may need it only"
      ]
    },
    {
      "cell_type": "code",
      "metadata": {
        "colab": {
          "base_uri": "https://localhost:8080/"
        },
        "id": "YjLpUOB03mkF",
        "outputId": "bd7d1ddf-dab5-4e9e-8b60-7b78505318d7"
      },
      "source": [
        "df_ibm_weather['sun_mins'].groupby(df_ibm_weather['date']).mean().plot()"
      ],
      "execution_count": null,
      "outputs": [
        {
          "output_type": "execute_result",
          "data": {
            "text/plain": [
              "<matplotlib.axes._subplots.AxesSubplot at 0x7f0cffdcc150>"
            ]
          },
          "metadata": {
            "tags": []
          },
          "execution_count": 31
        },
        {
          "output_type": "display_data",
          "data": {
            "image/png": "[encoded data removed]",
            "text/plain": [
              "<Figure size 1440x432 with 1 Axes>"
            ]
          },
          "metadata": {
            "tags": [],
            "needs_background": "light"
          }
        }
      ]
    },
    {
      "cell_type": "code",
      "metadata": {
        "colab": {
          "base_uri": "https://localhost:8080/"
        },
        "id": "XWa9MA-o43RW",
        "outputId": "c3cdb6ec-7c7c-4a59-a37e-2ded23244b47"
      },
      "source": [
        "s_wildfire_tn = minmaxScale(df_wildfire_tn.groupby(df_wildfire_tn['date'].dt.month).size())\n",
        "s_wildfire_tn.plot(color='red', label='Count of fire')\n",
        "\n",
        "s_sun_mins = minmaxScale(df_ibm_weather['sun_mins'].groupby(df_ibm_weather['date'].dt.month).sum())\n",
        "s_sun_mins.plot(color='orange', label='Sum of sun minutes')\n",
        "\n",
        "np.corrcoef(s_wildfire_tn, s_sun_mins)\n",
        "\n",
        "plt.legend()\n",
        "plt.xlabel('Month')\n",
        "plt.title(\"Sum of sun minutes and Count of fire in months\")"
      ],
      "execution_count": null,
      "outputs": [
        {
          "output_type": "execute_result",
          "data": {
            "text/plain": [
              "Text(0.5, 1.0, 'Sum of sun minutes and Count of fire in months')"
            ]
          },
          "metadata": {
            "tags": []
          },
          "execution_count": 32
        },
        {
          "output_type": "display_data",
          "data": {
            "image/png": "[encoded data removed]",
            "text/plain": [
              "<Figure size 1440x432 with 1 Axes>"
            ]
          },
          "metadata": {
            "tags": [],
            "needs_background": "light"
          }
        }
      ]
    },
    {
      "cell_type": "markdown",
      "metadata": {
        "id": "abqduVkX8u1D"
      },
      "source": [
        "it's seem we no more need sun_mins"
      ]
    },
    {
      "cell_type": "code",
      "metadata": {
        "colab": {
          "base_uri": "https://localhost:8080/"
        },
        "id": "dm4OCZ619NXo",
        "outputId": "26f6fa8a-c0b6-4a2e-824c-69d2bf9095ad"
      },
      "source": [
        "s_wildfire_tn = minmaxScale(df_wildfire_tn.groupby(df_wildfire_tn['date'].dt.month).size())\n",
        "s_wildfire_tn.plot(color='red', label='Count of fire')\n",
        "\n",
        "s_sun_mins = minmaxScale(df_ibm_weather['24_rain'].groupby(df_ibm_weather['date'].dt.month).sum())\n",
        "s_sun_mins.plot(color='blue', label='Sum of precipitation')\n",
        "\n",
        "np.corrcoef(s_wildfire_tn, s_sun_mins)\n",
        "\n",
        "plt.legend()\n",
        "plt.xlabel('Month')\n",
        "plt.title(\"Sum of precipitation and Count of fire in months\")"
      ],
      "execution_count": null,
      "outputs": [
        {
          "output_type": "execute_result",
          "data": {
            "text/plain": [
              "Text(0.5, 1.0, 'Sum of precipitation and Count of fire in months')"
            ]
          },
          "metadata": {
            "tags": []
          },
          "execution_count": 33
        },
        {
          "output_type": "display_data",
          "data": {
            "image/png": "[encoded data removed]",
            "text/plain": [
              "<Figure size 1440x432 with 1 Axes>"
            ]
          },
          "metadata": {
            "tags": [],
            "needs_background": "light"
          }
        }
      ]
    },
    {
      "cell_type": "code",
      "metadata": {
        "colab": {
          "base_uri": "https://localhost:8080/"
        },
        "id": "VQ2VQUPc-ywT",
        "outputId": "7f483f44-5b20-43db-ff34-5e7958f44448"
      },
      "source": [
        "s_wildfire_tn = minmaxScale(df_wildfire_tn.groupby(df_wildfire_tn['date'].dt.month).size())\n",
        "s_wildfire_tn.plot(color='red', label='Count of fire')\n",
        "\n",
        "s_sun_mins = minmaxScale(df_ibm_weather['max'].groupby(df_ibm_weather['date'].dt.month).sum())\n",
        "s_sun_mins.plot(color='orange', label='Sum of max tempeture')\n",
        "\n",
        "s_sun_mins = minmaxScale(df_ibm_weather['min'].groupby(df_ibm_weather['date'].dt.month).sum())\n",
        "s_sun_mins.plot(color='blue', label='Sum of min tempeture')\n",
        "\n",
        "np.corrcoef(s_wildfire_tn, s_sun_mins)\n",
        "\n",
        "plt.legend()\n",
        "plt.xlabel('Month')\n",
        "plt.title(\"Sum of tempeture and Count of fire in months\")"
      ],
      "execution_count": null,
      "outputs": [
        {
          "output_type": "execute_result",
          "data": {
            "text/plain": [
              "Text(0.5, 1.0, 'Sum of tempeture and Count of fire in months')"
            ]
          },
          "metadata": {
            "tags": []
          },
          "execution_count": 34
        },
        {
          "output_type": "display_data",
          "data": {
            "image/png": "[encoded data removed]",
            "text/plain": [
              "<Figure size 1440x432 with 1 Axes>"
            ]
          },
          "metadata": {
            "tags": [],
            "needs_background": "light"
          }
        }
      ]
    },
    {
      "cell_type": "markdown",
      "metadata": {
        "id": "tO_E513YXlWB"
      },
      "source": [
        "## Missing and Imputation"
      ]
    },
    {
      "cell_type": "markdown",
      "metadata": {
        "id": "jcLgs2tMJyMJ"
      },
      "source": [
        "### Missing of wards weather data"
      ]
    },
    {
      "cell_type": "markdown",
      "metadata": {
        "id": "fjkyhilDRBSl"
      },
      "source": [
        "Here we list out the missing wards in the IBM weather.\n",
        "Then list out the province to see which one is lack of weather data"
      ]
    },
    {
      "cell_type": "code",
      "metadata": {
        "id": "Mzw5ojUuPph7"
      },
      "source": [
        "df_missing_wards = df_administrative_tn[~(df_administrative_tn['ward_code'].isin(df_ibm_weather['ward'].unique()))]"
      ],
      "execution_count": null,
      "outputs": []
    },
    {
      "cell_type": "code",
      "metadata": {
        "colab": {
          "base_uri": "https://localhost:8080/"
        },
        "id": "4nLRd0GbQKNW",
        "outputId": "6ffcd259-0a36-4bd2-80e7-984ce8bb3307"
      },
      "source": [
        "df_missing_wards"
      ],
      "execution_count": null,
      "outputs": [
        {
          "output_type": "execute_result",
          "data": {
            "text/html": [
              "<div>\n",
              "<style scoped>\n",
              "    .dataframe tbody tr th:only-of-type {\n",
              "        vertical-align: middle;\n",
              "    }\n",
              "\n",
              "    .dataframe tbody tr th {\n",
              "        vertical-align: top;\n",
              "    }\n",
              "\n",
              "    .dataframe thead th {\n",
              "        text-align: right;\n",
              "    }\n",
              "</style>\n",
              "<table border=\"1\" class=\"dataframe\">\n",
              "  <thead>\n",
              "    <tr style=\"text-align: right;\">\n",
              "      <th></th>\n",
              "      <th>province</th>\n",
              "      <th>province_code</th>\n",
              "      <th>district</th>\n",
              "      <th>district_code</th>\n",
              "      <th>ward</th>\n",
              "      <th>ward_code</th>\n",
              "    </tr>\n",
              "  </thead>\n",
              "  <tbody>\n",
              "    <tr>\n",
              "      <th>1864</th>\n",
              "      <td>Đắk Lắk</td>\n",
              "      <td>66</td>\n",
              "      <td>Buôn Ma Thuột</td>\n",
              "      <td>643</td>\n",
              "      <td>P. Ea Tam</td>\n",
              "      <td>24151</td>\n",
              "    </tr>\n",
              "    <tr>\n",
              "      <th>1872</th>\n",
              "      <td>Đắk Lắk</td>\n",
              "      <td>66</td>\n",
              "      <td>Buôn Ma Thuột</td>\n",
              "      <td>643</td>\n",
              "      <td>P. Thắng Lợi</td>\n",
              "      <td>24133</td>\n",
              "    </tr>\n",
              "    <tr>\n",
              "      <th>2032</th>\n",
              "      <td>Đắk Lắk</td>\n",
              "      <td>66</td>\n",
              "      <td>TX. Buôn Hồ</td>\n",
              "      <td>644</td>\n",
              "      <td>P. Thống Nhất</td>\n",
              "      <td>24331</td>\n",
              "    </tr>\n",
              "    <tr>\n",
              "      <th>2609</th>\n",
              "      <td>Gia Lai</td>\n",
              "      <td>64</td>\n",
              "      <td>Chư Păh</td>\n",
              "      <td>627</td>\n",
              "      <td>Hòa Phú</td>\n",
              "      <td>23743</td>\n",
              "    </tr>\n",
              "    <tr>\n",
              "      <th>2610</th>\n",
              "      <td>Gia Lai</td>\n",
              "      <td>64</td>\n",
              "      <td>Chư Păh</td>\n",
              "      <td>627</td>\n",
              "      <td>Ia Ka</td>\n",
              "      <td>23749</td>\n",
              "    </tr>\n",
              "    <tr>\n",
              "      <th>...</th>\n",
              "      <td>...</td>\n",
              "      <td>...</td>\n",
              "      <td>...</td>\n",
              "      <td>...</td>\n",
              "      <td>...</td>\n",
              "      <td>...</td>\n",
              "    </tr>\n",
              "    <tr>\n",
              "      <th>5626</th>\n",
              "      <td>Kon Tum</td>\n",
              "      <td>62</td>\n",
              "      <td>Tu Mơ Rông</td>\n",
              "      <td>617</td>\n",
              "      <td>Tu Mơ Rông</td>\n",
              "      <td>23422</td>\n",
              "    </tr>\n",
              "    <tr>\n",
              "      <th>5756</th>\n",
              "      <td>Lâm Đồng</td>\n",
              "      <td>68</td>\n",
              "      <td>Bảo Lộc</td>\n",
              "      <td>673</td>\n",
              "      <td>P. 2</td>\n",
              "      <td>24820</td>\n",
              "    </tr>\n",
              "    <tr>\n",
              "      <th>5757</th>\n",
              "      <td>Lâm Đồng</td>\n",
              "      <td>68</td>\n",
              "      <td>Bảo Lộc</td>\n",
              "      <td>673</td>\n",
              "      <td>P. B'lao</td>\n",
              "      <td>24826</td>\n",
              "    </tr>\n",
              "    <tr>\n",
              "      <th>5786</th>\n",
              "      <td>Lâm Đồng</td>\n",
              "      <td>68</td>\n",
              "      <td>Đà Lạt</td>\n",
              "      <td>672</td>\n",
              "      <td>P. 2</td>\n",
              "      <td>24781</td>\n",
              "    </tr>\n",
              "    <tr>\n",
              "      <th>5790</th>\n",
              "      <td>Lâm Đồng</td>\n",
              "      <td>68</td>\n",
              "      <td>Đà Lạt</td>\n",
              "      <td>672</td>\n",
              "      <td>P. 6</td>\n",
              "      <td>24787</td>\n",
              "    </tr>\n",
              "  </tbody>\n",
              "</table>\n",
              "<p>134 rows × 6 columns</p>\n",
              "</div>"
            ],
            "text/plain": [
              "      province  province_code  ...           ward  ward_code\n",
              "1864   Đắk Lắk             66  ...      P. Ea Tam      24151\n",
              "1872   Đắk Lắk             66  ...   P. Thắng Lợi      24133\n",
              "2032   Đắk Lắk             66  ...  P. Thống Nhất      24331\n",
              "2609   Gia Lai             64  ...        Hòa Phú      23743\n",
              "2610   Gia Lai             64  ...          Ia Ka      23749\n",
              "...        ...            ...  ...            ...        ...\n",
              "5626   Kon Tum             62  ...     Tu Mơ Rông      23422\n",
              "5756  Lâm Đồng             68  ...           P. 2      24820\n",
              "5757  Lâm Đồng             68  ...       P. B'lao      24826\n",
              "5786  Lâm Đồng             68  ...           P. 2      24781\n",
              "5790  Lâm Đồng             68  ...           P. 6      24787\n",
              "\n",
              "[134 rows x 6 columns]"
            ]
          },
          "metadata": {
            "tags": []
          },
          "execution_count": 36
        }
      ]
    },
    {
      "cell_type": "markdown",
      "metadata": {
        "id": "WxMb2YjVRgY_"
      },
      "source": [
        "It's seem like the only Dak Nong not lack any data"
      ]
    },
    {
      "cell_type": "markdown",
      "metadata": {
        "id": "6tHDykpUaNmR"
      },
      "source": [
        "The list bellow is list of ward that don't have any data, we have some date in our data where a lot of ward's data missing"
      ]
    },
    {
      "cell_type": "code",
      "metadata": {
        "colab": {
          "base_uri": "https://localhost:8080/"
        },
        "id": "aPjyWY18afB4",
        "outputId": "d2558348-cbac-4036-ce92-c73682ebe7c6"
      },
      "source": [
        "df_ibm_weather.groupby(df_ibm_weather['date']).size().plot(ylabel='wards')"
      ],
      "execution_count": null,
      "outputs": [
        {
          "output_type": "execute_result",
          "data": {
            "text/plain": [
              "<matplotlib.axes._subplots.AxesSubplot at 0x7f0cfbff3510>"
            ]
          },
          "metadata": {
            "tags": []
          },
          "execution_count": 37
        },
        {
          "output_type": "display_data",
          "data": {
            "image/png": "[encoded data removed]",
            "text/plain": [
              "<Figure size 1440x432 with 1 Axes>"
            ]
          },
          "metadata": {
            "tags": [],
            "needs_background": "light"
          }
        }
      ]
    },
    {
      "cell_type": "markdown",
      "metadata": {
        "id": "qmiPZX4wLL2s"
      },
      "source": [
        "### Missing of precipitation data"
      ]
    },
    {
      "cell_type": "code",
      "metadata": {
        "colab": {
          "base_uri": "https://localhost:8080/"
        },
        "id": "89ifdREILSnN",
        "outputId": "6b5c8fbc-9170-4c79-9b68-c9adf3095ac3"
      },
      "source": [
        "msno.matrix(df_ibm_weather.sort_values(['date', 'ward']))"
      ],
      "execution_count": null,
      "outputs": [
        {
          "output_type": "execute_result",
          "data": {
            "text/plain": [
              "<matplotlib.axes._subplots.AxesSubplot at 0x7f0cfa84a350>"
            ]
          },
          "metadata": {
            "tags": []
          },
          "execution_count": 38
        },
        {
          "output_type": "display_data",
          "data": {
            "image/png": "[encoded data removed]",
            "text/plain": [
              "<Figure size 1800x720 with 2 Axes>"
            ]
          },
          "metadata": {
            "tags": [],
            "needs_background": "light"
          }
        }
      ]
    },
    {
      "cell_type": "markdown",
      "metadata": {
        "id": "D1kvpFTaRdyC"
      },
      "source": [
        "It's seem like we missing data by time, before some magic date we miss all our data. One more thing is 3 precipitation columns (m/7/24 rain) seem like missing together. So let find out the date and if they missing together"
      ]
    },
    {
      "cell_type": "code",
      "metadata": {
        "colab": {
          "base_uri": "https://localhost:8080/"
        },
        "id": "4XZjtz9gMBGM",
        "outputId": "c059e6db-9dca-4dcb-b144-bb971f632e63"
      },
      "source": [
        "# Check if 3 precipitation columns are nan together\n",
        "\n",
        "s_7_rain_isna = df_ibm_weather['m_rain'].isna().astype(int).copy()\n",
        "s_m_rain_isna = df_ibm_weather['7_rain'].isna().astype(int).copy()\n",
        "s_24_rain_isna = df_ibm_weather['24_rain'].isna().astype(int).copy()\n",
        "\n",
        "s_isna_together = s_7_rain_isna + s_m_rain_isna + s_24_rain_isna\n",
        "s_isna_together = (s_isna_together == 0) | (s_isna_together == 3)\n",
        "\n",
        "print(\"3 precipitation columns is\", \"\\b\" if s_isna_together.value_counts().loc[True] == df_ibm_weather.shape[0] else \"not\", \"nan together\")"
      ],
      "execution_count": null,
      "outputs": [
        {
          "output_type": "stream",
          "text": [
            "3 precipitation columns is \b nan together\n"
          ],
          "name": "stdout"
        }
      ]
    },
    {
      "cell_type": "code",
      "metadata": {
        "colab": {
          "base_uri": "https://localhost:8080/"
        },
        "id": "ynXsK04DPkm9",
        "outputId": "3367c4bb-fa7f-4378-d480-908c94713953"
      },
      "source": [
        "# Plot missing value by date\n",
        "\n",
        "mpl.rcParams['figure.figsize'] = (20, 4)\n",
        "\n",
        "s_missing_rain_by_date = df_ibm_weather['24_rain'].isnull().groupby(df_ibm_weather['date']).sum()\n",
        "s_missing_rain_by_date.plot()\n",
        "\n",
        "# Plot missing in a range\n",
        "s_missing_rain_by_date[(s_missing_rain_by_date.index.date > datetime.date(day=1, month=1, year=2016)) & (s_missing_rain_by_date.index.date < datetime.date(day=1, month=1, year=2017))].plot(ylabel='missing')"
      ],
      "execution_count": null,
      "outputs": [
        {
          "output_type": "execute_result",
          "data": {
            "text/plain": [
              "<matplotlib.axes._subplots.AxesSubplot at 0x7f0cf6ad7250>"
            ]
          },
          "metadata": {
            "tags": []
          },
          "execution_count": 40
        },
        {
          "output_type": "display_data",
          "data": {
            "image/png": "[encoded data removed]",
            "text/plain": [
              "<Figure size 1440x288 with 1 Axes>"
            ]
          },
          "metadata": {
            "tags": [],
            "needs_background": "light"
          }
        }
      ]
    },
    {
      "cell_type": "markdown",
      "metadata": {
        "id": "eYwaPlnXRQi_"
      },
      "source": [
        "It's seem like after 2017 we have all precipitation data"
      ]
    },
    {
      "cell_type": "code",
      "metadata": {
        "colab": {
          "base_uri": "https://localhost:8080/"
        },
        "id": "IU-I3uwwR8q2",
        "outputId": "52bf3cd8-6d9e-4797-f4cf-e28d3a3a28f1"
      },
      "source": [
        "# Plot missing value in 2016\n",
        "\n",
        "s_missing_rain_by_date[(s_missing_rain_by_date.index.date > datetime.date(day=1, month=1, year=2016)) & (s_missing_rain_by_date.index.date < datetime.date(day=1, month=1, year=2017))].plot()\n",
        "s_missing_rain_by_date[(s_missing_rain_by_date.index.date > datetime.date(day=20, month=4, year=2016)) & (s_missing_rain_by_date.index.date < datetime.date(day=1, month=5, year=2016))].plot(ylabel='missing')"
      ],
      "execution_count": null,
      "outputs": [
        {
          "output_type": "execute_result",
          "data": {
            "text/plain": [
              "<matplotlib.axes._subplots.AxesSubplot at 0x7f0cf717d750>"
            ]
          },
          "metadata": {
            "tags": []
          },
          "execution_count": 41
        },
        {
          "output_type": "display_data",
          "data": {
            "image/png": "[encoded data removed]",
            "text/plain": [
              "<Figure size 1440x288 with 1 Axes>"
            ]
          },
          "metadata": {
            "tags": [],
            "needs_background": "light"
          }
        }
      ]
    },
    {
      "cell_type": "code",
      "metadata": {
        "colab": {
          "base_uri": "https://localhost:8080/"
        },
        "id": "bqNsWBcnV0BA",
        "outputId": "d9eca8c9-82c9-4329-9de3-2521b4ad77a1"
      },
      "source": [
        "s_missing_rain_by_date[(s_missing_rain_by_date.index.date > datetime.date(day=20, month=4, year=2016)) & (s_missing_rain_by_date.index.date < datetime.date(day=1, month=5, year=2016))].plot(ylabel='missing')"
      ],
      "execution_count": null,
      "outputs": [
        {
          "output_type": "execute_result",
          "data": {
            "text/plain": [
              "<matplotlib.axes._subplots.AxesSubplot at 0x7f0cf6ad72d0>"
            ]
          },
          "metadata": {
            "tags": []
          },
          "execution_count": 42
        },
        {
          "output_type": "display_data",
          "data": {
            "image/png": "[encoded data removed]",
            "text/plain": [
              "<Figure size 1440x288 with 1 Axes>"
            ]
          },
          "metadata": {
            "tags": [],
            "needs_background": "light"
          }
        }
      ]
    },
    {
      "cell_type": "markdown",
      "metadata": {
        "id": "Er1LVCVSV-SW"
      },
      "source": [
        "Check if after 25 Apr 2016 we have any nan"
      ]
    },
    {
      "cell_type": "code",
      "metadata": {
        "colab": {
          "base_uri": "https://localhost:8080/"
        },
        "id": "_KuZYyL0WGZp",
        "outputId": "eea6f3ca-4c53-48e9-d9f7-ca2f845841e2"
      },
      "source": [
        "check_date = datetime.date(day=25, month=4, year=2016)\n",
        "if s_missing_rain_by_date[(s_missing_rain_by_date.index.date > check_date) & (s_missing_rain_by_date > 0)].count() == 0:\n",
        "  print('After', check_date.strftime('%d-%b-%Y'), 'no cell is null')"
      ],
      "execution_count": null,
      "outputs": [
        {
          "output_type": "stream",
          "text": [
            "After 25-Apr-2016 no cell is null\n"
          ],
          "name": "stdout"
        }
      ]
    },
    {
      "cell_type": "markdown",
      "metadata": {
        "id": "-RYs3z2Hahza"
      },
      "source": [
        "### Imputation"
      ]
    },
    {
      "cell_type": "markdown",
      "metadata": {
        "id": "5kS9SEL-nPXg"
      },
      "source": [
        "#### Analytics"
      ]
    },
    {
      "cell_type": "markdown",
      "metadata": {
        "id": "tEAfsah4c7pk"
      },
      "source": [
        "Summary of missing data and having data"
      ]
    },
    {
      "cell_type": "code",
      "metadata": {
        "colab": {
          "base_uri": "https://localhost:8080/"
        },
        "id": "RtTwYmEFc2qQ",
        "outputId": "bcab86c0-e6b3-4016-d832-7fe89718d638"
      },
      "source": [
        "s_missing_rain_by_date.plot(color='red', alpha=0.5)\n",
        "df_ibm_weather.groupby(df_ibm_weather['date']).size().plot(color='green', alpha=0.5)"
      ],
      "execution_count": null,
      "outputs": [
        {
          "output_type": "execute_result",
          "data": {
            "text/plain": [
              "<matplotlib.axes._subplots.AxesSubplot at 0x7f0cfa784e50>"
            ]
          },
          "metadata": {
            "tags": []
          },
          "execution_count": 44
        },
        {
          "output_type": "display_data",
          "data": {
            "image/png": "[encoded data removed]",
            "text/plain": [
              "<Figure size 1440x288 with 1 Axes>"
            ]
          },
          "metadata": {
            "tags": [],
            "needs_background": "light"
          }
        }
      ]
    },
    {
      "cell_type": "markdown",
      "metadata": {
        "id": "Z5ZK27fHc5Lr"
      },
      "source": [
        "\n",
        "For imputation the data from **Administrative center** is neccessary if we want to imputate data with a deep-learning model. We will check if the administrative center is on the WWO weather dataframe or not."
      ]
    },
    {
      "cell_type": "code",
      "metadata": {
        "colab": {
          "base_uri": "https://localhost:8080/"
        },
        "id": "CDO6DOUWaxP9",
        "outputId": "7a520392-00ae-45c4-c962-518d938dc494"
      },
      "source": [
        "df_wwo_weather['province'].unique()"
      ],
      "execution_count": null,
      "outputs": [
        {
          "output_type": "execute_result",
          "data": {
            "text/plain": [
              "array(['Bac Lieu', 'Ho Chi Minh City', 'Tam Ky', 'Ben Tre', 'Hoa Binh',\n",
              "       'Tan An', 'Bien Hoa', 'Hong Gai', 'Thai Nguyen', 'Buon Me Thuot',\n",
              "       'Hue', 'Thanh Hoa', 'Ca Mau', 'Long Xuyen', 'Tra Vinh', 'Cam Pha',\n",
              "       'My Tho', 'Tuy Hoa', 'Cam Ranh', 'Nam Dinh', 'Uong Bi', 'Can Tho',\n",
              "       'Nha Trang', 'Viet Tri', 'Chau Doc', 'Phan Rang', 'Vinh', 'Da Lat',\n",
              "       'Phan Thiet', 'Vinh Long', 'Ha Noi', 'Play Cu', 'Vung Tau',\n",
              "       'Hai Duong', 'Qui Nhon', 'Yen Bai', 'Hai Phong', 'Rach Gia',\n",
              "       'Hanoi', 'Soc Trang'], dtype=object)"
            ]
          },
          "metadata": {
            "tags": []
          },
          "execution_count": 45
        }
      ]
    },
    {
      "cell_type": "markdown",
      "metadata": {
        "id": "IMKFCgSDaz6Y"
      },
      "source": [
        "Luckly we have 3/4 administrative center:\n",
        "- 'Buon Me Thuot' for 'Đắk Lắk'\n",
        "- 'Play Cu' for 'Gia Lai'\n",
        "- 'Da Lat' for 'Lâm Đồng'\n",
        "\n",
        "So for next step we will filter out the data from WWO weather dataframe and map it to the province code that it stay in."
      ]
    },
    {
      "cell_type": "code",
      "metadata": {
        "id": "qxByXlkaa786"
      },
      "source": [
        "# Filter the data from WWO weather and rename the administrative center\n",
        "# to the province\n",
        "#\n",
        "df_wwo_weather_tn = df_wwo_weather[df_wwo_weather['province'].isin(['Buon Me Thuot','Play Cu','Da Lat'])].copy()\n",
        "df_wwo_weather_tn['province'] = df_wwo_weather_tn['province'].replace({\n",
        "    'Buon Me Thuot':'Đắk Lắk',\n",
        "    'Play Cu':'Gia Lai',\n",
        "    'Da Lat':'Lâm Đồng',\n",
        "    })\n",
        "\n",
        "#\n",
        "# Map to the ward code\n",
        "#\n",
        "province_tn = df_administrative_tn[['province', 'province_code']].drop_duplicates(keep='first').set_index('province', drop=True).to_dict()['province_code']\n",
        "df_wwo_weather_tn['province_code'] = df_wwo_weather_tn['province'].apply(lambda x: province_tn[x])\n",
        "\n",
        "df_wwo_weather_tn = df_wwo_weather_tn.reset_index(drop=True)"
      ],
      "execution_count": null,
      "outputs": []
    },
    {
      "cell_type": "markdown",
      "metadata": {
        "id": "DyuQnV5Lcdu-"
      },
      "source": [
        "Extract data from 2017 to 2020 for analytics because we know after 2017 for each individual record, we have no nan data"
      ]
    },
    {
      "cell_type": "code",
      "metadata": {
        "id": "W7hdSsq3cdW_"
      },
      "source": [
        "df_ibm_weather_not_null =  df_ibm_weather[(df_ibm_weather.date.dt.year > 2016) & (df_ibm_weather.date.dt.year < 2021)]"
      ],
      "execution_count": null,
      "outputs": []
    },
    {
      "cell_type": "markdown",
      "metadata": {
        "id": "FryToevgkEm4"
      },
      "source": [
        "We must make a decision, or imputation with deep learning or imputation with administrative center data.\n",
        "\n",
        "- For a deep learning method we must to check how replication it is\n",
        "- For second method we need to watch the standard derivative of wards in same date and see how large the mean is"
      ]
    },
    {
      "cell_type": "markdown",
      "metadata": {
        "id": "VUpvwZ_Ak_Km"
      },
      "source": [
        "check how replication it is"
      ]
    },
    {
      "cell_type": "code",
      "metadata": {
        "colab": {
          "base_uri": "https://localhost:8080/"
        },
        "id": "30qkFEvLko4M",
        "outputId": "fd551b5f-8cb2-4535-dfc8-b0cfd674a3ac"
      },
      "source": [
        "df = df_ibm_weather_not_null.groupby(df_ibm_weather_not_null['date']).mean()\n",
        "\n",
        "fft = tf.signal.rfft(df['24_rain'])\n",
        "f_per_dataset = np.arange(0, len(fft))\n",
        "\n",
        "n_samples_h = len(df['24_rain'])\n",
        "days_per_year = 365.2524\n",
        "years_per_dataset = n_samples_h/(days_per_year)\n",
        "\n",
        "f_per_year = f_per_dataset/years_per_dataset\n",
        "plt.step(f_per_year, np.abs(fft))\n",
        "plt.xscale('log')\n",
        "plt.ylim(0, 5000)\n",
        "plt.xlim([0.1, max(plt.xlim())])\n",
        "plt.xticks([1, 31 ,365.2524], labels=['1/Year','1/month','1/day'])\n",
        "_ = plt.xlabel('Frequency (log scale)')"
      ],
      "execution_count": null,
      "outputs": [
        {
          "output_type": "display_data",
          "data": {
            "image/png": "[encoded data removed]",
            "text/plain": [
              "<Figure size 1440x288 with 1 Axes>"
            ]
          },
          "metadata": {
            "tags": [],
            "needs_background": "light"
          }
        }
      ]
    },
    {
      "cell_type": "markdown",
      "metadata": {
        "id": "y-m6ZFBynMdz"
      },
      "source": [
        "Look like we have 1 year replication, now let take a look at second choice"
      ]
    },
    {
      "cell_type": "code",
      "metadata": {
        "colab": {
          "base_uri": "https://localhost:8080/"
        },
        "id": "EmwpDDeRg-kl",
        "outputId": "96d85266-4be9-49d5-9220-a8a25521c306"
      },
      "source": [
        "df_ibm_weather_not_null.groupby(df_ibm_weather_not_null['date']).std().drop(['ward'], axis=1).mean()"
      ],
      "execution_count": null,
      "outputs": [
        {
          "output_type": "execute_result",
          "data": {
            "text/plain": [
              "max          1.187438\n",
              "min          0.494418\n",
              "sunrise      2.396685\n",
              "sunset       2.295063\n",
              "7_rain      18.609245\n",
              "m_rain      40.864755\n",
              "24_rain      3.178498\n",
              "sun_mins     3.132486\n",
              "dtype: float64"
            ]
          },
          "metadata": {
            "tags": []
          },
          "execution_count": 49
        }
      ]
    },
    {
      "cell_type": "markdown",
      "metadata": {
        "id": "3Znnth4fnUoN"
      },
      "source": [
        "The mean of standard derivative of daily rain between wards is 3.17 approximately 19.125% std of this column"
      ]
    },
    {
      "cell_type": "code",
      "metadata": {
        "colab": {
          "base_uri": "https://localhost:8080/"
        },
        "id": "1SJsJ970odu_",
        "outputId": "7f6ad9cb-214d-4dc7-ee98-0fe8ab5fd66b"
      },
      "source": [
        "sns.lineplot(data=df_wwo_weather_tn, x='date', y='rain')"
      ],
      "execution_count": null,
      "outputs": [
        {
          "output_type": "execute_result",
          "data": {
            "text/plain": [
              "<matplotlib.axes._subplots.AxesSubplot at 0x7f0cf765ee90>"
            ]
          },
          "metadata": {
            "tags": []
          },
          "execution_count": 50
        },
        {
          "output_type": "display_data",
          "data": {
            "image/png": "[encoded data removed]",
            "text/plain": [
              "<Figure size 1440x288 with 1 Axes>"
            ]
          },
          "metadata": {
            "tags": [],
            "needs_background": "light"
          }
        }
      ]
    },
    {
      "cell_type": "markdown",
      "metadata": {
        "id": "PMHpJW6_sgta"
      },
      "source": [
        "calculate differrence of wwo weather data and ibm weather data"
      ]
    },
    {
      "cell_type": "code",
      "metadata": {
        "id": "s_VrTMRHqUhW"
      },
      "source": [
        "df = pd.merge(df_ibm_weather_not_null, df_administrative_tn[['ward_code','province_code']], how='inner', left_on='ward', right_on='ward_code')"
      ],
      "execution_count": null,
      "outputs": []
    },
    {
      "cell_type": "code",
      "metadata": {
        "id": "CQgWLaePrSEY"
      },
      "source": [
        "df = pd.merge(df, df_wwo_weather_tn, how='left', on=['province_code','date'])"
      ],
      "execution_count": null,
      "outputs": []
    },
    {
      "cell_type": "code",
      "metadata": {
        "colab": {
          "base_uri": "https://localhost:8080/"
        },
        "id": "pslZXzU3sqB9",
        "outputId": "cf3a107e-1a01-4235-935d-65b8bdbd4273"
      },
      "source": [
        "print(\"Mean of differrence:\", ((df['rain'] - df['24_rain']).abs()).mean())"
      ],
      "execution_count": null,
      "outputs": [
        {
          "output_type": "stream",
          "text": [
            "Mean of differrence: 12.179148017546238\n"
          ],
          "name": "stdout"
        }
      ]
    },
    {
      "cell_type": "markdown",
      "metadata": {
        "id": "eGaiYTvPqG6j"
      },
      "source": [
        "#### Imputation with administrative center"
      ]
    },
    {
      "cell_type": "markdown",
      "metadata": {
        "id": "bGd7gduitnKN"
      },
      "source": [
        "Imputation"
      ]
    },
    {
      "cell_type": "code",
      "metadata": {
        "id": "5HsrpikMou5u"
      },
      "source": [
        "# Filter the data from WWO weather and rename the administrative center\n",
        "# to the province\n",
        "#\n",
        "df_wwo_weather_tn = df_wwo_weather[df_wwo_weather['province'].isin(['Buon Me Thuot','Play Cu','Da Lat'])].copy()\n",
        "df_wwo_weather_tn['province'] = df_wwo_weather_tn['province'].replace({\n",
        "    'Buon Me Thuot':'Đắk Lắk',\n",
        "    'Play Cu':'Gia Lai',\n",
        "    'Da Lat':'Lâm Đồng',\n",
        "    })\n",
        "\n",
        "#\n",
        "# Map to the ward code\n",
        "#\n",
        "province_tn = df_administrative_tn[['province', 'province_code']].drop_duplicates(keep='first').set_index('province', drop=True).to_dict()['province_code']\n",
        "df_wwo_weather_tn['province_code'] = df_wwo_weather_tn['province'].apply(lambda x: province_tn[x])\n",
        "\n",
        "df_wwo_weather_tn = df_wwo_weather_tn.reset_index(drop=True)"
      ],
      "execution_count": null,
      "outputs": []
    },
    {
      "cell_type": "code",
      "metadata": {
        "id": "VKLBRHEZuJft"
      },
      "source": [
        "# Create replacement df contain data imputation from wwo data to each ward of that province, drop province_code because don't need more\n",
        "df_replacement = pd.merge(df_wwo_weather_tn, df_administrative_tn[['province_code', 'ward_code']], on=['province_code'], how='outer').dropna().drop(['province_code'], axis=1)\n",
        "\n",
        "# Merge with ibm weather the for show missing data, drop ward because ward columns of IBM data will be NaN if ward do not have data in that date\n",
        "df = pd.merge(df_ibm_weather, df_replacement, how='right', left_on=['ward','date'], right_on=['ward_code','date']).drop(['ward'], axis=1)"
      ],
      "execution_count": null,
      "outputs": []
    },
    {
      "cell_type": "code",
      "metadata": {
        "id": "JM33skd7wpz4"
      },
      "source": [
        "df['max_x'] = df['max_x'].fillna(df['max_y'])\n",
        "df['min_x'] = df['min_x'].fillna(df['min_y'])\n",
        "df['24_rain'] = df['24_rain'].fillna(df['rain'])"
      ],
      "execution_count": null,
      "outputs": []
    },
    {
      "cell_type": "code",
      "metadata": {
        "id": "uBEgKFncDd__"
      },
      "source": [
        "df_ibm_weather_imputated_3 = df"
      ],
      "execution_count": null,
      "outputs": []
    },
    {
      "cell_type": "markdown",
      "metadata": {
        "id": "Hg-wKsUoXyQS"
      },
      "source": [
        "# Data windowing\n"
      ]
    },
    {
      "cell_type": "code",
      "metadata": {
        "id": "guX2ZEbXdaS7"
      },
      "source": [
        "def expand(x,y):\n",
        "  return tf.expand_dims(x,axis=-1),y\n",
        "\n",
        "def concatDataset(data, ward_code_column ,wards,columns):\n",
        "  for i, w in enumerate(wards):\n",
        "    df = data[data[ward_code_column] == w][columns].to_numpy()\n",
        "    inputs, targets = df[:,:-1], df[:,-1:]\n",
        "    \n",
        "    ds = tf.keras.preprocessing.timeseries_dataset_from_array(data=inputs, targets=targets, sequence_length=30, sequence_stride=1, sampling_rate=1, batch_size=256, shuffle=True, seed=20)\n",
        "    ds = ds.map(expand)\n",
        "    if i == 0:\n",
        "      dataset = ds\n",
        "    else:\n",
        "      dataset = dataset.concatenate(ds)\n",
        "  return dataset\n",
        "  "
      ],
      "execution_count": null,
      "outputs": []
    },
    {
      "cell_type": "markdown",
      "metadata": {
        "id": "N0qoWsIqyeJk"
      },
      "source": [
        "## Whole 5 province in Tay Nguyen\n",
        "\n",
        "**Time range**\n",
        "01 Jan 2017 - 31 Dec 2020\n",
        "\n",
        "**Unit level**\n",
        "third\n",
        "\n",
        "Input:\n",
        "- 30 last days max tempeture (celcius) (convert to 30 columns)\n",
        "- 30 last days Precipitation (mm) (24_rain) (convert to 30 columns)\n",
        "- 30 last days wind_x, win_y: `wind.cos(wind_d)`, `wind.sin(wind_d)`\n",
        "- 30 last days humidi: Humidity\n",
        "- day of year (1-366)\n",
        "\n",
        "Output:\n",
        "- Number of fires"
      ]
    },
    {
      "cell_type": "markdown",
      "metadata": {
        "id": "hHSWlsshW7_s"
      },
      "source": [
        "Model 1"
      ]
    },
    {
      "cell_type": "code",
      "metadata": {
        "id": "bl53PFW_Ssei"
      },
      "source": [
        "def MinMaxScale(df, columns):\n",
        "  for c in columns:\n",
        "    df[c] = (df[c]-df[c].min())/(df[c].max()-df[c].min())\n",
        "  return df"
      ],
      "execution_count": null,
      "outputs": []
    },
    {
      "cell_type": "code",
      "metadata": {
        "id": "iGgi661DRCDv"
      },
      "source": [
        "df_ibm_weather_5 = df_ibm_weather_imputated_3.copy()\n",
        "df_ibm_weather_5"
      ],
      "execution_count": null,
      "outputs": []
    },
    {
      "cell_type": "code",
      "metadata": {
        "id": "_Pe2NW9YSpe3"
      },
      "source": [
        "df_ibm_weather_5.nunique()"
      ],
      "execution_count": null,
      "outputs": []
    },
    {
      "cell_type": "code",
      "metadata": {
        "id": "iHtketsoSuY9"
      },
      "source": [
        "# columns for training\n",
        "COLUMNS = ['max','rain','wind','humidi','doy','ward_code','fires']"
      ],
      "execution_count": null,
      "outputs": []
    },
    {
      "cell_type": "code",
      "metadata": {
        "id": "RkDI8oVrqKHw"
      },
      "source": [
        "# drop unneccessary features\n",
        "df_ibm_weather_5 = df_ibm_weather_5.drop(['min_x','sun_mins','wind_d','cloud','pressure','sunset','sunrise','7_rain', 'm_rain','province','max_y','min_y','rain'], axis=1)\n",
        "df_ibm_weather_5 = df_ibm_weather_5.rename(columns={'max_x':'max','24_rain':'rain'})\n",
        "\n",
        "# get data after 2017 and before 2021\n",
        "df_ibm_weather_5 = df_ibm_weather_5.loc[df_ibm_weather_5['date'].dt.year >= 2017]\n",
        "df_ibm_weather_5 = df_ibm_weather_5.loc[df_ibm_weather_5['date'].dt.year <= 2020]\n",
        "\n",
        "# count fires\n",
        "df_fire_count = df_wildfire_tn.groupby(['ward_code','date']).size().reset_index(name='fires')\n",
        "\n",
        "# merge fire with weather\n",
        "df_dataset_5 = pd.merge(df_fire_count,df_ibm_weather_5,how='right' ,on=['ward_code','date'])\n",
        "\n",
        "# create day of year column\n",
        "df_dataset_5['doy'] = df_dataset_5['date'].dt.dayofyear\n",
        "\n",
        "# rearange features\n",
        "df_dataset_5 = df_dataset_5[['fires','date','ward_code','doy','max','rain','wind','humidi']]\n",
        "\n",
        "# sort data by date\n",
        "df_dataset_5 = df_dataset_5.sort_values(['ward_code','date'])\n",
        "\n",
        "# reset index\n",
        "df_dataset_5 = df_dataset_5.reset_index(drop=True)"
      ],
      "execution_count": null,
      "outputs": []
    },
    {
      "cell_type": "code",
      "metadata": {
        "colab": {
          "base_uri": "https://localhost:8080/",
          "height": 419
        },
        "id": "XJczfc5jx41h",
        "outputId": "d0ffd703-5c1d-47f7-9bc3-df5a9d725873"
      },
      "source": [
        "df_dataset_5"
      ],
      "execution_count": null,
      "outputs": [
        {
          "output_type": "execute_result",
          "data": {
            "text/html": [
              "<div>\n",
              "<style scoped>\n",
              "    .dataframe tbody tr th:only-of-type {\n",
              "        vertical-align: middle;\n",
              "    }\n",
              "\n",
              "    .dataframe tbody tr th {\n",
              "        vertical-align: top;\n",
              "    }\n",
              "\n",
              "    .dataframe thead th {\n",
              "        text-align: right;\n",
              "    }\n",
              "</style>\n",
              "<table border=\"1\" class=\"dataframe\">\n",
              "  <thead>\n",
              "    <tr style=\"text-align: right;\">\n",
              "      <th></th>\n",
              "      <th>fires</th>\n",
              "      <th>date</th>\n",
              "      <th>ward_code</th>\n",
              "      <th>doy</th>\n",
              "      <th>max</th>\n",
              "      <th>rain</th>\n",
              "      <th>wind</th>\n",
              "      <th>humidi</th>\n",
              "    </tr>\n",
              "  </thead>\n",
              "  <tbody>\n",
              "    <tr>\n",
              "      <th>0</th>\n",
              "      <td>NaN</td>\n",
              "      <td>2017-01-01</td>\n",
              "      <td>23557</td>\n",
              "      <td>1</td>\n",
              "      <td>28.0</td>\n",
              "      <td>5.8</td>\n",
              "      <td>17.0</td>\n",
              "      <td>83.0</td>\n",
              "    </tr>\n",
              "    <tr>\n",
              "      <th>1</th>\n",
              "      <td>NaN</td>\n",
              "      <td>2017-01-02</td>\n",
              "      <td>23557</td>\n",
              "      <td>2</td>\n",
              "      <td>27.0</td>\n",
              "      <td>4.3</td>\n",
              "      <td>18.0</td>\n",
              "      <td>81.0</td>\n",
              "    </tr>\n",
              "    <tr>\n",
              "      <th>2</th>\n",
              "      <td>NaN</td>\n",
              "      <td>2017-01-03</td>\n",
              "      <td>23557</td>\n",
              "      <td>3</td>\n",
              "      <td>27.0</td>\n",
              "      <td>1.2</td>\n",
              "      <td>17.0</td>\n",
              "      <td>80.0</td>\n",
              "    </tr>\n",
              "    <tr>\n",
              "      <th>3</th>\n",
              "      <td>NaN</td>\n",
              "      <td>2017-01-04</td>\n",
              "      <td>23557</td>\n",
              "      <td>4</td>\n",
              "      <td>26.0</td>\n",
              "      <td>2.7</td>\n",
              "      <td>14.0</td>\n",
              "      <td>80.0</td>\n",
              "    </tr>\n",
              "    <tr>\n",
              "      <th>4</th>\n",
              "      <td>NaN</td>\n",
              "      <td>2017-01-05</td>\n",
              "      <td>23557</td>\n",
              "      <td>5</td>\n",
              "      <td>27.0</td>\n",
              "      <td>1.2</td>\n",
              "      <td>13.0</td>\n",
              "      <td>81.0</td>\n",
              "    </tr>\n",
              "    <tr>\n",
              "      <th>...</th>\n",
              "      <td>...</td>\n",
              "      <td>...</td>\n",
              "      <td>...</td>\n",
              "      <td>...</td>\n",
              "      <td>...</td>\n",
              "      <td>...</td>\n",
              "      <td>...</td>\n",
              "      <td>...</td>\n",
              "    </tr>\n",
              "    <tr>\n",
              "      <th>807375</th>\n",
              "      <td>NaN</td>\n",
              "      <td>2020-12-27</td>\n",
              "      <td>25192</td>\n",
              "      <td>362</td>\n",
              "      <td>30.0</td>\n",
              "      <td>0.0</td>\n",
              "      <td>3.0</td>\n",
              "      <td>80.0</td>\n",
              "    </tr>\n",
              "    <tr>\n",
              "      <th>807376</th>\n",
              "      <td>NaN</td>\n",
              "      <td>2020-12-28</td>\n",
              "      <td>25192</td>\n",
              "      <td>363</td>\n",
              "      <td>29.0</td>\n",
              "      <td>0.0</td>\n",
              "      <td>3.0</td>\n",
              "      <td>79.0</td>\n",
              "    </tr>\n",
              "    <tr>\n",
              "      <th>807377</th>\n",
              "      <td>NaN</td>\n",
              "      <td>2020-12-29</td>\n",
              "      <td>25192</td>\n",
              "      <td>364</td>\n",
              "      <td>29.0</td>\n",
              "      <td>0.0</td>\n",
              "      <td>4.0</td>\n",
              "      <td>74.0</td>\n",
              "    </tr>\n",
              "    <tr>\n",
              "      <th>807378</th>\n",
              "      <td>NaN</td>\n",
              "      <td>2020-12-30</td>\n",
              "      <td>25192</td>\n",
              "      <td>365</td>\n",
              "      <td>28.0</td>\n",
              "      <td>0.0</td>\n",
              "      <td>10.0</td>\n",
              "      <td>76.0</td>\n",
              "    </tr>\n",
              "    <tr>\n",
              "      <th>807379</th>\n",
              "      <td>NaN</td>\n",
              "      <td>2020-12-31</td>\n",
              "      <td>25192</td>\n",
              "      <td>366</td>\n",
              "      <td>28.0</td>\n",
              "      <td>0.0</td>\n",
              "      <td>12.0</td>\n",
              "      <td>85.0</td>\n",
              "    </tr>\n",
              "  </tbody>\n",
              "</table>\n",
              "<p>807380 rows × 8 columns</p>\n",
              "</div>"
            ],
            "text/plain": [
              "        fires       date  ward_code  doy   max  rain  wind  humidi\n",
              "0         NaN 2017-01-01      23557    1  28.0   5.8  17.0    83.0\n",
              "1         NaN 2017-01-02      23557    2  27.0   4.3  18.0    81.0\n",
              "2         NaN 2017-01-03      23557    3  27.0   1.2  17.0    80.0\n",
              "3         NaN 2017-01-04      23557    4  26.0   2.7  14.0    80.0\n",
              "4         NaN 2017-01-05      23557    5  27.0   1.2  13.0    81.0\n",
              "...       ...        ...        ...  ...   ...   ...   ...     ...\n",
              "807375    NaN 2020-12-27      25192  362  30.0   0.0   3.0    80.0\n",
              "807376    NaN 2020-12-28      25192  363  29.0   0.0   3.0    79.0\n",
              "807377    NaN 2020-12-29      25192  364  29.0   0.0   4.0    74.0\n",
              "807378    NaN 2020-12-30      25192  365  28.0   0.0  10.0    76.0\n",
              "807379    NaN 2020-12-31      25192  366  28.0   0.0  12.0    85.0\n",
              "\n",
              "[807380 rows x 8 columns]"
            ]
          },
          "metadata": {
            "tags": []
          },
          "execution_count": 126
        }
      ]
    },
    {
      "cell_type": "code",
      "metadata": {
        "colab": {
          "base_uri": "https://localhost:8080/",
          "height": 419
        },
        "id": "YE9OlUnTqgDv",
        "outputId": "48ff7719-eea7-4b7d-a4b5-d522783a040f"
      },
      "source": [
        "# scale values\n",
        "MinMaxScale(df_dataset_5,['max','rain','wind','humidi'])"
      ],
      "execution_count": null,
      "outputs": [
        {
          "output_type": "execute_result",
          "data": {
            "text/html": [
              "<div>\n",
              "<style scoped>\n",
              "    .dataframe tbody tr th:only-of-type {\n",
              "        vertical-align: middle;\n",
              "    }\n",
              "\n",
              "    .dataframe tbody tr th {\n",
              "        vertical-align: top;\n",
              "    }\n",
              "\n",
              "    .dataframe thead th {\n",
              "        text-align: right;\n",
              "    }\n",
              "</style>\n",
              "<table border=\"1\" class=\"dataframe\">\n",
              "  <thead>\n",
              "    <tr style=\"text-align: right;\">\n",
              "      <th></th>\n",
              "      <th>fires</th>\n",
              "      <th>date</th>\n",
              "      <th>ward_code</th>\n",
              "      <th>doy</th>\n",
              "      <th>max</th>\n",
              "      <th>rain</th>\n",
              "      <th>wind</th>\n",
              "      <th>humidi</th>\n",
              "    </tr>\n",
              "  </thead>\n",
              "  <tbody>\n",
              "    <tr>\n",
              "      <th>0</th>\n",
              "      <td>NaN</td>\n",
              "      <td>2017-01-01</td>\n",
              "      <td>23557</td>\n",
              "      <td>1</td>\n",
              "      <td>0.48</td>\n",
              "      <td>0.013839</td>\n",
              "      <td>0.533333</td>\n",
              "      <td>0.730159</td>\n",
              "    </tr>\n",
              "    <tr>\n",
              "      <th>1</th>\n",
              "      <td>NaN</td>\n",
              "      <td>2017-01-02</td>\n",
              "      <td>23557</td>\n",
              "      <td>2</td>\n",
              "      <td>0.44</td>\n",
              "      <td>0.010260</td>\n",
              "      <td>0.566667</td>\n",
              "      <td>0.698413</td>\n",
              "    </tr>\n",
              "    <tr>\n",
              "      <th>2</th>\n",
              "      <td>NaN</td>\n",
              "      <td>2017-01-03</td>\n",
              "      <td>23557</td>\n",
              "      <td>3</td>\n",
              "      <td>0.44</td>\n",
              "      <td>0.002863</td>\n",
              "      <td>0.533333</td>\n",
              "      <td>0.682540</td>\n",
              "    </tr>\n",
              "    <tr>\n",
              "      <th>3</th>\n",
              "      <td>NaN</td>\n",
              "      <td>2017-01-04</td>\n",
              "      <td>23557</td>\n",
              "      <td>4</td>\n",
              "      <td>0.40</td>\n",
              "      <td>0.006442</td>\n",
              "      <td>0.433333</td>\n",
              "      <td>0.682540</td>\n",
              "    </tr>\n",
              "    <tr>\n",
              "      <th>4</th>\n",
              "      <td>NaN</td>\n",
              "      <td>2017-01-05</td>\n",
              "      <td>23557</td>\n",
              "      <td>5</td>\n",
              "      <td>0.44</td>\n",
              "      <td>0.002863</td>\n",
              "      <td>0.400000</td>\n",
              "      <td>0.698413</td>\n",
              "    </tr>\n",
              "    <tr>\n",
              "      <th>...</th>\n",
              "      <td>...</td>\n",
              "      <td>...</td>\n",
              "      <td>...</td>\n",
              "      <td>...</td>\n",
              "      <td>...</td>\n",
              "      <td>...</td>\n",
              "      <td>...</td>\n",
              "      <td>...</td>\n",
              "    </tr>\n",
              "    <tr>\n",
              "      <th>807375</th>\n",
              "      <td>NaN</td>\n",
              "      <td>2020-12-27</td>\n",
              "      <td>25192</td>\n",
              "      <td>362</td>\n",
              "      <td>0.56</td>\n",
              "      <td>0.000000</td>\n",
              "      <td>0.066667</td>\n",
              "      <td>0.682540</td>\n",
              "    </tr>\n",
              "    <tr>\n",
              "      <th>807376</th>\n",
              "      <td>NaN</td>\n",
              "      <td>2020-12-28</td>\n",
              "      <td>25192</td>\n",
              "      <td>363</td>\n",
              "      <td>0.52</td>\n",
              "      <td>0.000000</td>\n",
              "      <td>0.066667</td>\n",
              "      <td>0.666667</td>\n",
              "    </tr>\n",
              "    <tr>\n",
              "      <th>807377</th>\n",
              "      <td>NaN</td>\n",
              "      <td>2020-12-29</td>\n",
              "      <td>25192</td>\n",
              "      <td>364</td>\n",
              "      <td>0.52</td>\n",
              "      <td>0.000000</td>\n",
              "      <td>0.100000</td>\n",
              "      <td>0.587302</td>\n",
              "    </tr>\n",
              "    <tr>\n",
              "      <th>807378</th>\n",
              "      <td>NaN</td>\n",
              "      <td>2020-12-30</td>\n",
              "      <td>25192</td>\n",
              "      <td>365</td>\n",
              "      <td>0.48</td>\n",
              "      <td>0.000000</td>\n",
              "      <td>0.300000</td>\n",
              "      <td>0.619048</td>\n",
              "    </tr>\n",
              "    <tr>\n",
              "      <th>807379</th>\n",
              "      <td>NaN</td>\n",
              "      <td>2020-12-31</td>\n",
              "      <td>25192</td>\n",
              "      <td>366</td>\n",
              "      <td>0.48</td>\n",
              "      <td>0.000000</td>\n",
              "      <td>0.366667</td>\n",
              "      <td>0.761905</td>\n",
              "    </tr>\n",
              "  </tbody>\n",
              "</table>\n",
              "<p>807380 rows × 8 columns</p>\n",
              "</div>"
            ],
            "text/plain": [
              "        fires       date  ward_code  doy   max      rain      wind    humidi\n",
              "0         NaN 2017-01-01      23557    1  0.48  0.013839  0.533333  0.730159\n",
              "1         NaN 2017-01-02      23557    2  0.44  0.010260  0.566667  0.698413\n",
              "2         NaN 2017-01-03      23557    3  0.44  0.002863  0.533333  0.682540\n",
              "3         NaN 2017-01-04      23557    4  0.40  0.006442  0.433333  0.682540\n",
              "4         NaN 2017-01-05      23557    5  0.44  0.002863  0.400000  0.698413\n",
              "...       ...        ...        ...  ...   ...       ...       ...       ...\n",
              "807375    NaN 2020-12-27      25192  362  0.56  0.000000  0.066667  0.682540\n",
              "807376    NaN 2020-12-28      25192  363  0.52  0.000000  0.066667  0.666667\n",
              "807377    NaN 2020-12-29      25192  364  0.52  0.000000  0.100000  0.587302\n",
              "807378    NaN 2020-12-30      25192  365  0.48  0.000000  0.300000  0.619048\n",
              "807379    NaN 2020-12-31      25192  366  0.48  0.000000  0.366667  0.761905\n",
              "\n",
              "[807380 rows x 8 columns]"
            ]
          },
          "metadata": {
            "tags": []
          },
          "execution_count": 127
        }
      ]
    },
    {
      "cell_type": "code",
      "metadata": {
        "colab": {
          "base_uri": "https://localhost:8080/"
        },
        "id": "umqEVOlbqkZe",
        "outputId": "4dd4f40c-54e4-4e6e-ffc3-97d239cf7788"
      },
      "source": [
        "listWard = df_dataset_5['ward_code'].unique()\n",
        "len(listWard)"
      ],
      "execution_count": null,
      "outputs": [
        {
          "output_type": "execute_result",
          "data": {
            "text/plain": [
              "553"
            ]
          },
          "metadata": {
            "tags": []
          },
          "execution_count": 128
        }
      ]
    },
    {
      "cell_type": "code",
      "metadata": {
        "id": "igoPPb3Tqnkc"
      },
      "source": [
        "header = ['fires','date','ward_code','doy','max','rain','wind','humidi']"
      ],
      "execution_count": null,
      "outputs": []
    },
    {
      "cell_type": "code",
      "metadata": {
        "id": "35RLtLxwyG9k"
      },
      "source": [
        "h = ['max','rain','wind','humidi']\n",
        "for i in range(30,0,-1):\n",
        "  header.append(str(i)+'_'+h[0])\n",
        "  header.append(str(i)+'_'+h[1])\n",
        "  header.append(str(i)+'_'+h[2])\n",
        "  header.append(str(i)+'_'+h[3])"
      ],
      "execution_count": null,
      "outputs": []
    },
    {
      "cell_type": "code",
      "metadata": {
        "colab": {
          "base_uri": "https://localhost:8080/"
        },
        "id": "iovHGLqbyKaQ",
        "outputId": "53563e11-7e25-4861-a4b2-da078bb6688a"
      },
      "source": [
        "print(header)"
      ],
      "execution_count": null,
      "outputs": [
        {
          "output_type": "stream",
          "text": [
            "['fires', 'date', 'ward_code', 'doy', 'max', 'rain', 'wind', 'humidi', '30_max', '30_rain', '30_wind', '30_humidi', '29_max', '29_rain', '29_wind', '29_humidi', '28_max', '28_rain', '28_wind', '28_humidi', '27_max', '27_rain', '27_wind', '27_humidi', '26_max', '26_rain', '26_wind', '26_humidi', '25_max', '25_rain', '25_wind', '25_humidi', '24_max', '24_rain', '24_wind', '24_humidi', '23_max', '23_rain', '23_wind', '23_humidi', '22_max', '22_rain', '22_wind', '22_humidi', '21_max', '21_rain', '21_wind', '21_humidi', '20_max', '20_rain', '20_wind', '20_humidi', '19_max', '19_rain', '19_wind', '19_humidi', '18_max', '18_rain', '18_wind', '18_humidi', '17_max', '17_rain', '17_wind', '17_humidi', '16_max', '16_rain', '16_wind', '16_humidi', '15_max', '15_rain', '15_wind', '15_humidi', '14_max', '14_rain', '14_wind', '14_humidi', '13_max', '13_rain', '13_wind', '13_humidi', '12_max', '12_rain', '12_wind', '12_humidi', '11_max', '11_rain', '11_wind', '11_humidi', '10_max', '10_rain', '10_wind', '10_humidi', '9_max', '9_rain', '9_wind', '9_humidi', '8_max', '8_rain', '8_wind', '8_humidi', '7_max', '7_rain', '7_wind', '7_humidi', '6_max', '6_rain', '6_wind', '6_humidi', '5_max', '5_rain', '5_wind', '5_humidi', '4_max', '4_rain', '4_wind', '4_humidi', '3_max', '3_rain', '3_wind', '3_humidi', '2_max', '2_rain', '2_wind', '2_humidi', '1_max', '1_rain', '1_wind', '1_humidi']\n"
          ],
          "name": "stdout"
        }
      ]
    },
    {
      "cell_type": "code",
      "metadata": {
        "id": "mCv9534OyPJ4"
      },
      "source": [
        "import csv\n",
        "import numpy as np\n",
        "def make_dataset(data,listWard,header,fileName):\n",
        "  with open(fileName,'w') as f:\n",
        "      writer = csv.writer(f)\n",
        "      writer.writerow(header)\n",
        "  for ward in listWard:\n",
        "    df_ward = data.loc[data['ward_code'] == ward]\n",
        "    df_np = np.array(df_ward)\n",
        "    l = len(df_np)\n",
        "    with open(fileName,'a') as f:\n",
        "      writer = csv.writer(f)\n",
        "      for i in range(30,l):\n",
        "        line = [x for x in df_np[i]]\n",
        "        for j in range(1,31):\n",
        "          line.append(df_np[i-j][4])\n",
        "          line.append(df_np[i-j][5])\n",
        "          line.append(df_np[i-j][6])\n",
        "          line.append(df_np[i-j][7])\n",
        "        writer.writerow(line)"
      ],
      "execution_count": null,
      "outputs": []
    },
    {
      "cell_type": "code",
      "metadata": {
        "id": "sEgQ7a7eyQVq"
      },
      "source": [
        "make_dataset(df_dataset_5,listWard,header,'FinalDataset.csv')"
      ],
      "execution_count": null,
      "outputs": []
    },
    {
      "cell_type": "code",
      "metadata": {
        "colab": {
          "base_uri": "https://localhost:8080/",
          "height": 609
        },
        "id": "KVPQbcMvyVuZ",
        "outputId": "10b2c512-6fd7-49ad-a216-d54bf765fe66"
      },
      "source": [
        "FinalDataset = pd.read_csv('FinalDataset.csv',parse_dates=['date'])\n",
        "FinalDataset"
      ],
      "execution_count": null,
      "outputs": [
        {
          "output_type": "execute_result",
          "data": {
            "text/html": [
              "<div>\n",
              "<style scoped>\n",
              "    .dataframe tbody tr th:only-of-type {\n",
              "        vertical-align: middle;\n",
              "    }\n",
              "\n",
              "    .dataframe tbody tr th {\n",
              "        vertical-align: top;\n",
              "    }\n",
              "\n",
              "    .dataframe thead th {\n",
              "        text-align: right;\n",
              "    }\n",
              "</style>\n",
              "<table border=\"1\" class=\"dataframe\">\n",
              "  <thead>\n",
              "    <tr style=\"text-align: right;\">\n",
              "      <th></th>\n",
              "      <th>fires</th>\n",
              "      <th>date</th>\n",
              "      <th>ward_code</th>\n",
              "      <th>doy</th>\n",
              "      <th>max</th>\n",
              "      <th>rain</th>\n",
              "      <th>wind</th>\n",
              "      <th>humidi</th>\n",
              "      <th>30_max</th>\n",
              "      <th>30_rain</th>\n",
              "      <th>30_wind</th>\n",
              "      <th>30_humidi</th>\n",
              "      <th>29_max</th>\n",
              "      <th>29_rain</th>\n",
              "      <th>29_wind</th>\n",
              "      <th>29_humidi</th>\n",
              "      <th>28_max</th>\n",
              "      <th>28_rain</th>\n",
              "      <th>28_wind</th>\n",
              "      <th>28_humidi</th>\n",
              "      <th>27_max</th>\n",
              "      <th>27_rain</th>\n",
              "      <th>27_wind</th>\n",
              "      <th>27_humidi</th>\n",
              "      <th>26_max</th>\n",
              "      <th>26_rain</th>\n",
              "      <th>26_wind</th>\n",
              "      <th>26_humidi</th>\n",
              "      <th>25_max</th>\n",
              "      <th>25_rain</th>\n",
              "      <th>25_wind</th>\n",
              "      <th>25_humidi</th>\n",
              "      <th>24_max</th>\n",
              "      <th>24_rain</th>\n",
              "      <th>24_wind</th>\n",
              "      <th>24_humidi</th>\n",
              "      <th>23_max</th>\n",
              "      <th>23_rain</th>\n",
              "      <th>23_wind</th>\n",
              "      <th>23_humidi</th>\n",
              "      <th>...</th>\n",
              "      <th>10_max</th>\n",
              "      <th>10_rain</th>\n",
              "      <th>10_wind</th>\n",
              "      <th>10_humidi</th>\n",
              "      <th>9_max</th>\n",
              "      <th>9_rain</th>\n",
              "      <th>9_wind</th>\n",
              "      <th>9_humidi</th>\n",
              "      <th>8_max</th>\n",
              "      <th>8_rain</th>\n",
              "      <th>8_wind</th>\n",
              "      <th>8_humidi</th>\n",
              "      <th>7_max</th>\n",
              "      <th>7_rain</th>\n",
              "      <th>7_wind</th>\n",
              "      <th>7_humidi</th>\n",
              "      <th>6_max</th>\n",
              "      <th>6_rain</th>\n",
              "      <th>6_wind</th>\n",
              "      <th>6_humidi</th>\n",
              "      <th>5_max</th>\n",
              "      <th>5_rain</th>\n",
              "      <th>5_wind</th>\n",
              "      <th>5_humidi</th>\n",
              "      <th>4_max</th>\n",
              "      <th>4_rain</th>\n",
              "      <th>4_wind</th>\n",
              "      <th>4_humidi</th>\n",
              "      <th>3_max</th>\n",
              "      <th>3_rain</th>\n",
              "      <th>3_wind</th>\n",
              "      <th>3_humidi</th>\n",
              "      <th>2_max</th>\n",
              "      <th>2_rain</th>\n",
              "      <th>2_wind</th>\n",
              "      <th>2_humidi</th>\n",
              "      <th>1_max</th>\n",
              "      <th>1_rain</th>\n",
              "      <th>1_wind</th>\n",
              "      <th>1_humidi</th>\n",
              "    </tr>\n",
              "  </thead>\n",
              "  <tbody>\n",
              "    <tr>\n",
              "      <th>0</th>\n",
              "      <td>NaN</td>\n",
              "      <td>2017-01-31</td>\n",
              "      <td>23557</td>\n",
              "      <td>31</td>\n",
              "      <td>0.44</td>\n",
              "      <td>0.000000</td>\n",
              "      <td>0.366667</td>\n",
              "      <td>0.587302</td>\n",
              "      <td>0.40</td>\n",
              "      <td>0.000000</td>\n",
              "      <td>0.333333</td>\n",
              "      <td>0.619048</td>\n",
              "      <td>0.44</td>\n",
              "      <td>0.000000</td>\n",
              "      <td>0.200000</td>\n",
              "      <td>0.571429</td>\n",
              "      <td>0.40</td>\n",
              "      <td>0.000000</td>\n",
              "      <td>0.333333</td>\n",
              "      <td>0.571429</td>\n",
              "      <td>0.40</td>\n",
              "      <td>0.000000</td>\n",
              "      <td>0.466667</td>\n",
              "      <td>0.634921</td>\n",
              "      <td>0.40</td>\n",
              "      <td>0.009544</td>\n",
              "      <td>0.666667</td>\n",
              "      <td>0.619048</td>\n",
              "      <td>0.36</td>\n",
              "      <td>0.109043</td>\n",
              "      <td>0.533333</td>\n",
              "      <td>0.619048</td>\n",
              "      <td>0.40</td>\n",
              "      <td>0.018134</td>\n",
              "      <td>0.500000</td>\n",
              "      <td>0.666667</td>\n",
              "      <td>0.40</td>\n",
              "      <td>0.008351</td>\n",
              "      <td>0.500000</td>\n",
              "      <td>0.650794</td>\n",
              "      <td>...</td>\n",
              "      <td>0.52</td>\n",
              "      <td>0.009544</td>\n",
              "      <td>0.433333</td>\n",
              "      <td>0.714286</td>\n",
              "      <td>0.44</td>\n",
              "      <td>0.005249</td>\n",
              "      <td>0.400000</td>\n",
              "      <td>0.714286</td>\n",
              "      <td>0.40</td>\n",
              "      <td>0.001193</td>\n",
              "      <td>0.400000</td>\n",
              "      <td>0.714286</td>\n",
              "      <td>0.40</td>\n",
              "      <td>0.002863</td>\n",
              "      <td>0.400000</td>\n",
              "      <td>0.698413</td>\n",
              "      <td>0.40</td>\n",
              "      <td>0.005249</td>\n",
              "      <td>0.433333</td>\n",
              "      <td>0.714286</td>\n",
              "      <td>0.44</td>\n",
              "      <td>0.002863</td>\n",
              "      <td>0.400000</td>\n",
              "      <td>0.698413</td>\n",
              "      <td>0.40</td>\n",
              "      <td>0.006442</td>\n",
              "      <td>0.433333</td>\n",
              "      <td>0.682540</td>\n",
              "      <td>0.44</td>\n",
              "      <td>0.002863</td>\n",
              "      <td>0.533333</td>\n",
              "      <td>0.682540</td>\n",
              "      <td>0.44</td>\n",
              "      <td>0.010260</td>\n",
              "      <td>0.566667</td>\n",
              "      <td>0.698413</td>\n",
              "      <td>0.48</td>\n",
              "      <td>0.013839</td>\n",
              "      <td>0.533333</td>\n",
              "      <td>0.730159</td>\n",
              "    </tr>\n",
              "    <tr>\n",
              "      <th>1</th>\n",
              "      <td>NaN</td>\n",
              "      <td>2017-02-01</td>\n",
              "      <td>23557</td>\n",
              "      <td>32</td>\n",
              "      <td>0.36</td>\n",
              "      <td>0.016941</td>\n",
              "      <td>0.466667</td>\n",
              "      <td>0.666667</td>\n",
              "      <td>0.44</td>\n",
              "      <td>0.000000</td>\n",
              "      <td>0.366667</td>\n",
              "      <td>0.587302</td>\n",
              "      <td>0.40</td>\n",
              "      <td>0.000000</td>\n",
              "      <td>0.333333</td>\n",
              "      <td>0.619048</td>\n",
              "      <td>0.44</td>\n",
              "      <td>0.000000</td>\n",
              "      <td>0.200000</td>\n",
              "      <td>0.571429</td>\n",
              "      <td>0.40</td>\n",
              "      <td>0.000000</td>\n",
              "      <td>0.333333</td>\n",
              "      <td>0.571429</td>\n",
              "      <td>0.40</td>\n",
              "      <td>0.000000</td>\n",
              "      <td>0.466667</td>\n",
              "      <td>0.634921</td>\n",
              "      <td>0.40</td>\n",
              "      <td>0.009544</td>\n",
              "      <td>0.666667</td>\n",
              "      <td>0.619048</td>\n",
              "      <td>0.36</td>\n",
              "      <td>0.109043</td>\n",
              "      <td>0.533333</td>\n",
              "      <td>0.619048</td>\n",
              "      <td>0.40</td>\n",
              "      <td>0.018134</td>\n",
              "      <td>0.500000</td>\n",
              "      <td>0.666667</td>\n",
              "      <td>...</td>\n",
              "      <td>0.48</td>\n",
              "      <td>0.002386</td>\n",
              "      <td>0.366667</td>\n",
              "      <td>0.682540</td>\n",
              "      <td>0.52</td>\n",
              "      <td>0.009544</td>\n",
              "      <td>0.433333</td>\n",
              "      <td>0.714286</td>\n",
              "      <td>0.44</td>\n",
              "      <td>0.005249</td>\n",
              "      <td>0.400000</td>\n",
              "      <td>0.714286</td>\n",
              "      <td>0.40</td>\n",
              "      <td>0.001193</td>\n",
              "      <td>0.400000</td>\n",
              "      <td>0.714286</td>\n",
              "      <td>0.40</td>\n",
              "      <td>0.002863</td>\n",
              "      <td>0.400000</td>\n",
              "      <td>0.698413</td>\n",
              "      <td>0.40</td>\n",
              "      <td>0.005249</td>\n",
              "      <td>0.433333</td>\n",
              "      <td>0.714286</td>\n",
              "      <td>0.44</td>\n",
              "      <td>0.002863</td>\n",
              "      <td>0.400000</td>\n",
              "      <td>0.698413</td>\n",
              "      <td>0.40</td>\n",
              "      <td>0.006442</td>\n",
              "      <td>0.433333</td>\n",
              "      <td>0.682540</td>\n",
              "      <td>0.44</td>\n",
              "      <td>0.002863</td>\n",
              "      <td>0.533333</td>\n",
              "      <td>0.682540</td>\n",
              "      <td>0.44</td>\n",
              "      <td>0.010260</td>\n",
              "      <td>0.566667</td>\n",
              "      <td>0.698413</td>\n",
              "    </tr>\n",
              "    <tr>\n",
              "      <th>2</th>\n",
              "      <td>NaN</td>\n",
              "      <td>2017-02-02</td>\n",
              "      <td>23557</td>\n",
              "      <td>33</td>\n",
              "      <td>0.32</td>\n",
              "      <td>0.036745</td>\n",
              "      <td>0.666667</td>\n",
              "      <td>0.603175</td>\n",
              "      <td>0.36</td>\n",
              "      <td>0.016941</td>\n",
              "      <td>0.466667</td>\n",
              "      <td>0.666667</td>\n",
              "      <td>0.44</td>\n",
              "      <td>0.000000</td>\n",
              "      <td>0.366667</td>\n",
              "      <td>0.587302</td>\n",
              "      <td>0.40</td>\n",
              "      <td>0.000000</td>\n",
              "      <td>0.333333</td>\n",
              "      <td>0.619048</td>\n",
              "      <td>0.44</td>\n",
              "      <td>0.000000</td>\n",
              "      <td>0.200000</td>\n",
              "      <td>0.571429</td>\n",
              "      <td>0.40</td>\n",
              "      <td>0.000000</td>\n",
              "      <td>0.333333</td>\n",
              "      <td>0.571429</td>\n",
              "      <td>0.40</td>\n",
              "      <td>0.000000</td>\n",
              "      <td>0.466667</td>\n",
              "      <td>0.634921</td>\n",
              "      <td>0.40</td>\n",
              "      <td>0.009544</td>\n",
              "      <td>0.666667</td>\n",
              "      <td>0.619048</td>\n",
              "      <td>0.36</td>\n",
              "      <td>0.109043</td>\n",
              "      <td>0.533333</td>\n",
              "      <td>0.619048</td>\n",
              "      <td>...</td>\n",
              "      <td>0.48</td>\n",
              "      <td>0.007158</td>\n",
              "      <td>0.300000</td>\n",
              "      <td>0.634921</td>\n",
              "      <td>0.48</td>\n",
              "      <td>0.002386</td>\n",
              "      <td>0.366667</td>\n",
              "      <td>0.682540</td>\n",
              "      <td>0.52</td>\n",
              "      <td>0.009544</td>\n",
              "      <td>0.433333</td>\n",
              "      <td>0.714286</td>\n",
              "      <td>0.44</td>\n",
              "      <td>0.005249</td>\n",
              "      <td>0.400000</td>\n",
              "      <td>0.714286</td>\n",
              "      <td>0.40</td>\n",
              "      <td>0.001193</td>\n",
              "      <td>0.400000</td>\n",
              "      <td>0.714286</td>\n",
              "      <td>0.40</td>\n",
              "      <td>0.002863</td>\n",
              "      <td>0.400000</td>\n",
              "      <td>0.698413</td>\n",
              "      <td>0.40</td>\n",
              "      <td>0.005249</td>\n",
              "      <td>0.433333</td>\n",
              "      <td>0.714286</td>\n",
              "      <td>0.44</td>\n",
              "      <td>0.002863</td>\n",
              "      <td>0.400000</td>\n",
              "      <td>0.698413</td>\n",
              "      <td>0.40</td>\n",
              "      <td>0.006442</td>\n",
              "      <td>0.433333</td>\n",
              "      <td>0.682540</td>\n",
              "      <td>0.44</td>\n",
              "      <td>0.002863</td>\n",
              "      <td>0.533333</td>\n",
              "      <td>0.682540</td>\n",
              "    </tr>\n",
              "    <tr>\n",
              "      <th>3</th>\n",
              "      <td>NaN</td>\n",
              "      <td>2017-02-03</td>\n",
              "      <td>23557</td>\n",
              "      <td>34</td>\n",
              "      <td>0.36</td>\n",
              "      <td>0.026485</td>\n",
              "      <td>0.500000</td>\n",
              "      <td>0.603175</td>\n",
              "      <td>0.32</td>\n",
              "      <td>0.036745</td>\n",
              "      <td>0.666667</td>\n",
              "      <td>0.603175</td>\n",
              "      <td>0.36</td>\n",
              "      <td>0.016941</td>\n",
              "      <td>0.466667</td>\n",
              "      <td>0.666667</td>\n",
              "      <td>0.44</td>\n",
              "      <td>0.000000</td>\n",
              "      <td>0.366667</td>\n",
              "      <td>0.587302</td>\n",
              "      <td>0.40</td>\n",
              "      <td>0.000000</td>\n",
              "      <td>0.333333</td>\n",
              "      <td>0.619048</td>\n",
              "      <td>0.44</td>\n",
              "      <td>0.000000</td>\n",
              "      <td>0.200000</td>\n",
              "      <td>0.571429</td>\n",
              "      <td>0.40</td>\n",
              "      <td>0.000000</td>\n",
              "      <td>0.333333</td>\n",
              "      <td>0.571429</td>\n",
              "      <td>0.40</td>\n",
              "      <td>0.000000</td>\n",
              "      <td>0.466667</td>\n",
              "      <td>0.634921</td>\n",
              "      <td>0.40</td>\n",
              "      <td>0.009544</td>\n",
              "      <td>0.666667</td>\n",
              "      <td>0.619048</td>\n",
              "      <td>...</td>\n",
              "      <td>0.40</td>\n",
              "      <td>0.000477</td>\n",
              "      <td>0.333333</td>\n",
              "      <td>0.619048</td>\n",
              "      <td>0.48</td>\n",
              "      <td>0.007158</td>\n",
              "      <td>0.300000</td>\n",
              "      <td>0.634921</td>\n",
              "      <td>0.48</td>\n",
              "      <td>0.002386</td>\n",
              "      <td>0.366667</td>\n",
              "      <td>0.682540</td>\n",
              "      <td>0.52</td>\n",
              "      <td>0.009544</td>\n",
              "      <td>0.433333</td>\n",
              "      <td>0.714286</td>\n",
              "      <td>0.44</td>\n",
              "      <td>0.005249</td>\n",
              "      <td>0.400000</td>\n",
              "      <td>0.714286</td>\n",
              "      <td>0.40</td>\n",
              "      <td>0.001193</td>\n",
              "      <td>0.400000</td>\n",
              "      <td>0.714286</td>\n",
              "      <td>0.40</td>\n",
              "      <td>0.002863</td>\n",
              "      <td>0.400000</td>\n",
              "      <td>0.698413</td>\n",
              "      <td>0.40</td>\n",
              "      <td>0.005249</td>\n",
              "      <td>0.433333</td>\n",
              "      <td>0.714286</td>\n",
              "      <td>0.44</td>\n",
              "      <td>0.002863</td>\n",
              "      <td>0.400000</td>\n",
              "      <td>0.698413</td>\n",
              "      <td>0.40</td>\n",
              "      <td>0.006442</td>\n",
              "      <td>0.433333</td>\n",
              "      <td>0.682540</td>\n",
              "    </tr>\n",
              "    <tr>\n",
              "      <th>4</th>\n",
              "      <td>NaN</td>\n",
              "      <td>2017-02-04</td>\n",
              "      <td>23557</td>\n",
              "      <td>35</td>\n",
              "      <td>0.44</td>\n",
              "      <td>0.000000</td>\n",
              "      <td>0.166667</td>\n",
              "      <td>0.619048</td>\n",
              "      <td>0.36</td>\n",
              "      <td>0.026485</td>\n",
              "      <td>0.500000</td>\n",
              "      <td>0.603175</td>\n",
              "      <td>0.32</td>\n",
              "      <td>0.036745</td>\n",
              "      <td>0.666667</td>\n",
              "      <td>0.603175</td>\n",
              "      <td>0.36</td>\n",
              "      <td>0.016941</td>\n",
              "      <td>0.466667</td>\n",
              "      <td>0.666667</td>\n",
              "      <td>0.44</td>\n",
              "      <td>0.000000</td>\n",
              "      <td>0.366667</td>\n",
              "      <td>0.587302</td>\n",
              "      <td>0.40</td>\n",
              "      <td>0.000000</td>\n",
              "      <td>0.333333</td>\n",
              "      <td>0.619048</td>\n",
              "      <td>0.44</td>\n",
              "      <td>0.000000</td>\n",
              "      <td>0.200000</td>\n",
              "      <td>0.571429</td>\n",
              "      <td>0.40</td>\n",
              "      <td>0.000000</td>\n",
              "      <td>0.333333</td>\n",
              "      <td>0.571429</td>\n",
              "      <td>0.40</td>\n",
              "      <td>0.000000</td>\n",
              "      <td>0.466667</td>\n",
              "      <td>0.634921</td>\n",
              "      <td>...</td>\n",
              "      <td>0.32</td>\n",
              "      <td>0.013123</td>\n",
              "      <td>0.333333</td>\n",
              "      <td>0.730159</td>\n",
              "      <td>0.40</td>\n",
              "      <td>0.000477</td>\n",
              "      <td>0.333333</td>\n",
              "      <td>0.619048</td>\n",
              "      <td>0.48</td>\n",
              "      <td>0.007158</td>\n",
              "      <td>0.300000</td>\n",
              "      <td>0.634921</td>\n",
              "      <td>0.48</td>\n",
              "      <td>0.002386</td>\n",
              "      <td>0.366667</td>\n",
              "      <td>0.682540</td>\n",
              "      <td>0.52</td>\n",
              "      <td>0.009544</td>\n",
              "      <td>0.433333</td>\n",
              "      <td>0.714286</td>\n",
              "      <td>0.44</td>\n",
              "      <td>0.005249</td>\n",
              "      <td>0.400000</td>\n",
              "      <td>0.714286</td>\n",
              "      <td>0.40</td>\n",
              "      <td>0.001193</td>\n",
              "      <td>0.400000</td>\n",
              "      <td>0.714286</td>\n",
              "      <td>0.40</td>\n",
              "      <td>0.002863</td>\n",
              "      <td>0.400000</td>\n",
              "      <td>0.698413</td>\n",
              "      <td>0.40</td>\n",
              "      <td>0.005249</td>\n",
              "      <td>0.433333</td>\n",
              "      <td>0.714286</td>\n",
              "      <td>0.44</td>\n",
              "      <td>0.002863</td>\n",
              "      <td>0.400000</td>\n",
              "      <td>0.698413</td>\n",
              "    </tr>\n",
              "    <tr>\n",
              "      <th>...</th>\n",
              "      <td>...</td>\n",
              "      <td>...</td>\n",
              "      <td>...</td>\n",
              "      <td>...</td>\n",
              "      <td>...</td>\n",
              "      <td>...</td>\n",
              "      <td>...</td>\n",
              "      <td>...</td>\n",
              "      <td>...</td>\n",
              "      <td>...</td>\n",
              "      <td>...</td>\n",
              "      <td>...</td>\n",
              "      <td>...</td>\n",
              "      <td>...</td>\n",
              "      <td>...</td>\n",
              "      <td>...</td>\n",
              "      <td>...</td>\n",
              "      <td>...</td>\n",
              "      <td>...</td>\n",
              "      <td>...</td>\n",
              "      <td>...</td>\n",
              "      <td>...</td>\n",
              "      <td>...</td>\n",
              "      <td>...</td>\n",
              "      <td>...</td>\n",
              "      <td>...</td>\n",
              "      <td>...</td>\n",
              "      <td>...</td>\n",
              "      <td>...</td>\n",
              "      <td>...</td>\n",
              "      <td>...</td>\n",
              "      <td>...</td>\n",
              "      <td>...</td>\n",
              "      <td>...</td>\n",
              "      <td>...</td>\n",
              "      <td>...</td>\n",
              "      <td>...</td>\n",
              "      <td>...</td>\n",
              "      <td>...</td>\n",
              "      <td>...</td>\n",
              "      <td>...</td>\n",
              "      <td>...</td>\n",
              "      <td>...</td>\n",
              "      <td>...</td>\n",
              "      <td>...</td>\n",
              "      <td>...</td>\n",
              "      <td>...</td>\n",
              "      <td>...</td>\n",
              "      <td>...</td>\n",
              "      <td>...</td>\n",
              "      <td>...</td>\n",
              "      <td>...</td>\n",
              "      <td>...</td>\n",
              "      <td>...</td>\n",
              "      <td>...</td>\n",
              "      <td>...</td>\n",
              "      <td>...</td>\n",
              "      <td>...</td>\n",
              "      <td>...</td>\n",
              "      <td>...</td>\n",
              "      <td>...</td>\n",
              "      <td>...</td>\n",
              "      <td>...</td>\n",
              "      <td>...</td>\n",
              "      <td>...</td>\n",
              "      <td>...</td>\n",
              "      <td>...</td>\n",
              "      <td>...</td>\n",
              "      <td>...</td>\n",
              "      <td>...</td>\n",
              "      <td>...</td>\n",
              "      <td>...</td>\n",
              "      <td>...</td>\n",
              "      <td>...</td>\n",
              "      <td>...</td>\n",
              "      <td>...</td>\n",
              "      <td>...</td>\n",
              "      <td>...</td>\n",
              "      <td>...</td>\n",
              "      <td>...</td>\n",
              "      <td>...</td>\n",
              "    </tr>\n",
              "    <tr>\n",
              "      <th>790785</th>\n",
              "      <td>NaN</td>\n",
              "      <td>2020-12-27</td>\n",
              "      <td>25192</td>\n",
              "      <td>362</td>\n",
              "      <td>0.56</td>\n",
              "      <td>0.000000</td>\n",
              "      <td>0.066667</td>\n",
              "      <td>0.682540</td>\n",
              "      <td>0.56</td>\n",
              "      <td>0.000000</td>\n",
              "      <td>0.133333</td>\n",
              "      <td>0.777778</td>\n",
              "      <td>0.52</td>\n",
              "      <td>0.001193</td>\n",
              "      <td>0.200000</td>\n",
              "      <td>0.825397</td>\n",
              "      <td>0.52</td>\n",
              "      <td>0.000000</td>\n",
              "      <td>0.166667</td>\n",
              "      <td>0.873016</td>\n",
              "      <td>0.60</td>\n",
              "      <td>0.000000</td>\n",
              "      <td>0.233333</td>\n",
              "      <td>0.888889</td>\n",
              "      <td>0.44</td>\n",
              "      <td>0.001670</td>\n",
              "      <td>0.333333</td>\n",
              "      <td>0.873016</td>\n",
              "      <td>0.56</td>\n",
              "      <td>0.000000</td>\n",
              "      <td>0.366667</td>\n",
              "      <td>0.777778</td>\n",
              "      <td>0.48</td>\n",
              "      <td>0.000000</td>\n",
              "      <td>0.366667</td>\n",
              "      <td>0.714286</td>\n",
              "      <td>0.56</td>\n",
              "      <td>0.000000</td>\n",
              "      <td>0.366667</td>\n",
              "      <td>0.777778</td>\n",
              "      <td>...</td>\n",
              "      <td>0.56</td>\n",
              "      <td>0.000000</td>\n",
              "      <td>0.200000</td>\n",
              "      <td>0.761905</td>\n",
              "      <td>0.56</td>\n",
              "      <td>0.000000</td>\n",
              "      <td>0.233333</td>\n",
              "      <td>0.746032</td>\n",
              "      <td>0.56</td>\n",
              "      <td>0.000000</td>\n",
              "      <td>0.266667</td>\n",
              "      <td>0.730159</td>\n",
              "      <td>0.60</td>\n",
              "      <td>0.000000</td>\n",
              "      <td>0.300000</td>\n",
              "      <td>0.714286</td>\n",
              "      <td>0.60</td>\n",
              "      <td>0.000000</td>\n",
              "      <td>0.300000</td>\n",
              "      <td>0.746032</td>\n",
              "      <td>0.52</td>\n",
              "      <td>0.000000</td>\n",
              "      <td>0.266667</td>\n",
              "      <td>0.857143</td>\n",
              "      <td>0.48</td>\n",
              "      <td>0.004056</td>\n",
              "      <td>0.133333</td>\n",
              "      <td>0.984127</td>\n",
              "      <td>0.44</td>\n",
              "      <td>0.020997</td>\n",
              "      <td>0.133333</td>\n",
              "      <td>0.984127</td>\n",
              "      <td>0.60</td>\n",
              "      <td>0.000000</td>\n",
              "      <td>0.233333</td>\n",
              "      <td>0.841270</td>\n",
              "      <td>0.60</td>\n",
              "      <td>0.000000</td>\n",
              "      <td>0.266667</td>\n",
              "      <td>0.730159</td>\n",
              "    </tr>\n",
              "    <tr>\n",
              "      <th>790786</th>\n",
              "      <td>NaN</td>\n",
              "      <td>2020-12-28</td>\n",
              "      <td>25192</td>\n",
              "      <td>363</td>\n",
              "      <td>0.52</td>\n",
              "      <td>0.000000</td>\n",
              "      <td>0.066667</td>\n",
              "      <td>0.666667</td>\n",
              "      <td>0.56</td>\n",
              "      <td>0.000000</td>\n",
              "      <td>0.066667</td>\n",
              "      <td>0.682540</td>\n",
              "      <td>0.56</td>\n",
              "      <td>0.000000</td>\n",
              "      <td>0.133333</td>\n",
              "      <td>0.777778</td>\n",
              "      <td>0.52</td>\n",
              "      <td>0.001193</td>\n",
              "      <td>0.200000</td>\n",
              "      <td>0.825397</td>\n",
              "      <td>0.52</td>\n",
              "      <td>0.000000</td>\n",
              "      <td>0.166667</td>\n",
              "      <td>0.873016</td>\n",
              "      <td>0.60</td>\n",
              "      <td>0.000000</td>\n",
              "      <td>0.233333</td>\n",
              "      <td>0.888889</td>\n",
              "      <td>0.44</td>\n",
              "      <td>0.001670</td>\n",
              "      <td>0.333333</td>\n",
              "      <td>0.873016</td>\n",
              "      <td>0.56</td>\n",
              "      <td>0.000000</td>\n",
              "      <td>0.366667</td>\n",
              "      <td>0.777778</td>\n",
              "      <td>0.48</td>\n",
              "      <td>0.000000</td>\n",
              "      <td>0.366667</td>\n",
              "      <td>0.714286</td>\n",
              "      <td>...</td>\n",
              "      <td>0.56</td>\n",
              "      <td>0.000477</td>\n",
              "      <td>0.233333</td>\n",
              "      <td>0.793651</td>\n",
              "      <td>0.56</td>\n",
              "      <td>0.000000</td>\n",
              "      <td>0.200000</td>\n",
              "      <td>0.761905</td>\n",
              "      <td>0.56</td>\n",
              "      <td>0.000000</td>\n",
              "      <td>0.233333</td>\n",
              "      <td>0.746032</td>\n",
              "      <td>0.56</td>\n",
              "      <td>0.000000</td>\n",
              "      <td>0.266667</td>\n",
              "      <td>0.730159</td>\n",
              "      <td>0.60</td>\n",
              "      <td>0.000000</td>\n",
              "      <td>0.300000</td>\n",
              "      <td>0.714286</td>\n",
              "      <td>0.60</td>\n",
              "      <td>0.000000</td>\n",
              "      <td>0.300000</td>\n",
              "      <td>0.746032</td>\n",
              "      <td>0.52</td>\n",
              "      <td>0.000000</td>\n",
              "      <td>0.266667</td>\n",
              "      <td>0.857143</td>\n",
              "      <td>0.48</td>\n",
              "      <td>0.004056</td>\n",
              "      <td>0.133333</td>\n",
              "      <td>0.984127</td>\n",
              "      <td>0.44</td>\n",
              "      <td>0.020997</td>\n",
              "      <td>0.133333</td>\n",
              "      <td>0.984127</td>\n",
              "      <td>0.60</td>\n",
              "      <td>0.000000</td>\n",
              "      <td>0.233333</td>\n",
              "      <td>0.841270</td>\n",
              "    </tr>\n",
              "    <tr>\n",
              "      <th>790787</th>\n",
              "      <td>NaN</td>\n",
              "      <td>2020-12-29</td>\n",
              "      <td>25192</td>\n",
              "      <td>364</td>\n",
              "      <td>0.52</td>\n",
              "      <td>0.000000</td>\n",
              "      <td>0.100000</td>\n",
              "      <td>0.587302</td>\n",
              "      <td>0.52</td>\n",
              "      <td>0.000000</td>\n",
              "      <td>0.066667</td>\n",
              "      <td>0.666667</td>\n",
              "      <td>0.56</td>\n",
              "      <td>0.000000</td>\n",
              "      <td>0.066667</td>\n",
              "      <td>0.682540</td>\n",
              "      <td>0.56</td>\n",
              "      <td>0.000000</td>\n",
              "      <td>0.133333</td>\n",
              "      <td>0.777778</td>\n",
              "      <td>0.52</td>\n",
              "      <td>0.001193</td>\n",
              "      <td>0.200000</td>\n",
              "      <td>0.825397</td>\n",
              "      <td>0.52</td>\n",
              "      <td>0.000000</td>\n",
              "      <td>0.166667</td>\n",
              "      <td>0.873016</td>\n",
              "      <td>0.60</td>\n",
              "      <td>0.000000</td>\n",
              "      <td>0.233333</td>\n",
              "      <td>0.888889</td>\n",
              "      <td>0.44</td>\n",
              "      <td>0.001670</td>\n",
              "      <td>0.333333</td>\n",
              "      <td>0.873016</td>\n",
              "      <td>0.56</td>\n",
              "      <td>0.000000</td>\n",
              "      <td>0.366667</td>\n",
              "      <td>0.777778</td>\n",
              "      <td>...</td>\n",
              "      <td>0.52</td>\n",
              "      <td>0.000000</td>\n",
              "      <td>0.233333</td>\n",
              "      <td>0.793651</td>\n",
              "      <td>0.56</td>\n",
              "      <td>0.000477</td>\n",
              "      <td>0.233333</td>\n",
              "      <td>0.793651</td>\n",
              "      <td>0.56</td>\n",
              "      <td>0.000000</td>\n",
              "      <td>0.200000</td>\n",
              "      <td>0.761905</td>\n",
              "      <td>0.56</td>\n",
              "      <td>0.000000</td>\n",
              "      <td>0.233333</td>\n",
              "      <td>0.746032</td>\n",
              "      <td>0.56</td>\n",
              "      <td>0.000000</td>\n",
              "      <td>0.266667</td>\n",
              "      <td>0.730159</td>\n",
              "      <td>0.60</td>\n",
              "      <td>0.000000</td>\n",
              "      <td>0.300000</td>\n",
              "      <td>0.714286</td>\n",
              "      <td>0.60</td>\n",
              "      <td>0.000000</td>\n",
              "      <td>0.300000</td>\n",
              "      <td>0.746032</td>\n",
              "      <td>0.52</td>\n",
              "      <td>0.000000</td>\n",
              "      <td>0.266667</td>\n",
              "      <td>0.857143</td>\n",
              "      <td>0.48</td>\n",
              "      <td>0.004056</td>\n",
              "      <td>0.133333</td>\n",
              "      <td>0.984127</td>\n",
              "      <td>0.44</td>\n",
              "      <td>0.020997</td>\n",
              "      <td>0.133333</td>\n",
              "      <td>0.984127</td>\n",
              "    </tr>\n",
              "    <tr>\n",
              "      <th>790788</th>\n",
              "      <td>NaN</td>\n",
              "      <td>2020-12-30</td>\n",
              "      <td>25192</td>\n",
              "      <td>365</td>\n",
              "      <td>0.48</td>\n",
              "      <td>0.000000</td>\n",
              "      <td>0.300000</td>\n",
              "      <td>0.619048</td>\n",
              "      <td>0.52</td>\n",
              "      <td>0.000000</td>\n",
              "      <td>0.100000</td>\n",
              "      <td>0.587302</td>\n",
              "      <td>0.52</td>\n",
              "      <td>0.000000</td>\n",
              "      <td>0.066667</td>\n",
              "      <td>0.666667</td>\n",
              "      <td>0.56</td>\n",
              "      <td>0.000000</td>\n",
              "      <td>0.066667</td>\n",
              "      <td>0.682540</td>\n",
              "      <td>0.56</td>\n",
              "      <td>0.000000</td>\n",
              "      <td>0.133333</td>\n",
              "      <td>0.777778</td>\n",
              "      <td>0.52</td>\n",
              "      <td>0.001193</td>\n",
              "      <td>0.200000</td>\n",
              "      <td>0.825397</td>\n",
              "      <td>0.52</td>\n",
              "      <td>0.000000</td>\n",
              "      <td>0.166667</td>\n",
              "      <td>0.873016</td>\n",
              "      <td>0.60</td>\n",
              "      <td>0.000000</td>\n",
              "      <td>0.233333</td>\n",
              "      <td>0.888889</td>\n",
              "      <td>0.44</td>\n",
              "      <td>0.001670</td>\n",
              "      <td>0.333333</td>\n",
              "      <td>0.873016</td>\n",
              "      <td>...</td>\n",
              "      <td>0.48</td>\n",
              "      <td>0.002386</td>\n",
              "      <td>0.133333</td>\n",
              "      <td>0.825397</td>\n",
              "      <td>0.52</td>\n",
              "      <td>0.000000</td>\n",
              "      <td>0.233333</td>\n",
              "      <td>0.793651</td>\n",
              "      <td>0.56</td>\n",
              "      <td>0.000477</td>\n",
              "      <td>0.233333</td>\n",
              "      <td>0.793651</td>\n",
              "      <td>0.56</td>\n",
              "      <td>0.000000</td>\n",
              "      <td>0.200000</td>\n",
              "      <td>0.761905</td>\n",
              "      <td>0.56</td>\n",
              "      <td>0.000000</td>\n",
              "      <td>0.233333</td>\n",
              "      <td>0.746032</td>\n",
              "      <td>0.56</td>\n",
              "      <td>0.000000</td>\n",
              "      <td>0.266667</td>\n",
              "      <td>0.730159</td>\n",
              "      <td>0.60</td>\n",
              "      <td>0.000000</td>\n",
              "      <td>0.300000</td>\n",
              "      <td>0.714286</td>\n",
              "      <td>0.60</td>\n",
              "      <td>0.000000</td>\n",
              "      <td>0.300000</td>\n",
              "      <td>0.746032</td>\n",
              "      <td>0.52</td>\n",
              "      <td>0.000000</td>\n",
              "      <td>0.266667</td>\n",
              "      <td>0.857143</td>\n",
              "      <td>0.48</td>\n",
              "      <td>0.004056</td>\n",
              "      <td>0.133333</td>\n",
              "      <td>0.984127</td>\n",
              "    </tr>\n",
              "    <tr>\n",
              "      <th>790789</th>\n",
              "      <td>NaN</td>\n",
              "      <td>2020-12-31</td>\n",
              "      <td>25192</td>\n",
              "      <td>366</td>\n",
              "      <td>0.48</td>\n",
              "      <td>0.000000</td>\n",
              "      <td>0.366667</td>\n",
              "      <td>0.761905</td>\n",
              "      <td>0.48</td>\n",
              "      <td>0.000000</td>\n",
              "      <td>0.300000</td>\n",
              "      <td>0.619048</td>\n",
              "      <td>0.52</td>\n",
              "      <td>0.000000</td>\n",
              "      <td>0.100000</td>\n",
              "      <td>0.587302</td>\n",
              "      <td>0.52</td>\n",
              "      <td>0.000000</td>\n",
              "      <td>0.066667</td>\n",
              "      <td>0.666667</td>\n",
              "      <td>0.56</td>\n",
              "      <td>0.000000</td>\n",
              "      <td>0.066667</td>\n",
              "      <td>0.682540</td>\n",
              "      <td>0.56</td>\n",
              "      <td>0.000000</td>\n",
              "      <td>0.133333</td>\n",
              "      <td>0.777778</td>\n",
              "      <td>0.52</td>\n",
              "      <td>0.001193</td>\n",
              "      <td>0.200000</td>\n",
              "      <td>0.825397</td>\n",
              "      <td>0.52</td>\n",
              "      <td>0.000000</td>\n",
              "      <td>0.166667</td>\n",
              "      <td>0.873016</td>\n",
              "      <td>0.60</td>\n",
              "      <td>0.000000</td>\n",
              "      <td>0.233333</td>\n",
              "      <td>0.888889</td>\n",
              "      <td>...</td>\n",
              "      <td>0.52</td>\n",
              "      <td>0.000000</td>\n",
              "      <td>0.100000</td>\n",
              "      <td>0.888889</td>\n",
              "      <td>0.48</td>\n",
              "      <td>0.002386</td>\n",
              "      <td>0.133333</td>\n",
              "      <td>0.825397</td>\n",
              "      <td>0.52</td>\n",
              "      <td>0.000000</td>\n",
              "      <td>0.233333</td>\n",
              "      <td>0.793651</td>\n",
              "      <td>0.56</td>\n",
              "      <td>0.000477</td>\n",
              "      <td>0.233333</td>\n",
              "      <td>0.793651</td>\n",
              "      <td>0.56</td>\n",
              "      <td>0.000000</td>\n",
              "      <td>0.200000</td>\n",
              "      <td>0.761905</td>\n",
              "      <td>0.56</td>\n",
              "      <td>0.000000</td>\n",
              "      <td>0.233333</td>\n",
              "      <td>0.746032</td>\n",
              "      <td>0.56</td>\n",
              "      <td>0.000000</td>\n",
              "      <td>0.266667</td>\n",
              "      <td>0.730159</td>\n",
              "      <td>0.60</td>\n",
              "      <td>0.000000</td>\n",
              "      <td>0.300000</td>\n",
              "      <td>0.714286</td>\n",
              "      <td>0.60</td>\n",
              "      <td>0.000000</td>\n",
              "      <td>0.300000</td>\n",
              "      <td>0.746032</td>\n",
              "      <td>0.52</td>\n",
              "      <td>0.000000</td>\n",
              "      <td>0.266667</td>\n",
              "      <td>0.857143</td>\n",
              "    </tr>\n",
              "  </tbody>\n",
              "</table>\n",
              "<p>790790 rows × 128 columns</p>\n",
              "</div>"
            ],
            "text/plain": [
              "        fires       date  ward_code  doy  ...  1_max    1_rain    1_wind  1_humidi\n",
              "0         NaN 2017-01-31      23557   31  ...   0.48  0.013839  0.533333  0.730159\n",
              "1         NaN 2017-02-01      23557   32  ...   0.44  0.010260  0.566667  0.698413\n",
              "2         NaN 2017-02-02      23557   33  ...   0.44  0.002863  0.533333  0.682540\n",
              "3         NaN 2017-02-03      23557   34  ...   0.40  0.006442  0.433333  0.682540\n",
              "4         NaN 2017-02-04      23557   35  ...   0.44  0.002863  0.400000  0.698413\n",
              "...       ...        ...        ...  ...  ...    ...       ...       ...       ...\n",
              "790785    NaN 2020-12-27      25192  362  ...   0.60  0.000000  0.266667  0.730159\n",
              "790786    NaN 2020-12-28      25192  363  ...   0.60  0.000000  0.233333  0.841270\n",
              "790787    NaN 2020-12-29      25192  364  ...   0.44  0.020997  0.133333  0.984127\n",
              "790788    NaN 2020-12-30      25192  365  ...   0.48  0.004056  0.133333  0.984127\n",
              "790789    NaN 2020-12-31      25192  366  ...   0.52  0.000000  0.266667  0.857143\n",
              "\n",
              "[790790 rows x 128 columns]"
            ]
          },
          "metadata": {
            "tags": []
          },
          "execution_count": 134
        }
      ]
    },
    {
      "cell_type": "code",
      "metadata": {
        "id": "6PtkPTaDyYZp"
      },
      "source": [
        "df_dataset_5_binary = FinalDataset.copy()"
      ],
      "execution_count": null,
      "outputs": []
    },
    {
      "cell_type": "code",
      "metadata": {
        "id": "KqB4vkdgyeYZ"
      },
      "source": [
        "def LabelBinary(x):\n",
        "  if x == 0:\n",
        "    label = 0\n",
        "  elif x > 0:\n",
        "    label = 1\n",
        "  return label"
      ],
      "execution_count": null,
      "outputs": []
    },
    {
      "cell_type": "code",
      "metadata": {
        "id": "e6vTS8tdyh7m"
      },
      "source": [
        "# fill na\n",
        "condition = (df_dataset_5_binary['date'].dt.month >= 7) & (df_dataset_5_binary['date'].dt.month <= 11)\n",
        "df_dataset_5_binary.loc[condition,'fires'] = df_dataset_5_binary.loc[condition,'fires'].fillna(0)\n",
        "df_dataset_5_binary.loc[~condition,'fires'] = df_dataset_5_binary.loc[~condition,'fires'].fillna(1)"
      ],
      "execution_count": null,
      "outputs": []
    },
    {
      "cell_type": "code",
      "metadata": {
        "id": "FEuU5qZIynwB"
      },
      "source": [
        "df_dataset_5_binary['fires'] = df_dataset_5_binary['fires'].apply(LabelBinary)"
      ],
      "execution_count": null,
      "outputs": []
    },
    {
      "cell_type": "code",
      "metadata": {
        "colab": {
          "base_uri": "https://localhost:8080/"
        },
        "id": "WqByX7vOyp9d",
        "outputId": "ff36b624-fb62-4174-ea11-954670efaf37"
      },
      "source": [
        "df_dataset_5_binary['fires'].value_counts()"
      ],
      "execution_count": null,
      "outputs": [
        {
          "output_type": "execute_result",
          "data": {
            "text/plain": [
              "1    457626\n",
              "0    333164\n",
              "Name: fires, dtype: int64"
            ]
          },
          "metadata": {
            "tags": []
          },
          "execution_count": 66
        }
      ]
    },
    {
      "cell_type": "code",
      "metadata": {
        "id": "qLQTaOs5ytss"
      },
      "source": [
        "# drop features\n",
        "df_dataset_5_binary = df_dataset_5_binary.drop(['date','max','rain','wind','humidi'],axis=1)\n",
        "df_dataset_5_binary = df_dataset_5_binary.sample(frac=1)\n",
        "df_dataset_5_binary"
      ],
      "execution_count": null,
      "outputs": []
    },
    {
      "cell_type": "code",
      "metadata": {
        "id": "lHTsPVsUy02X"
      },
      "source": [
        "l = len(df_dataset_5_binary)\n",
        "sep1 = int(l * TRAIN_SIZE)\n",
        "sep2 = int(l * (TRAIN_SIZE + VAL_SIZE))\n",
        "train_binary = df_dataset_5_binary.iloc[:sep1]\n",
        "val_binary = df_dataset_5_binary.iloc[sep1:sep2]\n",
        "test_binary = df_dataset_5_binary.iloc[sep2:]"
      ],
      "execution_count": null,
      "outputs": []
    },
    {
      "cell_type": "code",
      "metadata": {
        "id": "8jLS19-fy7pT"
      },
      "source": [
        "X_train_binary = train_binary.copy()\n",
        "y_train_binary = X_train_binary.pop('fires')\n",
        "X_val_binary = val_binary.copy()\n",
        "y_val_binary = X_val_binary.pop('fires')\n",
        "X_test_binary = test_binary.copy()\n",
        "y_test_binary = X_test_binary.pop('fires')"
      ],
      "execution_count": null,
      "outputs": []
    },
    {
      "cell_type": "markdown",
      "metadata": {
        "id": "C0gycDei32Kl"
      },
      "source": [
        "Model 2"
      ]
    },
    {
      "cell_type": "code",
      "metadata": {
        "id": "hobrIqEQQYZJ"
      },
      "source": [
        "def MinMaxScale(df, columns):\n",
        "  for c in columns:\n",
        "    df[c] = round((df[c]-df[c].min())/(df[c].max()-df[c].min()),2)\n",
        "  return df"
      ],
      "execution_count": null,
      "outputs": []
    },
    {
      "cell_type": "code",
      "metadata": {
        "id": "L-KgfvAeQdpR"
      },
      "source": [
        "df_ibm_weather_5 = df_ibm_weather_imputated_3.copy()\n",
        "df_ibm_weather_5"
      ],
      "execution_count": null,
      "outputs": []
    },
    {
      "cell_type": "code",
      "metadata": {
        "id": "KtyqUVS_Qil8"
      },
      "source": [
        "df_ibm_weather_5.nunique()"
      ],
      "execution_count": null,
      "outputs": []
    },
    {
      "cell_type": "code",
      "metadata": {
        "id": "LysNBs1LQl17"
      },
      "source": [
        "# columns for training\n",
        "COLUMNS = ['max','rain','wind','humidi','doy','ward_code','fires']"
      ],
      "execution_count": null,
      "outputs": []
    },
    {
      "cell_type": "code",
      "metadata": {
        "id": "DeWq8EDHQo64"
      },
      "source": [
        "# drop unneccessary features\n",
        "df_ibm_weather_5 = df_ibm_weather_5.drop(['min_x','sun_mins','wind_d','cloud','pressure','sunset','sunrise','7_rain', 'm_rain','province','max_y','min_y','rain'], axis=1)\n",
        "df_ibm_weather_5 = df_ibm_weather_5.rename(columns={'max_x':'max','24_rain':'rain'})\n",
        "\n",
        "# get data after 2017 and before 2021\n",
        "df_ibm_weather_5 = df_ibm_weather_5.loc[df_ibm_weather_5['date'].dt.year >= 2017]\n",
        "df_ibm_weather_5 = df_ibm_weather_5.loc[df_ibm_weather_5['date'].dt.year <= 2020]\n",
        "\n",
        "# count fires\n",
        "df_fire_count = df_wildfire_tn.groupby(['ward_code','date']).size().reset_index(name='fires')\n",
        "\n",
        "# merge fire with weather, if not have fire, fill with 0\n",
        "df_dataset_5 = pd.merge(df_fire_count,df_ibm_weather_5,how='right' ,on=['ward_code','date']).fillna(0)\n",
        "\n",
        "# create day of year column\n",
        "df_dataset_5['doy'] = df_dataset_5['date'].dt.dayofyear\n",
        "\n",
        "# rearange features\n",
        "df_dataset_5 = df_dataset_5[['fires','date','ward_code','doy','max','rain','wind','humidi']]\n",
        "\n",
        "# sort data by date\n",
        "df_dataset_5 = df_dataset_5.sort_values(['date'])\n",
        "\n",
        "# reset index\n",
        "df_dataset_5 = df_dataset_5.reset_index(drop=True)"
      ],
      "execution_count": null,
      "outputs": []
    },
    {
      "cell_type": "code",
      "metadata": {
        "colab": {
          "base_uri": "https://localhost:8080/",
          "height": 419
        },
        "id": "d6LAyMwmQt3L",
        "outputId": "3337f6d3-aa4b-4ab7-d377-93739a4fd04b"
      },
      "source": [
        "# scale values\n",
        "MinMaxScale(df_dataset_5,['max','rain','wind','humidi'])"
      ],
      "execution_count": null,
      "outputs": [
        {
          "output_type": "execute_result",
          "data": {
            "text/html": [
              "<div>\n",
              "<style scoped>\n",
              "    .dataframe tbody tr th:only-of-type {\n",
              "        vertical-align: middle;\n",
              "    }\n",
              "\n",
              "    .dataframe tbody tr th {\n",
              "        vertical-align: top;\n",
              "    }\n",
              "\n",
              "    .dataframe thead th {\n",
              "        text-align: right;\n",
              "    }\n",
              "</style>\n",
              "<table border=\"1\" class=\"dataframe\">\n",
              "  <thead>\n",
              "    <tr style=\"text-align: right;\">\n",
              "      <th></th>\n",
              "      <th>fires</th>\n",
              "      <th>date</th>\n",
              "      <th>ward_code</th>\n",
              "      <th>doy</th>\n",
              "      <th>max</th>\n",
              "      <th>rain</th>\n",
              "      <th>wind</th>\n",
              "      <th>humidi</th>\n",
              "    </tr>\n",
              "  </thead>\n",
              "  <tbody>\n",
              "    <tr>\n",
              "      <th>0</th>\n",
              "      <td>0.0</td>\n",
              "      <td>2017-01-01</td>\n",
              "      <td>24430</td>\n",
              "      <td>1</td>\n",
              "      <td>0.40</td>\n",
              "      <td>0.0</td>\n",
              "      <td>0.30</td>\n",
              "      <td>0.73</td>\n",
              "    </tr>\n",
              "    <tr>\n",
              "      <th>1</th>\n",
              "      <td>0.0</td>\n",
              "      <td>2017-01-01</td>\n",
              "      <td>25114</td>\n",
              "      <td>1</td>\n",
              "      <td>0.64</td>\n",
              "      <td>0.0</td>\n",
              "      <td>0.37</td>\n",
              "      <td>0.84</td>\n",
              "    </tr>\n",
              "    <tr>\n",
              "      <th>2</th>\n",
              "      <td>0.0</td>\n",
              "      <td>2017-01-01</td>\n",
              "      <td>25111</td>\n",
              "      <td>1</td>\n",
              "      <td>0.64</td>\n",
              "      <td>0.0</td>\n",
              "      <td>0.37</td>\n",
              "      <td>0.84</td>\n",
              "    </tr>\n",
              "    <tr>\n",
              "      <th>3</th>\n",
              "      <td>0.0</td>\n",
              "      <td>2017-01-01</td>\n",
              "      <td>25102</td>\n",
              "      <td>1</td>\n",
              "      <td>0.64</td>\n",
              "      <td>0.0</td>\n",
              "      <td>0.37</td>\n",
              "      <td>0.84</td>\n",
              "    </tr>\n",
              "    <tr>\n",
              "      <th>4</th>\n",
              "      <td>0.0</td>\n",
              "      <td>2017-01-01</td>\n",
              "      <td>25177</td>\n",
              "      <td>1</td>\n",
              "      <td>0.64</td>\n",
              "      <td>0.0</td>\n",
              "      <td>0.37</td>\n",
              "      <td>0.84</td>\n",
              "    </tr>\n",
              "    <tr>\n",
              "      <th>...</th>\n",
              "      <td>...</td>\n",
              "      <td>...</td>\n",
              "      <td>...</td>\n",
              "      <td>...</td>\n",
              "      <td>...</td>\n",
              "      <td>...</td>\n",
              "      <td>...</td>\n",
              "      <td>...</td>\n",
              "    </tr>\n",
              "    <tr>\n",
              "      <th>807375</th>\n",
              "      <td>0.0</td>\n",
              "      <td>2020-12-31</td>\n",
              "      <td>23771</td>\n",
              "      <td>366</td>\n",
              "      <td>0.20</td>\n",
              "      <td>0.0</td>\n",
              "      <td>0.60</td>\n",
              "      <td>0.51</td>\n",
              "    </tr>\n",
              "    <tr>\n",
              "      <th>807376</th>\n",
              "      <td>0.0</td>\n",
              "      <td>2020-12-31</td>\n",
              "      <td>23857</td>\n",
              "      <td>366</td>\n",
              "      <td>0.20</td>\n",
              "      <td>0.0</td>\n",
              "      <td>0.60</td>\n",
              "      <td>0.51</td>\n",
              "    </tr>\n",
              "    <tr>\n",
              "      <th>807377</th>\n",
              "      <td>0.0</td>\n",
              "      <td>2020-12-31</td>\n",
              "      <td>23881</td>\n",
              "      <td>366</td>\n",
              "      <td>0.20</td>\n",
              "      <td>0.0</td>\n",
              "      <td>0.60</td>\n",
              "      <td>0.51</td>\n",
              "    </tr>\n",
              "    <tr>\n",
              "      <th>807378</th>\n",
              "      <td>0.0</td>\n",
              "      <td>2020-12-31</td>\n",
              "      <td>23791</td>\n",
              "      <td>366</td>\n",
              "      <td>0.20</td>\n",
              "      <td>0.0</td>\n",
              "      <td>0.60</td>\n",
              "      <td>0.51</td>\n",
              "    </tr>\n",
              "    <tr>\n",
              "      <th>807379</th>\n",
              "      <td>0.0</td>\n",
              "      <td>2020-12-31</td>\n",
              "      <td>24001</td>\n",
              "      <td>366</td>\n",
              "      <td>0.32</td>\n",
              "      <td>0.0</td>\n",
              "      <td>0.60</td>\n",
              "      <td>0.51</td>\n",
              "    </tr>\n",
              "  </tbody>\n",
              "</table>\n",
              "<p>807380 rows × 8 columns</p>\n",
              "</div>"
            ],
            "text/plain": [
              "        fires       date  ward_code  doy   max  rain  wind  humidi\n",
              "0         0.0 2017-01-01      24430    1  0.40   0.0  0.30    0.73\n",
              "1         0.0 2017-01-01      25114    1  0.64   0.0  0.37    0.84\n",
              "2         0.0 2017-01-01      25111    1  0.64   0.0  0.37    0.84\n",
              "3         0.0 2017-01-01      25102    1  0.64   0.0  0.37    0.84\n",
              "4         0.0 2017-01-01      25177    1  0.64   0.0  0.37    0.84\n",
              "...       ...        ...        ...  ...   ...   ...   ...     ...\n",
              "807375    0.0 2020-12-31      23771  366  0.20   0.0  0.60    0.51\n",
              "807376    0.0 2020-12-31      23857  366  0.20   0.0  0.60    0.51\n",
              "807377    0.0 2020-12-31      23881  366  0.20   0.0  0.60    0.51\n",
              "807378    0.0 2020-12-31      23791  366  0.20   0.0  0.60    0.51\n",
              "807379    0.0 2020-12-31      24001  366  0.32   0.0  0.60    0.51\n",
              "\n",
              "[807380 rows x 8 columns]"
            ]
          },
          "metadata": {
            "tags": []
          },
          "execution_count": 176
        }
      ]
    },
    {
      "cell_type": "code",
      "metadata": {
        "id": "cjixuBTSQw9k"
      },
      "source": [
        "# split train test data\n",
        "val_time = pd.Timestamp(2019,9,30)\n",
        "test_time = pd.Timestamp(2020,6,30)\n",
        "train_part = df_dataset_5.loc[df_dataset_5['date'] <= val_time]\n",
        "val_part = df_dataset_5.loc[(df_dataset_5['date'] > val_time)&(df_dataset_5['date'] <= test_time)]\n",
        "test_part = df_dataset_5.loc[df_dataset_5['date'] > test_time]\n",
        "\n",
        "# sort data by ward_code\n",
        "train_part = train_part.sort_values(['ward_code','date'])\n",
        "val_part = val_part.sort_values(['ward_code','date'])\n",
        "test_part = test_part.sort_values(['ward_code','date'])"
      ],
      "execution_count": null,
      "outputs": []
    },
    {
      "cell_type": "code",
      "metadata": {
        "id": "zgsstxPsQ072"
      },
      "source": [
        "# make dataset\n",
        "wards = df_dataset_5.ward_code.unique()\n",
        "train_dataset_5 = concatDataset(train_part, ward_code_column='ward_code', wards=wards, columns=COLUMNS)\n",
        "val_dataset_5 = concatDataset(val_part, ward_code_column='ward_code', wards=wards, columns=COLUMNS)\n",
        "test_dataset_5 = concatDataset(test_part, ward_code_column='ward_code', wards=wards, columns=COLUMNS)"
      ],
      "execution_count": null,
      "outputs": []
    },
    {
      "cell_type": "markdown",
      "metadata": {
        "id": "fTPZpTIzyjqV"
      },
      "source": [
        "## Gia Lai, Lâm Đồng, Đắk Lắk\n",
        "\n",
        "**Time range**\n",
        "01 Jan 2014 - 31 Dec 2020\n",
        "\n",
        "**Unit level**\n",
        "third\n",
        "\n",
        "Input:\n",
        "- 30 last days min and max tempeture (celcius) (mix/max) (convert to 30 columns)\n",
        "- 30 last days Precipitation (mm) (24_rain) (convert to 30 columns)\n",
        "- 30 last days change of sunrise (minutes from 00:00 `t(0)-t(-1)`)\n",
        "- 30 last days hummidi\n",
        "- sunshine minutes: minutes distance from sunrise to sunset (must be positive)\n",
        "- wind_x, win_y: `wind.cos(wind_d)`, `wind.sin(wind_d)`\n",
        "- humidi: Humidity\n",
        "\n",
        "Output:\n",
        "- Number of fires"
      ]
    },
    {
      "cell_type": "markdown",
      "metadata": {
        "id": "nZ0L3gUOh73D"
      },
      "source": [
        "### Phương án 1"
      ]
    },
    {
      "cell_type": "code",
      "metadata": {
        "id": "ojDV9LWtJqtp"
      },
      "source": [
        "FEATURES = ['24_rain', 'max', 'doy','humidi','wind','fires']"
      ],
      "execution_count": null,
      "outputs": []
    },
    {
      "cell_type": "code",
      "metadata": {
        "id": "bQj2ujV6FLSx"
      },
      "source": [
        "# Drop unesscessary columns\n",
        "df_ibm_weather_imputated_3 = df_ibm_weather_imputated_3.drop(['sunset','sunrise','7_rain', 'm_rain','province','max_y','min_y','rain'], axis=1)\n",
        "df_ibm_weather_imputated_3 = df_ibm_weather_imputated_3.rename(columns={'min_x':'min','max_x':'max'})\n",
        "\n",
        "# Drop all after 2021\n",
        "df_ibm_weather_imputated_3 = df_ibm_weather_imputated_3[~(df_ibm_weather_imputated_3.date.dt.year > 2020)]\n",
        "\n",
        "# count fire\n",
        "df_fire_count = df_wildfire_tn.groupby(['ward_code','date']).size().reset_index(name='fires')\n",
        "\n",
        "# merge fire with weather, if not have fire, fill with 0\n",
        "df_dataset_3 = pd.merge(df_fire_count,df_ibm_weather_imputated_3,how='right' ,on=['ward_code','date']).fillna(0)\n",
        "\n",
        "# create day of year column\n",
        "df_dataset_3['doy'] = df_dataset_3['date'].dt.dayofyear"
      ],
      "execution_count": null,
      "outputs": []
    },
    {
      "cell_type": "code",
      "metadata": {
        "id": "2jKtsiXjMZqY"
      },
      "source": [
        "df_dataset_3[df_dataset_3['fires'] == df_fire_count.fires.max()]"
      ],
      "execution_count": null,
      "outputs": []
    },
    {
      "cell_type": "code",
      "metadata": {
        "id": "DvkaVLjRa2U0"
      },
      "source": [
        "# Split train test data\n",
        "wards = df_dataset_3.ward_code.unique()\n",
        "np.random.shuffle(wards)\n",
        "sep1 = int(len(wards)*TRAIN_SIZE)\n",
        "sep2 = int(len(wards)*(TRAIN_SIZE+VAL_SIZE))\n",
        "\n",
        "train_wards = wards[:sep1]\n",
        "val_wards = wards[sep1:sep2]\n",
        "test_wards = wards[sep2:]\n",
        "\n",
        "df_dataset_3 = df_dataset_3.sort_values(['ward_code', 'date'])"
      ],
      "execution_count": null,
      "outputs": []
    },
    {
      "cell_type": "code",
      "metadata": {
        "id": "48KQXfogJJhv"
      },
      "source": [
        "def MinMaxScale(df, columns):\n",
        "  for c in columns:\n",
        "    df[c] = (df[c]-df[c].min())/(df[c].max()-df[c].min())\n",
        "  return df"
      ],
      "execution_count": null,
      "outputs": []
    },
    {
      "cell_type": "code",
      "metadata": {
        "id": "KXT2k5ux7OrR"
      },
      "source": [
        "def MapLabel(label):\n",
        "  if label == 0:\n",
        "    return 0\n",
        "  if label == 1:\n",
        "    return 1\n",
        "  if label < 25:\n",
        "    return 2\n",
        "  return 3"
      ],
      "execution_count": null,
      "outputs": []
    },
    {
      "cell_type": "code",
      "metadata": {
        "id": "ctEy_Ff3EiDt"
      },
      "source": [
        "df_dataset_3"
      ],
      "execution_count": null,
      "outputs": []
    },
    {
      "cell_type": "code",
      "metadata": {
        "id": "ejXZ8YUa76jJ"
      },
      "source": [
        "df_dataset_3['fires'] = df_dataset_3['fires'].apply(MapLabel)"
      ],
      "execution_count": null,
      "outputs": []
    },
    {
      "cell_type": "code",
      "metadata": {
        "id": "Hfjp7m-OLI9o"
      },
      "source": [
        "MinMaxScale(df_dataset_3, columns=FEATURES)"
      ],
      "execution_count": null,
      "outputs": []
    },
    {
      "cell_type": "code",
      "metadata": {
        "id": "H9oqWJ9_Fq5P"
      },
      "source": [
        "df_dataset_3['fires'].value_counts()"
      ],
      "execution_count": null,
      "outputs": []
    },
    {
      "cell_type": "code",
      "metadata": {
        "id": "976EXq8_9fXz"
      },
      "source": [
        "train_dataset = concatDataset(df_dataset_3, ward_code_column='ward_code', wards=train_wards, columns=FEATURES)\n",
        "val_dataset = concatDataset(df_dataset_3, ward_code_column='ward_code', wards=val_wards, columns=FEATURES)\n",
        "test_dataset = concatDataset(df_dataset_3, ward_code_column='ward_code', wards=test_wards, columns=FEATURES)"
      ],
      "execution_count": null,
      "outputs": []
    },
    {
      "cell_type": "markdown",
      "metadata": {
        "id": "4xm7bZANh_lk"
      },
      "source": [
        "### Phương án 2"
      ]
    },
    {
      "cell_type": "code",
      "metadata": {
        "id": "jIepNLaOiCCa"
      },
      "source": [
        "three_province = ['Đắk Lắk', 'Gia Lai', 'Lâm Đồng']"
      ],
      "execution_count": null,
      "outputs": []
    },
    {
      "cell_type": "code",
      "metadata": {
        "id": "zETpu0DqlIEL"
      },
      "source": [
        "df_wildfire = pd.read_csv('https://raw.githubusercontent.com/vanviethieuanh/CS114.L21/main/DoAn/wildfire.csv', parse_dates=['date'])\n",
        "df_wildfire_3_prv = df_wildfire[df_wildfire['province'].isin(three_province)]\n",
        "df_wildfire_3_prv = df_wildfire_3_prv[df_wildfire_3_prv['date']>'2013-12-31']\n",
        "df_wildfire_3_prv['address'] = df_wildfire_3_prv['ward'].apply(lambda x: str(x)) + ', ' + df_wildfire_3_prv['district'].apply(lambda x: str(x)) + ', ' + df_wildfire_3_prv['province'].apply(lambda x: str(x))"
      ],
      "execution_count": null,
      "outputs": []
    },
    {
      "cell_type": "code",
      "metadata": {
        "id": "9HKOFawPlJN5"
      },
      "source": [
        "# The Administrative Data\n",
        "df_administrative = pd.read_csv('https://gist.github.com/vanviethieuanh/0adf76c1c8e6107a198fbf212ba9c07b/raw/d6a7a5fa889be63b269d65e45439f6e7d1f64b09/administrative.csv')\n",
        "df_administrative_3_prv = df_administrative[df_administrative['province'].isin(three_province)]\n",
        "df_administrative_3_prv['address'] = df_administrative_3_prv['ward'].apply(lambda x: str(x)) + ', ' + df_administrative_3_prv['district'].apply(lambda x: str(x)) + ', ' + df_administrative_3_prv['province'].apply(lambda x: str(x))"
      ],
      "execution_count": null,
      "outputs": []
    },
    {
      "cell_type": "code",
      "metadata": {
        "id": "M-3m5AcslKiB"
      },
      "source": [
        "# Lấy ra danh sách địa chỉ + ward code của các xã hành chính ở Tây Nguyên\n",
        "np_ad = np.array([df_administrative_3_prv['ward_code'], df_administrative_3_prv['address']]).T\n",
        "\n",
        "# Lấy ra danh sách địa chỉ điểm cháy ở Tây Nguyên\n",
        "np_wildfire = list(set(list(df_wildfire_3_prv['address'].to_numpy())))"
      ],
      "execution_count": null,
      "outputs": []
    },
    {
      "cell_type": "code",
      "metadata": {
        "id": "RJx1xBf6lL6l"
      },
      "source": [
        "# Lấy ward code ứng với wildfire\n",
        "arr_ward_code = []\n",
        "for i in range(len(np_wildfire)):\n",
        "  for j in range(len(np_ad)):\n",
        "    if np_ad[j][1] == np_wildfire[i]:\n",
        "      arr_ward_code.append([np_ad[j][0], np_ad[j][1]])"
      ],
      "execution_count": null,
      "outputs": []
    },
    {
      "cell_type": "code",
      "metadata": {
        "id": "0LxfjWYtlNN9"
      },
      "source": [
        "# Lấy ward code ứng với wildfire\n",
        "arr_ward_code = []\n",
        "for i in range(len(np_wildfire)):\n",
        "  for j in range(len(np_ad)):\n",
        "    if np_ad[j][1] == np_wildfire[i]:\n",
        "      arr_ward_code.append([np_ad[j][0], np_ad[j][1]])"
      ],
      "execution_count": null,
      "outputs": []
    },
    {
      "cell_type": "code",
      "metadata": {
        "id": "49ton7r0lObI"
      },
      "source": [
        "# Lấy ward code ứng với wildfire\n",
        "arr_ward_code = []\n",
        "for i in range(len(np_wildfire)):\n",
        "  for j in range(len(np_ad)):\n",
        "    if np_ad[j][1] == np_wildfire[i]:\n",
        "      arr_ward_code.append([np_ad[j][0], np_ad[j][1]])"
      ],
      "execution_count": null,
      "outputs": []
    },
    {
      "cell_type": "code",
      "metadata": {
        "id": "d-AdyAw1lP1g"
      },
      "source": [
        "# Lấy ward code ứng với wildfire\n",
        "arr_ward_code = []\n",
        "for i in range(len(np_wildfire)):\n",
        "  for j in range(len(np_ad)):\n",
        "    if np_ad[j][1] == np_wildfire[i]:\n",
        "      arr_ward_code.append([np_ad[j][0], np_ad[j][1]])"
      ],
      "execution_count": null,
      "outputs": []
    },
    {
      "cell_type": "code",
      "metadata": {
        "id": "Y-OBoCW5lRpB"
      },
      "source": [
        "np_tmp = np.array(arr_ibm_weather).T"
      ],
      "execution_count": null,
      "outputs": []
    },
    {
      "cell_type": "code",
      "metadata": {
        "id": "ZI_dPl-TlTXB"
      },
      "source": [
        "# Tạo dataframe cho dữ liệu thời tiết IBM của 3 tỉnh\n",
        "data = {\n",
        "  \"address\": np_tmp[0],\n",
        "  \"ward\": np_tmp[1],\n",
        "  \"date\": np_tmp[2],\n",
        "  \"max\": np_tmp[3],\n",
        "  \"min\": np_tmp[4],\n",
        "  \"sunrise\": np_tmp[5],\n",
        "  \"sunset\": np_tmp[6],\n",
        "  \"7_rain\": np_tmp[7],\n",
        "  \"m_rain\": np_tmp[8],\n",
        "  \"24_rain\": np_tmp[9],\n",
        "  \"sun_mins\": np_tmp[10]\n",
        "}\n",
        "df_ibm_weather_3_provinces = pd.DataFrame(data, columns= ['address', 'ward', 'date', 'max', 'min', 'sunrise', 'sunset', '7_rain', 'm_rain', '24_rain', 'sun_mins'])"
      ],
      "execution_count": null,
      "outputs": []
    },
    {
      "cell_type": "code",
      "metadata": {
        "id": "ucseQKgalWJB"
      },
      "source": [
        "# convert dữ liệu thời tiết sang dạng numpy\n",
        "np_wwo = df_wwo_weather_tn.to_numpy()"
      ],
      "execution_count": null,
      "outputs": []
    },
    {
      "cell_type": "code",
      "metadata": {
        "id": "bj1rl-xzljY0"
      },
      "source": [
        "# Lấy dữ liêu thời tiết tương ứng với ward code.\n",
        "arr_wwo = []\n",
        "for i in range(len(arr_ward_code)):\n",
        "  for j in range(len(np_wwo)):\n",
        "    arr_wwo.append([arr_ward_code[i][0], arr_ward_code[i][1], np_wwo[j][1], np_wwo[j][2], np_wwo[j][3], np_wwo[j][4], np_wwo[j][5], np_wwo[j][6], np_wwo[j][7], np_wwo[j][8], np_wwo[j][9]])"
      ],
      "execution_count": null,
      "outputs": []
    },
    {
      "cell_type": "code",
      "metadata": {
        "id": "iHOBrUxSlkwo"
      },
      "source": [
        "np_tmp = np.array(arr_wwo).T"
      ],
      "execution_count": null,
      "outputs": []
    },
    {
      "cell_type": "code",
      "metadata": {
        "id": "V0vyy9aull-J"
      },
      "source": [
        "# Tạo dataframe cho dư liệu thời tiết\n",
        "data = {\n",
        "  \"ward_code\": np_tmp[0],\n",
        "  \"address\": np_tmp[1],\n",
        "  \"max\": np_tmp[2],\n",
        "  \"min\": np_tmp[3],\n",
        "  \"wind\": np_tmp[4],\n",
        "  \"wind_d\": np_tmp[5],\n",
        "  \"rain\": np_tmp[6],\n",
        "  \"humidi\": np_tmp[7],\n",
        "  \"cloud\": np_tmp[8],\n",
        "  \"pressure\": np_tmp[9],\n",
        "  \"date\": np_tmp[10]\n",
        "}\n",
        "df_wwo = pd.DataFrame(data, columns= [\"ward_code\", \"address\", \"max\", \"min\", \"wind\", \"wind_d\", \"rain\", \"humidi\", \"cloud\", \"pressure\", \"date\"])"
      ],
      "execution_count": null,
      "outputs": []
    },
    {
      "cell_type": "code",
      "metadata": {
        "id": "TJueiVtklogI"
      },
      "source": [
        "df_wwo = df_wwo[df_wwo['date']>'2013-12-31']"
      ],
      "execution_count": null,
      "outputs": []
    },
    {
      "cell_type": "code",
      "metadata": {
        "id": "NcC7SJBJlp1b"
      },
      "source": [
        "# convert dữ liệu thời tiết sang dạng numpy\n",
        "np_wwo = df_wwo.to_numpy()\n",
        "# convert dữ liệu thời tiết IBM sang dạng numpy\n",
        "np_ibm = df_ibm_weather_3_provinces.to_numpy()"
      ],
      "execution_count": null,
      "outputs": []
    },
    {
      "cell_type": "code",
      "metadata": {
        "id": "tFI-MySOlrAt"
      },
      "source": [
        "arr_weather = []\n",
        "for i in range(len(np_wwo)):\n",
        "  for j in range(len(np_ibm)):\n",
        "    if int(np_ibm[j][1]) == int(np_wwo[i][0]) and np_wwo[i][10] == np_ibm[j][2]:\n",
        "      arr_weather.append([np_wwo[i][1], np_wwo[i][0], np_wwo[i][10], np_ibm[j][3], np_ibm[j][4], np_wwo[i][2], np_wwo[i][3], np_wwo[i][4], np_wwo[i][5], np_wwo[i][6], np_wwo[i][7], np_wwo[i][8], np_wwo[i][9]])\n",
        "    elif j == len(np_ibm) - 1 and (int(np_ibm[j][1]) != int(np_wwo[i][0]) or np_wwo[i][10] != np_ibm_province_year[j][2]):\n",
        "      arr_weather.append([np_wwo[i][1], np_wwo[i][0], np_wwo[i][10], np_wwo[i][2], np_wwo[i][3], np_wwo[i][2], np_wwo[i][3], np_wwo[i][4], np_wwo[i][5], np_wwo[i][6], np_wwo[i][7], np_wwo[j][8], np_wwo[i][9]])  "
      ],
      "execution_count": null,
      "outputs": []
    },
    {
      "cell_type": "code",
      "metadata": {
        "id": "5Z56PU2wltEF"
      },
      "source": [
        "# Tạo dataframe cho dư liệu thời tiết\n",
        "np_tmp = np.array(arr_weather_province_year).T\n",
        "data = {\n",
        "  \"address\": np_tmp[0],\n",
        "  \"ward_code\": np_tmp[1],\n",
        "  \"date\": np_tmp[12],\n",
        "  \"max_temp\": np_tmp[2],\n",
        "  \"min_temp\": np_tmp[3], \n",
        "  \"max\": np_tmp[4],\n",
        "  \"min\": np_tmp[5],\n",
        "  \"wind\": np_tmp[6],\n",
        "  \"wind_d\": np_tmp[7],\n",
        "  \"rain\": np_tmp[8],\n",
        "  \"humidi\": np_tmp[9],\n",
        "  \"cloud\": np_tmp[10],\n",
        "  \"pressure\": np_tmp[11]\n",
        "}\n",
        "df_weather = DataFrame(data, columns= [\"address\", \"ward_code\", \"date\", \"max_temp\", \"min_temp\", \"max\", \"min\", \"wind\", \"wind_d\", \"rain\", \"humidi\", \"cloud\", \"pressure\"])"
      ],
      "execution_count": null,
      "outputs": []
    },
    {
      "cell_type": "markdown",
      "metadata": {
        "id": "XkZ4bb7xm5Za"
      },
      "source": [
        "+ Label 1"
      ]
    },
    {
      "cell_type": "code",
      "metadata": {
        "id": "brLYKSY1lu6h"
      },
      "source": [
        "# Tách ngày tháng năm ra cột date\n",
        "df_wildfire_3_prv['day'] = df_wildfire_3_prv['date'].apply(lambda x: x.day)\n",
        "df_wildfire_3_prv['month'] = df_wildfire_3_prv['date'].apply(lambda x: x.month)\n",
        "df_wildfire_3_prv['year'] = df_wildfire_3_prv['date'].apply(lambda x: x.year)\n",
        "# Ghép địa chỉa với ngày tháng năm\n",
        "df_wildfire_3_prv['addr_date'] =  df_wildfire_3_prv['address'].apply(lambda x: str(x)) + ', ' +  df_wildfire_3_prv['day'].apply(lambda x: str(x)) + '/' +  df_wildfire_3_prv['month'].apply(lambda x: str(x)) + '/' +  df_wildfire_3_prv['year'].apply(lambda x: str(x))"
      ],
      "execution_count": null,
      "outputs": []
    },
    {
      "cell_type": "code",
      "metadata": {
        "id": "swgT4zxvlw1t"
      },
      "source": [
        "# Lấy danh sách địa chỉ + thời gian duy nhất trong dữ liệu cháy\n",
        "list_temp = df_wildfire_3_prv['addr_date'].unique()\n",
        "# Lấy danh sách các\n",
        "list_wf_tn = list(df_wildfire_3_prv['addr_date'])"
      ],
      "execution_count": null,
      "outputs": []
    },
    {
      "cell_type": "code",
      "metadata": {
        "id": "GroHf0f-lx9K"
      },
      "source": [
        "# Đếm số điểm cháy trong 1 ngày ở 1 xã\n",
        "list_tmp = []\n",
        "for i in range(len(list_temp)):\n",
        "  count = 0\n",
        "  for j in range(len(list_wf_tn)):\n",
        "    if list_temp[i] == list_wf_tn[j]:\n",
        "      count += 1\n",
        "  list_tmp.append([list_temp[i], count])"
      ],
      "execution_count": null,
      "outputs": []
    },
    {
      "cell_type": "code",
      "metadata": {
        "id": "QDSt8Vccl7RI"
      },
      "source": [
        "# Tạo dataframe cho dữ liệu số điểm cháy trong một ngày\n",
        "np_tmp = np.array(list_tmp).T\n",
        "df_wf_in_a_day = pd.DataFrame({'addr_date': np_tmp[0],\n",
        "  'wildfire_in_a_day': np_tmp[1]\n",
        "  })"
      ],
      "execution_count": null,
      "outputs": []
    },
    {
      "cell_type": "code",
      "metadata": {
        "id": "HnytHAHCl7zh"
      },
      "source": [
        "# Tách dữ liệu từ bảng, lấy ra các cột ngày tháng năm, địa chỉ, thời gian\n",
        "df_wf_in_a_day['day']=df_wf_in_a_day['addr_date'].apply(lambda x: x.split(', ')[3].split('/')[0])\n",
        "df_wf_in_a_day['month']=df_wf_in_a_day['addr_date'].apply(lambda x: x.split(', ')[3].split('/')[1])\n",
        "df_wf_in_a_day['year']=df_wf_in_a_day['addr_date'].apply(lambda x: x.split(', ')[3].split('/')[2])\n",
        "df_wf_in_a_day['address']=df_wf_in_a_day['addr_date'].apply(lambda x: x.split(', ')[0] + ', ' + x.split(', ')[1] + ', ' + x.split(', ')[2])\n",
        "df_wf_in_a_day['time'] = df_wf_in_a_day['month'].apply(lambda x: str(x)) + '/' + df_wf_in_a_day['day'].apply(lambda x: str(x)) + '/' + df_wf_in_a_day['year'].apply(lambda x: str(x))\n",
        "df_wf_in_a_day['date'] = df_wf_in_a_day['time'].apply(lambda x: pd.Timestamp(x))\n",
        "# Xóa các cột dư thừa\n",
        "del df_wf_in_a_day['time']\n",
        "del df_wf_in_a_day['addr_date']"
      ],
      "execution_count": null,
      "outputs": []
    },
    {
      "cell_type": "code",
      "metadata": {
        "id": "G7aYelr0l9nY"
      },
      "source": [
        "# Sắp xếp dữ liệu lại theo địa chỉ với thời gian\n",
        "df_wf = df_wf_in_a_day.sort_values(['address', 'date'], ascending=False).reset_index()"
      ],
      "execution_count": null,
      "outputs": []
    },
    {
      "cell_type": "code",
      "metadata": {
        "id": "YkOePrFql_Ew"
      },
      "source": [
        "df_weather['wind_x'] = df_weather['wind']*df_weather['wind_d'].apply(lambda x: math.cos(x))  # or : df_weather['wind_x'] = df_weather['wind']*np.cos(df_weather['wind_d'])\n",
        "df_weather['wind_y'] = df_weather['wind']*np.sin(df_weather['wind_d'])\n",
        "df_weather['day'] = df_weather['date'].apply(lambda x: x.day)\n",
        "df_weather['month'] = df_weather['date'].apply(lambda x: x.month)\n",
        "df_weather['year'] = df_weather['date'].apply(lambda x: x.year)"
      ],
      "execution_count": null,
      "outputs": []
    },
    {
      "cell_type": "code",
      "metadata": {
        "id": "3HP50mE3mBKZ"
      },
      "source": [
        "# Lấy ra các trường cần thiết trong dữ liệu cháy 3 tỉnh\n",
        "np_wildfire_tn = np.array([df_wf['address'], df_wf['day'], df_wf['month'], df_wf['year'], df_wf['wildfire_in_a_day']]).T\n",
        "# Lấy ra các trường cần thiết trong dữ liệu thời tiết 3 tỉnh\n",
        "np_weather = np.array([df_weather['address'], df_weather['day'], df_weather['month'], df_weather['year'], df_weather['max_temp'], df_weather['min_temp'], df_weather['wind_x'], df_weather['wind_y'], df_weather['rain'], df_weather['humidi'], df_weather['cloud']]).T"
      ],
      "execution_count": null,
      "outputs": []
    },
    {
      "cell_type": "code",
      "metadata": {
        "id": "uGqbYo19mBqD"
      },
      "source": [
        "# Hàm kiểm tra năm nhuận không?\n",
        "def checkYear(year): \n",
        "  return (((year % 4 == 0) and (year % 100 != 0)) or (year % 400 == 0));"
      ],
      "execution_count": null,
      "outputs": []
    },
    {
      "cell_type": "code",
      "metadata": {
        "id": "H-mmQm5EmC9J"
      },
      "source": [
        "# Tạo dữ liệu train model\n",
        "list_data_final = []\n",
        "for i in range(len(np_wildfire_tn)):\n",
        "  count = 0\n",
        "  d = int(np_wildfire_tn[i][1])\n",
        "  m = int(np_wildfire_tn[i][2])\n",
        "  y = int(np_wildfire_tn[i][3])\n",
        "  tmp_arr = [np_wildfire_tn[i][0], np_wildfire_tn[i][1], np_wildfire_tn[i][2], np_wildfire_tn[i][3], 1, np_wildfire_tn[i][4]] \n",
        "\n",
        "  while(count < 30):\n",
        "    tp = count\n",
        "    for j in range(len(np_weather)):\n",
        "      if np_weather[j][0] == np_wildfire_tn[i][0] and d == int(np_weather[j][1]) and m == int(np_weather[j][2]) and y == int(np_weather[j][3]):\n",
        "        tmp_arr.extend([np_weather[j][4], np_weather[j][5], np_weather[j][6], np_weather[j][7],  np_weather[j][8], np_weather[j][9], np_weather[j][10]])\n",
        "        tp += 1\n",
        "        break\n",
        "\n",
        "    if tp == count:\n",
        "      break\n",
        "    if d > 1:\n",
        "      d = d - 1\n",
        "    elif d == 1:\n",
        "      if m == 1:\n",
        "        d = 31\n",
        "        m = 12\n",
        "        y = y - 1\n",
        "      elif m in [5, 7, 10, 12]:\n",
        "        d = 30\n",
        "        m = m - 1\n",
        "      elif m in [2, 4, 6, 8, 9, 11]:\n",
        "        d = 31\n",
        "        m = m - 1\n",
        "      elif m == 3:\n",
        "        if(checkYear(y)): \n",
        "          d = 29\n",
        "          m = m - 1\n",
        "        else:\n",
        "          d = 28\n",
        "          m = m - 1\n",
        "\n",
        "    count += 1\n",
        "\n",
        "  if len(tmp_arr) == 275:\n",
        "    list_data_final.append(tmp_arr)\n",
        "    print(len(list_data_final))"
      ],
      "execution_count": null,
      "outputs": []
    },
    {
      "cell_type": "code",
      "metadata": {
        "id": "AVEfTfbZmHYC"
      },
      "source": [
        "np_tmp = np.array(list_data_final).T"
      ],
      "execution_count": null,
      "outputs": []
    },
    {
      "cell_type": "code",
      "metadata": {
        "id": "ohGBqgVrmEjI"
      },
      "source": [
        "data = {\n",
        "  \"address\": np_tmp[0], \"day\": np_tmp[1], \"month\": np_tmp[2], \"year\": np_tmp[3], \"label\": np_tmp[4], \"wildfire_in_a_day\": np_tmp[5], \"max_temp_d1\": np_tmp[6], \"min_temp_d1\": np_tmp[7], \"wind_x_d1\": np_tmp[8], \"wind_y_d1\": np_tmp[9], \"rain_d1\": np_tmp[10], \"humidi_d1\": np_tmp[11], \"cloud_d1\": np_tmp[12], \"max_temp_d2\": np_tmp[13], \"min_temp_d2\": np_tmp[14], \"wind_x_d2\": np_tmp[15], \"wind_y_d2\": np_tmp[16], \"rain_d2\": np_tmp[17], \"humidi_d2\": np_tmp[18], \"cloud_d2\": np_tmp[19], \"max_temp_d3\": np_tmp[20], \"min_temp_d3\": np_tmp[21], \"wind_x_d3\": np_tmp[22], \"wind_y_d3\": np_tmp[23], \"rain_d3\": np_tmp[24], \"humidi_d3\": np_tmp[25], \"cloud_d3\": np_tmp[26], \"max_temp_d4\": np_tmp[27], \"min_temp_d4\": np_tmp[28], \"wind_x_d4\": np_tmp[29], \"wind_y_d4\": np_tmp[30], \"rain_d4\": np_tmp[31], \"humidi_d4\": np_tmp[32], \"cloud_d4\": np_tmp[33], \"max_temp_d5\": np_tmp[34], \"min_temp_d5\": np_tmp[35], \"wind_x_d5\": np_tmp[36], \"wind_y_d5\": np_tmp[37], \"rain_d5\": np_tmp[38], \"humidi_d5\": np_tmp[39], \"cloud_d5\": np_tmp[40], \"max_temp_d6\": np_tmp[41], \"min_temp_d6\": np_tmp[42], \"wind_x_d6\": np_tmp[43], \"wind_y_d6\": np_tmp[44], \"rain_d6\": np_tmp[45], \"humidi_d6\": np_tmp[46], \"cloud_d6\": np_tmp[47], \"max_temp_d7\": np_tmp[48], \"min_temp_d7\": np_tmp[49], \"wind_x_d7\": np_tmp[50], \"wind_y_d7\": np_tmp[51], \"rain_d7\": np_tmp[52], \"humidi_d7\": np_tmp[53], \"cloud_d7\": np_tmp[54], \"max_temp_d8\": np_tmp[55], \"min_temp_d8\": np_tmp[56], \"wind_x_d8\": np_tmp[57], \"wind_y_d8\": np_tmp[58], \"rain_d8\": np_tmp[59], \"humidi_d8\": np_tmp[60], \"cloud_d8\": np_tmp[61], \"max_temp_d9\": np_tmp[62], \"min_temp_d9\": np_tmp[63], \"wind_x_d9\": np_tmp[64], \"wind_y_d9\": np_tmp[65], \"rain_d9\": np_tmp[66], \"humidi_d9\": np_tmp[67], \"cloud_d9\": np_tmp[68], \"max_temp_d10\": np_tmp[69], \"min_temp_d10\": np_tmp[70], \"wind_x_d10\": np_tmp[71], \"wind_y_d10\": np_tmp[72], \"rain_d10\": np_tmp[73], \"humidi_d10\": np_tmp[74], \"cloud_d10\": np_tmp[75], \"max_temp_d11\": np_tmp[76], \"min_temp_d11\": np_tmp[77], \"wind_x_d11\": np_tmp[78], \"wind_y_d11\": np_tmp[79], \"rain_d11\": np_tmp[80], \"humidi_d11\": np_tmp[81], \"cloud_d11\": np_tmp[82], \"max_temp_d12\": np_tmp[83], \"min_temp_d12\": np_tmp[84], \"wind_x_d12\": np_tmp[85], \"wind_y_d12\": np_tmp[86], \"rain_d12\": np_tmp[87], \"humidi_d12\": np_tmp[88], \"cloud_d12\": np_tmp[89], \"max_temp_d13\": np_tmp[90], \"min_temp_d13\": np_tmp[91], \"wind_x_d13\": np_tmp[92], \"wind_y_d13\": np_tmp[93], \"rain_d13\": np_tmp[94], \"humidi_d13\": np_tmp[95], \"cloud_d13\": np_tmp[96], \"max_temp_d14\": np_tmp[97], \"min_temp_d14\": np_tmp[98], \"wind_x_d14\": np_tmp[99], \"wind_y_d14\": np_tmp[100], \"rain_d14\": np_tmp[101], \"humidi_d14\": np_tmp[102], \"cloud_d14\": np_tmp[103], \"max_temp_d15\": np_tmp[104], \"min_temp_d15\": np_tmp[105], \"wind_x_d15\": np_tmp[106], \"wind_y_d15\": np_tmp[107], \"rain_d15\": np_tmp[108], \"humidi_d15\": np_tmp[109], \"cloud_d15\": np_tmp[110], \"max_temp_d16\": np_tmp[111], \"min_temp_d16\": np_tmp[112], \"wind_x_d16\": np_tmp[113], \"wind_y_d16\": np_tmp[114], \"rain_d16\": np_tmp[115], \"humidi_d16\": np_tmp[116], \"cloud_d16\": np_tmp[117], \"max_temp_d17\": np_tmp[118], \"min_temp_d17\": np_tmp[119], \"wind_x_d17\": np_tmp[120], \"wind_y_d17\": np_tmp[121], \"rain_d17\": np_tmp[122], \"humidi_d17\": np_tmp[123], \"cloud_d17\": np_tmp[124], \"max_temp_d18\": np_tmp[125], \"min_temp_d18\": np_tmp[126], \"wind_x_d18\": np_tmp[127], \"wind_y_d18\": np_tmp[128], \"rain_d18\": np_tmp[129], \"humidi_d18\": np_tmp[130], \"cloud_d18\": np_tmp[131], \"max_temp_d19\": np_tmp[132], \"min_temp_d19\": np_tmp[133], \"wind_x_d19\": np_tmp[134], \"wind_y_d19\": np_tmp[135], \"rain_d19\": np_tmp[136], \"humidi_d19\": np_tmp[137], \"cloud_d19\": np_tmp[138], \"max_temp_d20\": np_tmp[139], \"min_temp_d20\": np_tmp[140], \"wind_x_d20\": np_tmp[141], \"wind_y_d20\": np_tmp[142], \"rain_d20\": np_tmp[143], \"humidi_d20\": np_tmp[144], \"cloud_d20\": np_tmp[145], \"max_temp_d21\": np_tmp[146], \"min_temp_d21\": np_tmp[147], \"wind_x_d21\": np_tmp[148], \"wind_y_d21\": np_tmp[149], \"rain_d21\": np_tmp[150], \"humidi_d21\": np_tmp[151], \"cloud_d21\": np_tmp[152], \"max_temp_d22\": np_tmp[153], \"min_temp_d22\": np_tmp[154], \"wind_x_d22\": np_tmp[155], \"wind_y_d22\": np_tmp[156], \"rain_d22\": np_tmp[157], \"humidi_d22\": np_tmp[158], \"cloud_d22\": np_tmp[159], \"max_temp_d23\": np_tmp[160], \"min_temp_d23\": np_tmp[161], \"wind_x_d23\": np_tmp[162], \"wind_y_d23\": np_tmp[163], \"rain_d23\": np_tmp[164], \"humidi_d23\": np_tmp[165], \"cloud_d23\": np_tmp[166], \"max_temp_d24\": np_tmp[167], \"min_temp_d24\": np_tmp[168], \"wind_x_d24\": np_tmp[169], \"wind_y_d24\": np_tmp[170], \"rain_d24\": np_tmp[171], \"humidi_d24\": np_tmp[172], \"cloud_d24\": np_tmp[173], \"max_temp_d25\": np_tmp[174], \"min_temp_d25\": np_tmp[175], \"wind_x_d25\": np_tmp[176], \"wind_y_d25\": np_tmp[177], \"rain_d25\": np_tmp[178], \"humidi_d25\": np_tmp[179], \"cloud_d25\": np_tmp[180], \"max_temp_d26\": np_tmp[181], \"min_temp_d26\": np_tmp[182], \"wind_x_d26\": np_tmp[183], \"wind_y_d26\": np_tmp[184], \"rain_d26\": np_tmp[185], \"humidi_d26\": np_tmp[186], \"cloud_d26\": np_tmp[187], \"max_temp_d27\": np_tmp[188], \"min_temp_d27\": np_tmp[189], \"wind_x_d27\": np_tmp[190], \"wind_y_d27\": np_tmp[191], \"rain_d27\": np_tmp[192], \"humidi_d27\": np_tmp[193], \"cloud_d27\": np_tmp[194], \"max_temp_d28\": np_tmp[195], \"min_temp_d28\": np_tmp[196], \"wind_x_d28\": np_tmp[197], \"wind_y_d28\": np_tmp[198], \"rain_d28\": np_tmp[199], \"humidi_d28\": np_tmp[200], \"cloud_d28\": np_tmp[201], \"max_temp_d29\": np_tmp[202], \"min_temp_d29\": np_tmp[203], \"wind_x_d29\": np_tmp[204], \"wind_y_d29\": np_tmp[205], \"rain_d29\": np_tmp[206], \"humidi_d29\": np_tmp[207], \"cloud_d29\": np_tmp[208], \"max_temp_d30\": np_tmp[209],  \"min_temp_d30\": np_tmp[210], \"wind_x_d30\": np_tmp[211], \"wind_y_d30\": np_tmp[212], \"rain_d30\": np_tmp[213], \"humidi_d30\": np_tmp[214], \"cloud_d30\": np_tmp[215]\n",
        "}\n",
        "df = DataFrame(data, columns= ['address', 'day', 'month', 'year', 'label', \"wildfire_in_a_day\", \"max_temp_d1\",\"min_temp_d1\", \"wind_x_d1\",\"wind_y_d1\",\"rain_d1\",\"humidi_d1\",\"cloud_d1\", \"max_temp_d2\", \"min_temp_d2\", \"wind_x_d2\", \"wind_y_d2\", \"rain_d2\", \"humidi_d2\", \"cloud_d2\", \"max_temp_d3\", \"min_temp_d3\", \"wind_x_d3\", \"wind_y_d3\", \"rain_d3\", \"humidi_d3\", \"cloud_d3\", \"max_temp_d4\", \"min_temp_d4\", \"wind_x_d4\", \"wind_y_d4\", \"rain_d4\", \"humidi_d4\", \"cloud_d4\", \"max_temp_d5\", \"min_temp_d5\", \"wind_x_d5\", \"wind_y_d5\", \"rain_d5\", \"humidi_d5\", \"cloud_d5\", \"max_temp_d6\", \"min_temp_d6\", \"wind_x_d6\", \"wind_y_d6\", \"rain_d6\", \"humidi_d6\", \"cloud_d6\", \"max_temp_d7\", \"min_temp_d7\", \"wind_x_d7\", \"wind_y_d7\", \"rain_d7\", \"humidi_d7\", \"cloud_d7\", \"max_temp_d8\", \"min_temp_d8\", \"wind_x_d8\", \"wind_y_d8\", \"rain_d8\", \"humidi_d8\", \"cloud_d8\", \"max_temp_d9\", \"min_temp_d9\", \"wind_x_d9\", \"wind_y_d9\", \"rain_d9\", \"humidi_d9\", \"cloud_d9\", \"max_temp_d10\", \"min_temp_d10\", \"wind_x_d10\", \"wind_y_d10\", \"rain_d10\", \"humidi_d10\", \"cloud_d10\", \"max_temp_d11\", \"min_temp_d11\", \"wind_x_d11\", \"wind_y_d11\", \"rain_d11\", \"humidi_d11\",  \"cloud_d11\", \"max_temp_d12\", \"min_temp_d12\", \"wind_x_d12\", \"wind_y_d12\", \"rain_d12\", \"humidi_d12\", \"cloud_d12\", \"max_temp_d13\", \"min_temp_d13\", \"wind_x_d13\", \"wind_y_d13\", \"rain_d13\", \"humidi_d13\", \"cloud_d13\", \"max_temp_d14\", \"min_temp_d14\", \"wind_x_d14\", \"wind_y_d14\", \"rain_d14\", \"humidi_d14\", \"cloud_d14\", \"max_temp_d15\", \"min_temp_d15\", \"wind_x_d15\", \"wind_y_d15\", \"rain_d15\", \"humidi_d15\", \"cloud_d15\", \"max_temp_d16\", \"min_temp_d16\", \"wind_x_d16\", \"wind_y_d16\", \"rain_d16\", \"humidi_d16\", \"cloud_d16\", \"max_temp_d17\", \"min_temp_d17\", \"wind_x_d17\", \"wind_y_d17\", \"rain_d17\", \"humidi_d17\", \"cloud_d17\", \"max_temp_d18\", \"min_temp_d18\", \"wind_x_d18\", \"wind_y_d18\", \"rain_d18\", \"humidi_d18\", \"cloud_d18\", \"max_temp_d19\", \"min_temp_d19\", \"wind_x_d19\", \"wind_y_d19\", \"rain_d19\", \"humidi_d19\", \"cloud_d19\", \"max_temp_d20\", \"min_temp_d20\", \"wind_x_d20\", \"wind_y_d20\", \"rain_d20\", \"humidi_d20\", \"cloud_d20\", \"max_temp_d21\", \"min_temp_d21\", \"wind_x_d21\", \"wind_y_d21\", \"rain_d21\", \"humidi_d21\", \"cloud_d21\", \"max_temp_d22\", \"min_temp_d22\", \"wind_x_d22\", \"wind_y_d22\", \"rain_d22\", \"humidi_d22\", \"cloud_d22\", \"max_temp_d23\", \"min_temp_d23\", \"wind_x_d23\", \"wind_y_d23\", \"rain_d23\", \"humidi_d23\", \"cloud_d23\", \"max_temp_d24\", \"min_temp_d24\", \"wind_x_d24\", \"wind_y_d24\", \"rain_d24\", \"humidi_d24\", \"cloud_d24\", \"max_temp_d25\", \"min_temp_d25\", \"wind_x_d25\", \"wind_y_d25\", \"rain_d25\", \"humidi_d25\", \"cloud_d25\", \"max_temp_d26\", \"min_temp_d26\", \"wind_x_d26\", \"wind_y_d26\", \"rain_d26\", \"humidi_d26\", \"cloud_d26\", \"max_temp_d27\", \"min_temp_d27\", \"wind_x_d27\", \"wind_y_d27\", \"rain_d27\", \"humidi_d27\", \"cloud_d27\", \"max_temp_d28\", \"min_temp_d28\", \"wind_x_d28\", \"wind_y_d28\", \"rain_d28\", \"humidi_d28\", \"cloud_d28\", \"max_temp_d29\", \"min_temp_d29\", \"wind_x_d29\", \"wind_y_d29\", \"rain_d29\", \"humidi_d29\", \"cloud_d29\", \"max_temp_d30\", \"min_temp_d30\", \"wind_x_d30\", \"wind_y_d30\", \"rain_d30\", \"humidi_d30\", \"cloud_d30\"\n",
        "])"
      ],
      "execution_count": null,
      "outputs": []
    },
    {
      "cell_type": "markdown",
      "metadata": {
        "id": "RUeAzWj9mK9f"
      },
      "source": [
        "+ Label 0"
      ]
    },
    {
      "cell_type": "code",
      "metadata": {
        "id": "yD2iRESkmIDz"
      },
      "source": [
        "arr_tmp = df_weather[df_weather['address']=\"Dlêi Yang, Ea H'Leo, Đắk Lắk\"]\n",
        "arr_tmp['year'] = arr_tmp['date'].apply(lambda x: int(str(x).split('/')[0]))\n",
        "arr_w = arr_tmp[arr_tmp['year']==2014]\n",
        "temp_date =arr_w.sort_values(by='date')\n",
        "tm = temp_date[temp_date['date']>'2014-06-30']\n",
        "np_dmonth = np.array([tm['day'], tm['month']]).T"
      ],
      "execution_count": null,
      "outputs": []
    },
    {
      "cell_type": "code",
      "metadata": {
        "id": "TxFZ33wymO5g"
      },
      "source": [
        "np_wc = df_wardcode.to_numpy()"
      ],
      "execution_count": null,
      "outputs": []
    },
    {
      "cell_type": "code",
      "metadata": {
        "id": "vyHT98g4mQow"
      },
      "source": [
        "arr_wc_date = []\n",
        "for i in range(len(np_wc)):\n",
        "  for j in range(0, len(np_dmonth), 7):\n",
        "    arr_wc_date.append([np_wc[i][0], np_wc[i][1], np_dmonth[j][0], np_dmonth[j][1]])"
      ],
      "execution_count": null,
      "outputs": []
    },
    {
      "cell_type": "code",
      "metadata": {
        "id": "dkyejZDcmR4I"
      },
      "source": [
        "np_tmp = np.array(arr_wc_date).T\n",
        "data = {\n",
        "    'ward_code': np_tmp[0],\n",
        "    'address': np_tmp[1],\n",
        "    'day': np_tmp[2],\n",
        "    'month': np_tmp[3]\n",
        "}\n",
        "df_daymonth_label0 = DataFrame(data, columns=['ward_code', 'address', 'day', 'month'])"
      ],
      "execution_count": null,
      "outputs": []
    },
    {
      "cell_type": "code",
      "metadata": {
        "id": "TjmaIh06mS9Q"
      },
      "source": [
        "np_wf_day_province_year = df_daymonth_label0.to_numpy()"
      ],
      "execution_count": null,
      "outputs": []
    },
    {
      "cell_type": "code",
      "metadata": {
        "id": "10YIN4qomUXg"
      },
      "source": [
        "# Tạo dữ liệu train model\n",
        "list_data_final_lb0 = []\n",
        "for i in range(len(np_wildfire_tn)):\n",
        "  count = 0\n",
        "  d = int(np_wildfire_tn[i][1])\n",
        "  m = int(np_wildfire_tn[i][2])\n",
        "  y = int(np_wildfire_tn[i][3])\n",
        "  tmp_arr = [np_wildfire_tn[i][0], np_wildfire_tn[i][1], np_wildfire_tn[i][2], np_wildfire_tn[i][3], 1, np_wildfire_tn[i][4]] \n",
        "\n",
        "  while(count < 30):\n",
        "    tp = count\n",
        "    for j in range(len(np_weather)):\n",
        "      if np_weather[j][0] == np_wildfire_tn[i][0] and d == int(np_weather[j][1]) and m == int(np_weather[j][2]) and y == int(np_weather[j][3]):\n",
        "        tmp_arr.extend([np_weather[j][4], np_weather[j][5], np_weather[j][6], np_weather[j][7],  np_weather[j][8], np_weather[j][9], np_weather[j][10]])\n",
        "        tp += 1\n",
        "        break\n",
        "\n",
        "    if tp == count:\n",
        "      break\n",
        "    if d > 1:\n",
        "      d = d - 1\n",
        "    elif d == 1:\n",
        "      if m == 1:\n",
        "        d = 31\n",
        "        m = 12\n",
        "        y = y - 1\n",
        "      elif m in [5, 7, 10, 12]:\n",
        "        d = 30\n",
        "        m = m - 1\n",
        "      elif m in [2, 4, 6, 8, 9, 11]:\n",
        "        d = 31\n",
        "        m = m - 1\n",
        "      elif m == 3:\n",
        "        if(checkYear(y)): \n",
        "          d = 29\n",
        "          m = m - 1\n",
        "        else:\n",
        "          d = 28\n",
        "          m = m - 1\n",
        "\n",
        "    count += 1\n",
        "\n",
        "  if len(tmp_arr) == 275:\n",
        "    list_data_final_lb0.append(tmp_arr)\n",
        "    print(len(list_data_final_lb0))"
      ],
      "execution_count": null,
      "outputs": []
    },
    {
      "cell_type": "code",
      "metadata": {
        "id": "5db0n5UamX1f"
      },
      "source": [
        "np_tmp = np.array(list_data_final).T"
      ],
      "execution_count": null,
      "outputs": []
    },
    {
      "cell_type": "code",
      "metadata": {
        "id": "b3v7yK-imWVZ"
      },
      "source": [
        "data = {\n",
        "  \"address\": np_tmp[0], \"day\": np_tmp[1], \"month\": np_tmp[2], \"year\": np_tmp[3], \"label\": np_tmp[4], \"wildfire_in_a_day\": np_tmp[5], \"max_temp_d1\": np_tmp[6], \"min_temp_d1\": np_tmp[7], \"wind_x_d1\": np_tmp[8], \"wind_y_d1\": np_tmp[9], \"rain_d1\": np_tmp[10], \"humidi_d1\": np_tmp[11], \"cloud_d1\": np_tmp[12], \"max_temp_d2\": np_tmp[13], \"min_temp_d2\": np_tmp[14], \"wind_x_d2\": np_tmp[15], \"wind_y_d2\": np_tmp[16], \"rain_d2\": np_tmp[17], \"humidi_d2\": np_tmp[18], \"cloud_d2\": np_tmp[19], \"max_temp_d3\": np_tmp[20], \"min_temp_d3\": np_tmp[21], \"wind_x_d3\": np_tmp[22], \"wind_y_d3\": np_tmp[23], \"rain_d3\": np_tmp[24], \"humidi_d3\": np_tmp[25], \"cloud_d3\": np_tmp[26], \"max_temp_d4\": np_tmp[27], \"min_temp_d4\": np_tmp[28], \"wind_x_d4\": np_tmp[29], \"wind_y_d4\": np_tmp[30], \"rain_d4\": np_tmp[31], \"humidi_d4\": np_tmp[32], \"cloud_d4\": np_tmp[33], \"max_temp_d5\": np_tmp[34], \"min_temp_d5\": np_tmp[35], \"wind_x_d5\": np_tmp[36], \"wind_y_d5\": np_tmp[37], \"rain_d5\": np_tmp[38], \"humidi_d5\": np_tmp[39], \"cloud_d5\": np_tmp[40], \"max_temp_d6\": np_tmp[41], \"min_temp_d6\": np_tmp[42], \"wind_x_d6\": np_tmp[43], \"wind_y_d6\": np_tmp[44], \"rain_d6\": np_tmp[45], \"humidi_d6\": np_tmp[46], \"cloud_d6\": np_tmp[47], \"max_temp_d7\": np_tmp[48], \"min_temp_d7\": np_tmp[49], \"wind_x_d7\": np_tmp[50], \"wind_y_d7\": np_tmp[51], \"rain_d7\": np_tmp[52], \"humidi_d7\": np_tmp[53], \"cloud_d7\": np_tmp[54], \"max_temp_d8\": np_tmp[55], \"min_temp_d8\": np_tmp[56], \"wind_x_d8\": np_tmp[57], \"wind_y_d8\": np_tmp[58], \"rain_d8\": np_tmp[59], \"humidi_d8\": np_tmp[60], \"cloud_d8\": np_tmp[61], \"max_temp_d9\": np_tmp[62], \"min_temp_d9\": np_tmp[63], \"wind_x_d9\": np_tmp[64], \"wind_y_d9\": np_tmp[65], \"rain_d9\": np_tmp[66], \"humidi_d9\": np_tmp[67], \"cloud_d9\": np_tmp[68], \"max_temp_d10\": np_tmp[69], \"min_temp_d10\": np_tmp[70], \"wind_x_d10\": np_tmp[71], \"wind_y_d10\": np_tmp[72], \"rain_d10\": np_tmp[73], \"humidi_d10\": np_tmp[74], \"cloud_d10\": np_tmp[75], \"max_temp_d11\": np_tmp[76], \"min_temp_d11\": np_tmp[77], \"wind_x_d11\": np_tmp[78], \"wind_y_d11\": np_tmp[79], \"rain_d11\": np_tmp[80], \"humidi_d11\": np_tmp[81], \"cloud_d11\": np_tmp[82], \"max_temp_d12\": np_tmp[83], \"min_temp_d12\": np_tmp[84], \"wind_x_d12\": np_tmp[85], \"wind_y_d12\": np_tmp[86], \"rain_d12\": np_tmp[87], \"humidi_d12\": np_tmp[88], \"cloud_d12\": np_tmp[89], \"max_temp_d13\": np_tmp[90], \"min_temp_d13\": np_tmp[91], \"wind_x_d13\": np_tmp[92], \"wind_y_d13\": np_tmp[93], \"rain_d13\": np_tmp[94], \"humidi_d13\": np_tmp[95], \"cloud_d13\": np_tmp[96], \"max_temp_d14\": np_tmp[97], \"min_temp_d14\": np_tmp[98], \"wind_x_d14\": np_tmp[99], \"wind_y_d14\": np_tmp[100], \"rain_d14\": np_tmp[101], \"humidi_d14\": np_tmp[102], \"cloud_d14\": np_tmp[103], \"max_temp_d15\": np_tmp[104], \"min_temp_d15\": np_tmp[105], \"wind_x_d15\": np_tmp[106], \"wind_y_d15\": np_tmp[107], \"rain_d15\": np_tmp[108], \"humidi_d15\": np_tmp[109], \"cloud_d15\": np_tmp[110], \"max_temp_d16\": np_tmp[111], \"min_temp_d16\": np_tmp[112], \"wind_x_d16\": np_tmp[113], \"wind_y_d16\": np_tmp[114], \"rain_d16\": np_tmp[115], \"humidi_d16\": np_tmp[116], \"cloud_d16\": np_tmp[117], \"max_temp_d17\": np_tmp[118], \"min_temp_d17\": np_tmp[119], \"wind_x_d17\": np_tmp[120], \"wind_y_d17\": np_tmp[121], \"rain_d17\": np_tmp[122], \"humidi_d17\": np_tmp[123], \"cloud_d17\": np_tmp[124], \"max_temp_d18\": np_tmp[125], \"min_temp_d18\": np_tmp[126], \"wind_x_d18\": np_tmp[127], \"wind_y_d18\": np_tmp[128], \"rain_d18\": np_tmp[129], \"humidi_d18\": np_tmp[130], \"cloud_d18\": np_tmp[131], \"max_temp_d19\": np_tmp[132], \"min_temp_d19\": np_tmp[133], \"wind_x_d19\": np_tmp[134], \"wind_y_d19\": np_tmp[135], \"rain_d19\": np_tmp[136], \"humidi_d19\": np_tmp[137], \"cloud_d19\": np_tmp[138], \"max_temp_d20\": np_tmp[139], \"min_temp_d20\": np_tmp[140], \"wind_x_d20\": np_tmp[141], \"wind_y_d20\": np_tmp[142], \"rain_d20\": np_tmp[143], \"humidi_d20\": np_tmp[144], \"cloud_d20\": np_tmp[145], \"max_temp_d21\": np_tmp[146], \"min_temp_d21\": np_tmp[147], \"wind_x_d21\": np_tmp[148], \"wind_y_d21\": np_tmp[149], \"rain_d21\": np_tmp[150], \"humidi_d21\": np_tmp[151], \"cloud_d21\": np_tmp[152], \"max_temp_d22\": np_tmp[153], \"min_temp_d22\": np_tmp[154], \"wind_x_d22\": np_tmp[155], \"wind_y_d22\": np_tmp[156], \"rain_d22\": np_tmp[157], \"humidi_d22\": np_tmp[158], \"cloud_d22\": np_tmp[159], \"max_temp_d23\": np_tmp[160], \"min_temp_d23\": np_tmp[161], \"wind_x_d23\": np_tmp[162], \"wind_y_d23\": np_tmp[163], \"rain_d23\": np_tmp[164], \"humidi_d23\": np_tmp[165], \"cloud_d23\": np_tmp[166], \"max_temp_d24\": np_tmp[167], \"min_temp_d24\": np_tmp[168], \"wind_x_d24\": np_tmp[169], \"wind_y_d24\": np_tmp[170], \"rain_d24\": np_tmp[171], \"humidi_d24\": np_tmp[172], \"cloud_d24\": np_tmp[173], \"max_temp_d25\": np_tmp[174], \"min_temp_d25\": np_tmp[175], \"wind_x_d25\": np_tmp[176], \"wind_y_d25\": np_tmp[177], \"rain_d25\": np_tmp[178], \"humidi_d25\": np_tmp[179], \"cloud_d25\": np_tmp[180], \"max_temp_d26\": np_tmp[181], \"min_temp_d26\": np_tmp[182], \"wind_x_d26\": np_tmp[183], \"wind_y_d26\": np_tmp[184], \"rain_d26\": np_tmp[185], \"humidi_d26\": np_tmp[186], \"cloud_d26\": np_tmp[187], \"max_temp_d27\": np_tmp[188], \"min_temp_d27\": np_tmp[189], \"wind_x_d27\": np_tmp[190], \"wind_y_d27\": np_tmp[191], \"rain_d27\": np_tmp[192], \"humidi_d27\": np_tmp[193], \"cloud_d27\": np_tmp[194], \"max_temp_d28\": np_tmp[195], \"min_temp_d28\": np_tmp[196], \"wind_x_d28\": np_tmp[197], \"wind_y_d28\": np_tmp[198], \"rain_d28\": np_tmp[199], \"humidi_d28\": np_tmp[200], \"cloud_d28\": np_tmp[201], \"max_temp_d29\": np_tmp[202], \"min_temp_d29\": np_tmp[203], \"wind_x_d29\": np_tmp[204], \"wind_y_d29\": np_tmp[205], \"rain_d29\": np_tmp[206], \"humidi_d29\": np_tmp[207], \"cloud_d29\": np_tmp[208], \"max_temp_d30\": np_tmp[209],  \"min_temp_d30\": np_tmp[210], \"wind_x_d30\": np_tmp[211], \"wind_y_d30\": np_tmp[212], \"rain_d30\": np_tmp[213], \"humidi_d30\": np_tmp[214], \"cloud_d30\": np_tmp[215]\n",
        "}\n",
        "df = DataFrame(data, columns= ['address', 'day', 'month', 'year', 'label', \"wildfire_in_a_day\", \"max_temp_d1\",\"min_temp_d1\", \"wind_x_d1\",\"wind_y_d1\",\"rain_d1\",\"humidi_d1\",\"cloud_d1\", \"max_temp_d2\", \"min_temp_d2\", \"wind_x_d2\", \"wind_y_d2\", \"rain_d2\", \"humidi_d2\", \"cloud_d2\", \"max_temp_d3\", \"min_temp_d3\", \"wind_x_d3\", \"wind_y_d3\", \"rain_d3\", \"humidi_d3\", \"cloud_d3\", \"max_temp_d4\", \"min_temp_d4\", \"wind_x_d4\", \"wind_y_d4\", \"rain_d4\", \"humidi_d4\", \"cloud_d4\", \"max_temp_d5\", \"min_temp_d5\", \"wind_x_d5\", \"wind_y_d5\", \"rain_d5\", \"humidi_d5\", \"cloud_d5\", \"max_temp_d6\", \"min_temp_d6\", \"wind_x_d6\", \"wind_y_d6\", \"rain_d6\", \"humidi_d6\", \"cloud_d6\", \"max_temp_d7\", \"min_temp_d7\", \"wind_x_d7\", \"wind_y_d7\", \"rain_d7\", \"humidi_d7\", \"cloud_d7\", \"max_temp_d8\", \"min_temp_d8\", \"wind_x_d8\", \"wind_y_d8\", \"rain_d8\", \"humidi_d8\", \"cloud_d8\", \"max_temp_d9\", \"min_temp_d9\", \"wind_x_d9\", \"wind_y_d9\", \"rain_d9\", \"humidi_d9\", \"cloud_d9\", \"max_temp_d10\", \"min_temp_d10\", \"wind_x_d10\", \"wind_y_d10\", \"rain_d10\", \"humidi_d10\", \"cloud_d10\", \"max_temp_d11\", \"min_temp_d11\", \"wind_x_d11\", \"wind_y_d11\", \"rain_d11\", \"humidi_d11\",  \"cloud_d11\", \"max_temp_d12\", \"min_temp_d12\", \"wind_x_d12\", \"wind_y_d12\", \"rain_d12\", \"humidi_d12\", \"cloud_d12\", \"max_temp_d13\", \"min_temp_d13\", \"wind_x_d13\", \"wind_y_d13\", \"rain_d13\", \"humidi_d13\", \"cloud_d13\", \"max_temp_d14\", \"min_temp_d14\", \"wind_x_d14\", \"wind_y_d14\", \"rain_d14\", \"humidi_d14\", \"cloud_d14\", \"max_temp_d15\", \"min_temp_d15\", \"wind_x_d15\", \"wind_y_d15\", \"rain_d15\", \"humidi_d15\", \"cloud_d15\", \"max_temp_d16\", \"min_temp_d16\", \"wind_x_d16\", \"wind_y_d16\", \"rain_d16\", \"humidi_d16\", \"cloud_d16\", \"max_temp_d17\", \"min_temp_d17\", \"wind_x_d17\", \"wind_y_d17\", \"rain_d17\", \"humidi_d17\", \"cloud_d17\", \"max_temp_d18\", \"min_temp_d18\", \"wind_x_d18\", \"wind_y_d18\", \"rain_d18\", \"humidi_d18\", \"cloud_d18\", \"max_temp_d19\", \"min_temp_d19\", \"wind_x_d19\", \"wind_y_d19\", \"rain_d19\", \"humidi_d19\", \"cloud_d19\", \"max_temp_d20\", \"min_temp_d20\", \"wind_x_d20\", \"wind_y_d20\", \"rain_d20\", \"humidi_d20\", \"cloud_d20\", \"max_temp_d21\", \"min_temp_d21\", \"wind_x_d21\", \"wind_y_d21\", \"rain_d21\", \"humidi_d21\", \"cloud_d21\", \"max_temp_d22\", \"min_temp_d22\", \"wind_x_d22\", \"wind_y_d22\", \"rain_d22\", \"humidi_d22\", \"cloud_d22\", \"max_temp_d23\", \"min_temp_d23\", \"wind_x_d23\", \"wind_y_d23\", \"rain_d23\", \"humidi_d23\", \"cloud_d23\", \"max_temp_d24\", \"min_temp_d24\", \"wind_x_d24\", \"wind_y_d24\", \"rain_d24\", \"humidi_d24\", \"cloud_d24\", \"max_temp_d25\", \"min_temp_d25\", \"wind_x_d25\", \"wind_y_d25\", \"rain_d25\", \"humidi_d25\", \"cloud_d25\", \"max_temp_d26\", \"min_temp_d26\", \"wind_x_d26\", \"wind_y_d26\", \"rain_d26\", \"humidi_d26\", \"cloud_d26\", \"max_temp_d27\", \"min_temp_d27\", \"wind_x_d27\", \"wind_y_d27\", \"rain_d27\", \"humidi_d27\", \"cloud_d27\", \"max_temp_d28\", \"min_temp_d28\", \"wind_x_d28\", \"wind_y_d28\", \"rain_d28\", \"humidi_d28\", \"cloud_d28\", \"max_temp_d29\", \"min_temp_d29\", \"wind_x_d29\", \"wind_y_d29\", \"rain_d29\", \"humidi_d29\", \"cloud_d29\", \"max_temp_d30\", \"min_temp_d30\", \"wind_x_d30\", \"wind_y_d30\", \"rain_d30\", \"humidi_d30\", \"cloud_d30\"\n",
        "])"
      ],
      "execution_count": null,
      "outputs": []
    },
    {
      "cell_type": "code",
      "metadata": {
        "id": "SpBVoHjwmlkh"
      },
      "source": [
        "# Ghép dữ liệu label 1 với dữ liệu label 0\n",
        "df_Xy = pd.concat([df_label1, df_label0])\n",
        "# Đổi chỗ dữ liệu\n",
        "np_tmp = df_Xy.to_numpy().T"
      ],
      "execution_count": null,
      "outputs": []
    },
    {
      "cell_type": "code",
      "metadata": {
        "id": "RQYpW_FSmnF5"
      },
      "source": [
        "data = {\n",
        "  \"address\": np_tmp[0], \"day\": np_tmp[1], \"month\": np_tmp[2], \"year\": np_tmp[3], \"label\": np_tmp[4], \"wildfire_in_a_day\": np_tmp[5], \"max_temp_d1\": np_tmp[6], \"min_temp_d1\": np_tmp[7], \"wind_x_d1\": np_tmp[8], \"wind_y_d1\": np_tmp[9], \"rain_d1\": np_tmp[10], \"humidi_d1\": np_tmp[11], \"cloud_d1\": np_tmp[12], \"max_temp_d2\": np_tmp[13], \"min_temp_d2\": np_tmp[14], \"wind_x_d2\": np_tmp[15], \"wind_y_d2\": np_tmp[16], \"rain_d2\": np_tmp[17], \"humidi_d2\": np_tmp[18], \"cloud_d2\": np_tmp[19], \"max_temp_d3\": np_tmp[20], \"min_temp_d3\": np_tmp[21], \"wind_x_d3\": np_tmp[22], \"wind_y_d3\": np_tmp[23], \"rain_d3\": np_tmp[24], \"humidi_d3\": np_tmp[25], \"cloud_d3\": np_tmp[26], \"max_temp_d4\": np_tmp[27], \"min_temp_d4\": np_tmp[28], \"wind_x_d4\": np_tmp[29], \"wind_y_d4\": np_tmp[30], \"rain_d4\": np_tmp[31], \"humidi_d4\": np_tmp[32], \"cloud_d4\": np_tmp[33], \"max_temp_d5\": np_tmp[34], \"min_temp_d5\": np_tmp[35], \"wind_x_d5\": np_tmp[36], \"wind_y_d5\": np_tmp[37], \"rain_d5\": np_tmp[38], \"humidi_d5\": np_tmp[39], \"cloud_d5\": np_tmp[40], \"max_temp_d6\": np_tmp[41], \"min_temp_d6\": np_tmp[42], \"wind_x_d6\": np_tmp[43], \"wind_y_d6\": np_tmp[44], \"rain_d6\": np_tmp[45], \"humidi_d6\": np_tmp[46], \"cloud_d6\": np_tmp[47], \"max_temp_d7\": np_tmp[48], \"min_temp_d7\": np_tmp[49], \"wind_x_d7\": np_tmp[50], \"wind_y_d7\": np_tmp[51], \"rain_d7\": np_tmp[52], \"humidi_d7\": np_tmp[53], \"cloud_d7\": np_tmp[54], \"max_temp_d8\": np_tmp[55], \"min_temp_d8\": np_tmp[56], \"wind_x_d8\": np_tmp[57], \"wind_y_d8\": np_tmp[58], \"rain_d8\": np_tmp[59], \"humidi_d8\": np_tmp[60], \"cloud_d8\": np_tmp[61], \"max_temp_d9\": np_tmp[62], \"min_temp_d9\": np_tmp[63], \"wind_x_d9\": np_tmp[64], \"wind_y_d9\": np_tmp[65], \"rain_d9\": np_tmp[66], \"humidi_d9\": np_tmp[67], \"cloud_d9\": np_tmp[68], \"max_temp_d10\": np_tmp[69], \"min_temp_d10\": np_tmp[70], \"wind_x_d10\": np_tmp[71], \"wind_y_d10\": np_tmp[72], \"rain_d10\": np_tmp[73], \"humidi_d10\": np_tmp[74], \"cloud_d10\": np_tmp[75], \"max_temp_d11\": np_tmp[76], \"min_temp_d11\": np_tmp[77], \"wind_x_d11\": np_tmp[78], \"wind_y_d11\": np_tmp[79], \"rain_d11\": np_tmp[80], \"humidi_d11\": np_tmp[81], \"cloud_d11\": np_tmp[82], \"max_temp_d12\": np_tmp[83], \"min_temp_d12\": np_tmp[84], \"wind_x_d12\": np_tmp[85], \"wind_y_d12\": np_tmp[86], \"rain_d12\": np_tmp[87], \"humidi_d12\": np_tmp[88], \"cloud_d12\": np_tmp[89], \"max_temp_d13\": np_tmp[90], \"min_temp_d13\": np_tmp[91], \"wind_x_d13\": np_tmp[92], \"wind_y_d13\": np_tmp[93], \"rain_d13\": np_tmp[94], \"humidi_d13\": np_tmp[95], \"cloud_d13\": np_tmp[96], \"max_temp_d14\": np_tmp[97], \"min_temp_d14\": np_tmp[98], \"wind_x_d14\": np_tmp[99], \"wind_y_d14\": np_tmp[100], \"rain_d14\": np_tmp[101], \"humidi_d14\": np_tmp[102], \"cloud_d14\": np_tmp[103], \"max_temp_d15\": np_tmp[104], \"min_temp_d15\": np_tmp[105], \"wind_x_d15\": np_tmp[106], \"wind_y_d15\": np_tmp[107], \"rain_d15\": np_tmp[108], \"humidi_d15\": np_tmp[109], \"cloud_d15\": np_tmp[110], \"max_temp_d16\": np_tmp[111], \"min_temp_d16\": np_tmp[112], \"wind_x_d16\": np_tmp[113], \"wind_y_d16\": np_tmp[114], \"rain_d16\": np_tmp[115], \"humidi_d16\": np_tmp[116], \"cloud_d16\": np_tmp[117], \"max_temp_d17\": np_tmp[118], \"min_temp_d17\": np_tmp[119], \"wind_x_d17\": np_tmp[120], \"wind_y_d17\": np_tmp[121], \"rain_d17\": np_tmp[122], \"humidi_d17\": np_tmp[123], \"cloud_d17\": np_tmp[124], \"max_temp_d18\": np_tmp[125], \"min_temp_d18\": np_tmp[126], \"wind_x_d18\": np_tmp[127], \"wind_y_d18\": np_tmp[128], \"rain_d18\": np_tmp[129], \"humidi_d18\": np_tmp[130], \"cloud_d18\": np_tmp[131], \"max_temp_d19\": np_tmp[132], \"min_temp_d19\": np_tmp[133], \"wind_x_d19\": np_tmp[134], \"wind_y_d19\": np_tmp[135], \"rain_d19\": np_tmp[136], \"humidi_d19\": np_tmp[137], \"cloud_d19\": np_tmp[138], \"max_temp_d20\": np_tmp[139], \"min_temp_d20\": np_tmp[140], \"wind_x_d20\": np_tmp[141], \"wind_y_d20\": np_tmp[142], \"rain_d20\": np_tmp[143], \"humidi_d20\": np_tmp[144], \"cloud_d20\": np_tmp[145], \"max_temp_d21\": np_tmp[146], \"min_temp_d21\": np_tmp[147], \"wind_x_d21\": np_tmp[148], \"wind_y_d21\": np_tmp[149], \"rain_d21\": np_tmp[150], \"humidi_d21\": np_tmp[151], \"cloud_d21\": np_tmp[152], \"max_temp_d22\": np_tmp[153], \"min_temp_d22\": np_tmp[154], \"wind_x_d22\": np_tmp[155], \"wind_y_d22\": np_tmp[156], \"rain_d22\": np_tmp[157], \"humidi_d22\": np_tmp[158], \"cloud_d22\": np_tmp[159], \"max_temp_d23\": np_tmp[160], \"min_temp_d23\": np_tmp[161], \"wind_x_d23\": np_tmp[162], \"wind_y_d23\": np_tmp[163], \"rain_d23\": np_tmp[164], \"humidi_d23\": np_tmp[165], \"cloud_d23\": np_tmp[166], \"max_temp_d24\": np_tmp[167], \"min_temp_d24\": np_tmp[168], \"wind_x_d24\": np_tmp[169], \"wind_y_d24\": np_tmp[170], \"rain_d24\": np_tmp[171], \"humidi_d24\": np_tmp[172], \"cloud_d24\": np_tmp[173], \"max_temp_d25\": np_tmp[174], \"min_temp_d25\": np_tmp[175], \"wind_x_d25\": np_tmp[176], \"wind_y_d25\": np_tmp[177], \"rain_d25\": np_tmp[178], \"humidi_d25\": np_tmp[179], \"cloud_d25\": np_tmp[180], \"max_temp_d26\": np_tmp[181], \"min_temp_d26\": np_tmp[182], \"wind_x_d26\": np_tmp[183], \"wind_y_d26\": np_tmp[184], \"rain_d26\": np_tmp[185], \"humidi_d26\": np_tmp[186], \"cloud_d26\": np_tmp[187], \"max_temp_d27\": np_tmp[188], \"min_temp_d27\": np_tmp[189], \"wind_x_d27\": np_tmp[190], \"wind_y_d27\": np_tmp[191], \"rain_d27\": np_tmp[192], \"humidi_d27\": np_tmp[193], \"cloud_d27\": np_tmp[194], \"max_temp_d28\": np_tmp[195], \"min_temp_d28\": np_tmp[196], \"wind_x_d28\": np_tmp[197], \"wind_y_d28\": np_tmp[198], \"rain_d28\": np_tmp[199], \"humidi_d28\": np_tmp[200], \"cloud_d28\": np_tmp[201], \"max_temp_d29\": np_tmp[202], \"min_temp_d29\": np_tmp[203], \"wind_x_d29\": np_tmp[204], \"wind_y_d29\": np_tmp[205], \"rain_d29\": np_tmp[206], \"humidi_d29\": np_tmp[207], \"cloud_d29\": np_tmp[208], \"max_temp_d30\": np_tmp[209],  \"min_temp_d30\": np_tmp[210], \"wind_x_d30\": np_tmp[211], \"wind_y_d30\": np_tmp[212], \"rain_d30\": np_tmp[213], \"humidi_d30\": np_tmp[214], \"cloud_d30\": np_tmp[215]\n",
        "}\n",
        "df = DataFrame(data, columns= ['address', 'day', 'month', 'year', 'label', \"wildfire_in_a_day\", \"max_temp_d1\",\"min_temp_d1\", \"wind_x_d1\",\"wind_y_d1\",\"rain_d1\",\"humidi_d1\",\"cloud_d1\", \"max_temp_d2\", \"min_temp_d2\", \"wind_x_d2\", \"wind_y_d2\", \"rain_d2\", \"humidi_d2\", \"cloud_d2\", \"max_temp_d3\", \"min_temp_d3\", \"wind_x_d3\", \"wind_y_d3\", \"rain_d3\", \"humidi_d3\", \"cloud_d3\", \"max_temp_d4\", \"min_temp_d4\", \"wind_x_d4\", \"wind_y_d4\", \"rain_d4\", \"humidi_d4\", \"cloud_d4\", \"max_temp_d5\", \"min_temp_d5\", \"wind_x_d5\", \"wind_y_d5\", \"rain_d5\", \"humidi_d5\", \"cloud_d5\", \"max_temp_d6\", \"min_temp_d6\", \"wind_x_d6\", \"wind_y_d6\", \"rain_d6\", \"humidi_d6\", \"cloud_d6\", \"max_temp_d7\", \"min_temp_d7\", \"wind_x_d7\", \"wind_y_d7\", \"rain_d7\", \"humidi_d7\", \"cloud_d7\", \"max_temp_d8\", \"min_temp_d8\", \"wind_x_d8\", \"wind_y_d8\", \"rain_d8\", \"humidi_d8\", \"cloud_d8\", \"max_temp_d9\", \"min_temp_d9\", \"wind_x_d9\", \"wind_y_d9\", \"rain_d9\", \"humidi_d9\", \"cloud_d9\", \"max_temp_d10\", \"min_temp_d10\", \"wind_x_d10\", \"wind_y_d10\", \"rain_d10\", \"humidi_d10\", \"cloud_d10\", \"max_temp_d11\", \"min_temp_d11\", \"wind_x_d11\", \"wind_y_d11\", \"rain_d11\", \"humidi_d11\",  \"cloud_d11\", \"max_temp_d12\", \"min_temp_d12\", \"wind_x_d12\", \"wind_y_d12\", \"rain_d12\", \"humidi_d12\", \"cloud_d12\", \"max_temp_d13\", \"min_temp_d13\", \"wind_x_d13\", \"wind_y_d13\", \"rain_d13\", \"humidi_d13\", \"cloud_d13\", \"max_temp_d14\", \"min_temp_d14\", \"wind_x_d14\", \"wind_y_d14\", \"rain_d14\", \"humidi_d14\", \"cloud_d14\", \"max_temp_d15\", \"min_temp_d15\", \"wind_x_d15\", \"wind_y_d15\", \"rain_d15\", \"humidi_d15\", \"cloud_d15\", \"max_temp_d16\", \"min_temp_d16\", \"wind_x_d16\", \"wind_y_d16\", \"rain_d16\", \"humidi_d16\", \"cloud_d16\", \"max_temp_d17\", \"min_temp_d17\", \"wind_x_d17\", \"wind_y_d17\", \"rain_d17\", \"humidi_d17\", \"cloud_d17\", \"max_temp_d18\", \"min_temp_d18\", \"wind_x_d18\", \"wind_y_d18\", \"rain_d18\", \"humidi_d18\", \"cloud_d18\", \"max_temp_d19\", \"min_temp_d19\", \"wind_x_d19\", \"wind_y_d19\", \"rain_d19\", \"humidi_d19\", \"cloud_d19\", \"max_temp_d20\", \"min_temp_d20\", \"wind_x_d20\", \"wind_y_d20\", \"rain_d20\", \"humidi_d20\", \"cloud_d20\", \"max_temp_d21\", \"min_temp_d21\", \"wind_x_d21\", \"wind_y_d21\", \"rain_d21\", \"humidi_d21\", \"cloud_d21\", \"max_temp_d22\", \"min_temp_d22\", \"wind_x_d22\", \"wind_y_d22\", \"rain_d22\", \"humidi_d22\", \"cloud_d22\", \"max_temp_d23\", \"min_temp_d23\", \"wind_x_d23\", \"wind_y_d23\", \"rain_d23\", \"humidi_d23\", \"cloud_d23\", \"max_temp_d24\", \"min_temp_d24\", \"wind_x_d24\", \"wind_y_d24\", \"rain_d24\", \"humidi_d24\", \"cloud_d24\", \"max_temp_d25\", \"min_temp_d25\", \"wind_x_d25\", \"wind_y_d25\", \"rain_d25\", \"humidi_d25\", \"cloud_d25\", \"max_temp_d26\", \"min_temp_d26\", \"wind_x_d26\", \"wind_y_d26\", \"rain_d26\", \"humidi_d26\", \"cloud_d26\", \"max_temp_d27\", \"min_temp_d27\", \"wind_x_d27\", \"wind_y_d27\", \"rain_d27\", \"humidi_d27\", \"cloud_d27\", \"max_temp_d28\", \"min_temp_d28\", \"wind_x_d28\", \"wind_y_d28\", \"rain_d28\", \"humidi_d28\", \"cloud_d28\", \"max_temp_d29\", \"min_temp_d29\", \"wind_x_d29\", \"wind_y_d29\", \"rain_d29\", \"humidi_d29\", \"cloud_d29\", \"max_temp_d30\", \"min_temp_d30\", \"wind_x_d30\", \"wind_y_d30\", \"rain_d30\", \"humidi_d30\", \"cloud_d30\"\n",
        "])\n",
        "export_csv = df.to_csv (r'../dataset_for_model.csv', index = None, header=True)\n",
        "print(df)"
      ],
      "execution_count": null,
      "outputs": []
    },
    {
      "cell_type": "markdown",
      "metadata": {
        "id": "KQHuUV9SYRWy"
      },
      "source": [
        "# Models"
      ]
    },
    {
      "cell_type": "markdown",
      "metadata": {
        "id": "LwSt2voUrWHR"
      },
      "source": [
        "## Whole 5 province in Tay Nguyen (2017 - 2020)"
      ]
    },
    {
      "cell_type": "markdown",
      "metadata": {
        "id": "dJPdB5uL5ljn"
      },
      "source": [
        "### Model 1"
      ]
    },
    {
      "cell_type": "code",
      "metadata": {
        "id": "98PbVSfxsGMP"
      },
      "source": [
        "denseModel = tf.keras.Sequential()\n",
        "denseModel.add(Input(shape=(X_train_binary.shape[1],)))\n",
        "denseModel.add(Dense(128, activation='relu'))\n",
        "denseModel.add(tf.keras.layers.Dropout(0.2))\n",
        "denseModel.add(Dense(64, activation='relu'))\n",
        "denseModel.add(Dense(32, activation='relu'))\n",
        "denseModel.add(Dense(1, activation='sigmoid'))\n",
        "denseModel.compile(optimizer='adam', loss='binary_crossentropy',metrics=['accuracy'])\n",
        "early_stopping = tf.keras.callbacks.EarlyStopping(monitor='val_loss',patience=5,mode='min')"
      ],
      "execution_count": null,
      "outputs": []
    },
    {
      "cell_type": "code",
      "metadata": {
        "colab": {
          "base_uri": "https://localhost:8080/"
        },
        "id": "Wgjmi5TWzepP",
        "outputId": "a334bd36-9373-4acd-8c4a-37b515969ca3"
      },
      "source": [
        "denseModel.summary()"
      ],
      "execution_count": null,
      "outputs": [
        {
          "output_type": "stream",
          "text": [
            "Model: \"sequential\"\n",
            "_________________________________________________________________\n",
            "Layer (type)                 Output Shape              Param #   \n",
            "=================================================================\n",
            "dense (Dense)                (None, 128)               15744     \n",
            "_________________________________________________________________\n",
            "dropout (Dropout)            (None, 128)               0         \n",
            "_________________________________________________________________\n",
            "dense_1 (Dense)              (None, 64)                8256      \n",
            "_________________________________________________________________\n",
            "dense_2 (Dense)              (None, 32)                2080      \n",
            "_________________________________________________________________\n",
            "dense_3 (Dense)              (None, 1)                 33        \n",
            "=================================================================\n",
            "Total params: 26,113\n",
            "Trainable params: 26,113\n",
            "Non-trainable params: 0\n",
            "_________________________________________________________________\n"
          ],
          "name": "stdout"
        }
      ]
    },
    {
      "cell_type": "code",
      "metadata": {
        "colab": {
          "base_uri": "https://localhost:8080/"
        },
        "id": "yslkT69CsKI5",
        "outputId": "9407d20c-5a1d-4097-a4d7-64ca9d90bad8"
      },
      "source": [
        "history = denseModel.fit(X_train_binary, y_train_binary, batch_size=256, epochs=20, callbacks=[early_stopping], validation_data=(X_val_binary, y_val_binary), verbose=1)"
      ],
      "execution_count": null,
      "outputs": [
        {
          "output_type": "stream",
          "text": [
            "Epoch 1/20\n",
            "2163/2163 [==============================] - 12s 5ms/step - loss: 5.6572 - accuracy: 0.7698 - val_loss: 1.0934 - val_accuracy: 0.8242\n",
            "Epoch 2/20\n",
            "2163/2163 [==============================] - 11s 5ms/step - loss: 0.3096 - accuracy: 0.8885 - val_loss: 0.1620 - val_accuracy: 0.9378\n",
            "Epoch 3/20\n",
            "2163/2163 [==============================] - 10s 5ms/step - loss: 0.1842 - accuracy: 0.9264 - val_loss: 0.1298 - val_accuracy: 0.9607\n",
            "Epoch 4/20\n",
            "2163/2163 [==============================] - 11s 5ms/step - loss: 0.1589 - accuracy: 0.9402 - val_loss: 0.1112 - val_accuracy: 0.9650\n",
            "Epoch 5/20\n",
            "2163/2163 [==============================] - 11s 5ms/step - loss: 0.1446 - accuracy: 0.9477 - val_loss: 0.1098 - val_accuracy: 0.9685\n",
            "Epoch 6/20\n",
            "2163/2163 [==============================] - 10s 5ms/step - loss: 0.1428 - accuracy: 0.9491 - val_loss: 0.0875 - val_accuracy: 0.9748\n",
            "Epoch 7/20\n",
            "2163/2163 [==============================] - 10s 5ms/step - loss: 0.1316 - accuracy: 0.9552 - val_loss: 0.0862 - val_accuracy: 0.9728\n",
            "Epoch 8/20\n",
            "2163/2163 [==============================] - 10s 5ms/step - loss: 0.1261 - accuracy: 0.9575 - val_loss: 0.0863 - val_accuracy: 0.9747\n",
            "Epoch 9/20\n",
            "2163/2163 [==============================] - 10s 5ms/step - loss: 0.1257 - accuracy: 0.9579 - val_loss: 0.0935 - val_accuracy: 0.9727\n",
            "Epoch 10/20\n",
            "2163/2163 [==============================] - 10s 5ms/step - loss: 0.1318 - accuracy: 0.9561 - val_loss: 0.0968 - val_accuracy: 0.9739\n",
            "Epoch 11/20\n",
            "2163/2163 [==============================] - 10s 5ms/step - loss: 0.1484 - accuracy: 0.9497 - val_loss: 0.1288 - val_accuracy: 0.9563\n",
            "Epoch 12/20\n",
            "2163/2163 [==============================] - 10s 4ms/step - loss: 0.1408 - accuracy: 0.9526 - val_loss: 0.0912 - val_accuracy: 0.9730\n"
          ],
          "name": "stdout"
        }
      ]
    },
    {
      "cell_type": "code",
      "metadata": {
        "colab": {
          "base_uri": "https://localhost:8080/"
        },
        "id": "OvOaswO6sMlZ",
        "outputId": "d2500f4b-31e2-45c9-8367-1fc0d29c1758"
      },
      "source": [
        "denseModel.metrics_names"
      ],
      "execution_count": null,
      "outputs": [
        {
          "output_type": "execute_result",
          "data": {
            "text/plain": [
              "['loss', 'accuracy']"
            ]
          },
          "metadata": {
            "tags": []
          },
          "execution_count": 76
        }
      ]
    },
    {
      "cell_type": "code",
      "metadata": {
        "colab": {
          "base_uri": "https://localhost:8080/"
        },
        "id": "3zJcOrQN0S9n",
        "outputId": "9e1cdb60-8232-4239-dc2c-c9cf6c43f4d6"
      },
      "source": [
        "loss, acc = denseModel.evaluate(X_test_binary,y_test_binary,verbose=0)\n",
        "print(loss)\n",
        "print(acc)"
      ],
      "execution_count": null,
      "outputs": [
        {
          "output_type": "stream",
          "text": [
            "0.0890987291932106\n",
            "0.9742159843444824\n"
          ],
          "name": "stdout"
        }
      ]
    },
    {
      "cell_type": "code",
      "metadata": {
        "colab": {
          "base_uri": "https://localhost:8080/",
          "height": 240
        },
        "id": "PL7wbMEy2SD5",
        "outputId": "dc040699-000a-4dc8-bd74-9e815be60db1"
      },
      "source": [
        "plt.plot(history.history['accuracy'])\n",
        "plt.plot(history.history['val_accuracy'])\n",
        "plt.title('model accuracy')\n",
        "plt.ylabel('accuracy')\n",
        "plt.xlabel('epoch')\n",
        "plt.legend(['train', 'val'], loc='upper left')\n",
        "plt.show()"
      ],
      "execution_count": null,
      "outputs": [
        {
          "output_type": "display_data",
          "data": {
            "image/png": "[encoded data removed]",
            "text/plain": [
              "<Figure size 1440x288 with 1 Axes>"
            ]
          },
          "metadata": {
            "tags": []
          }
        }
      ]
    },
    {
      "cell_type": "code",
      "metadata": {
        "colab": {
          "base_uri": "https://localhost:8080/",
          "height": 244
        },
        "id": "fIQ7CJWO2ptG",
        "outputId": "0b337baa-01af-4c73-c2e7-119c22335a22"
      },
      "source": [
        "plt.plot(history.history['loss'])\n",
        "plt.plot(history.history['val_loss'])\n",
        "plt.title('model loss')\n",
        "plt.ylabel('loss')\n",
        "plt.xlabel('epoch')\n",
        "plt.legend(['train', 'val'], loc='upper left')\n",
        "plt.show()"
      ],
      "execution_count": null,
      "outputs": [
        {
          "output_type": "display_data",
          "data": {
            "image/png": "[encoded data removed]",
            "text/plain": [
              "<Figure size 1440x288 with 1 Axes>"
            ]
          },
          "metadata": {
            "tags": []
          }
        }
      ]
    },
    {
      "cell_type": "code",
      "metadata": {
        "colab": {
          "base_uri": "https://localhost:8080/"
        },
        "id": "2E6F2kn90gvI",
        "outputId": "ed319f49-5934-4afe-a877-2c755a54e823"
      },
      "source": [
        "from sklearn.metrics import plot_confusion_matrix\n",
        "from sklearn.metrics import confusion_matrix,accuracy_score,roc_curve,classification_report\n",
        "predictions = denseModel.predict(X_test_binary, batch_size=64)\n",
        "predictions = np.around(predictions)\n",
        "print(classification_report(y_test_binary, predictions,labels=[0,1]))"
      ],
      "execution_count": null,
      "outputs": [
        {
          "output_type": "stream",
          "text": [
            "              precision    recall  f1-score   support\n",
            "\n",
            "           0       0.95      1.00      0.97     33402\n",
            "           1       1.00      0.96      0.98     45678\n",
            "\n",
            "    accuracy                           0.97     79080\n",
            "   macro avg       0.97      0.98      0.97     79080\n",
            "weighted avg       0.98      0.97      0.97     79080\n",
            "\n"
          ],
          "name": "stdout"
        }
      ]
    },
    {
      "cell_type": "code",
      "metadata": {
        "id": "U4kVJtJy9db2"
      },
      "source": [
        "val_performance['Dense'] = denseModel.evaluate(val_dataset_5,verbose=0)\n",
        "performance['Dense'] = denseModel.evaluate(test_dataset_5,verbose=0)"
      ],
      "execution_count": null,
      "outputs": []
    },
    {
      "cell_type": "markdown",
      "metadata": {
        "id": "R0wudgIP5hEI"
      },
      "source": [
        "### Model 2"
      ]
    },
    {
      "cell_type": "code",
      "metadata": {
        "id": "7t0NvNEERTJm"
      },
      "source": [
        "# for compare between models\n",
        "val_performance = {}\n",
        "performance = {}"
      ],
      "execution_count": null,
      "outputs": []
    },
    {
      "cell_type": "markdown",
      "metadata": {
        "id": "IjXG0j-1sPbi"
      },
      "source": [
        "### CNN"
      ]
    },
    {
      "cell_type": "code",
      "metadata": {
        "id": "l9NiAXUhsefn"
      },
      "source": [
        "cnnModel = tf.keras.Sequential()\n",
        "cnnModel.add(tf.keras.layers.Conv1D(32,kernel_size=(6),activation='relu'))\n",
        "cnnModel.add(Dense(32,activation='relu'))\n",
        "cnnModel.add(Dense(units=1,activation='relu'))\n",
        "cnnModel.compile(optimizer='adam',loss=tf.keras.losses.MeanSquaredError(),metrics=['accuracy'])\n",
        "early_stopping = tf.keras.callbacks.EarlyStopping(monitor='val_loss',patience=2,mode='min')"
      ],
      "execution_count": null,
      "outputs": []
    },
    {
      "cell_type": "code",
      "metadata": {
        "colab": {
          "base_uri": "https://localhost:8080/"
        },
        "id": "PATsaWbfsjd8",
        "outputId": "f9a88204-8ab1-4a32-d4b6-c950f9f4dfd3"
      },
      "source": [
        "history = cnnModel.fit(train_dataset_5,validation_data=val_dataset_5,epochs=20,callbacks=[early_stopping])"
      ],
      "execution_count": null,
      "outputs": [
        {
          "output_type": "stream",
          "text": [
            "Epoch 1/20\n",
            "2212/2212 [==============================] - 930s 419ms/step - loss: 20318.4219 - accuracy: 0.9532 - val_loss: 9.5859 - val_accuracy: 0.9740\n",
            "Epoch 2/20\n",
            "2212/2212 [==============================] - 1030s 466ms/step - loss: 19.9273 - accuracy: 0.9674 - val_loss: 9.5859 - val_accuracy: 0.9740\n",
            "Epoch 3/20\n",
            "2212/2212 [==============================] - 902s 408ms/step - loss: 19.9273 - accuracy: 0.9674 - val_loss: 9.5859 - val_accuracy: 0.9740\n"
          ],
          "name": "stdout"
        }
      ]
    },
    {
      "cell_type": "code",
      "metadata": {
        "colab": {
          "base_uri": "https://localhost:8080/"
        },
        "id": "0415dBsdsoLX",
        "outputId": "4511b57d-2458-4ebc-b61a-8e3cd3c1a55c"
      },
      "source": [
        "loss, acc = cnnModel.evaluate(test_dataset_5,verbose=2)\n",
        "print('Test loss: ',loss)\n",
        "print('Test accuracy: ',acc)"
      ],
      "execution_count": null,
      "outputs": [
        {
          "output_type": "stream",
          "text": [
            "553/553 - 704s - loss: 1.3219 - accuracy: 0.9942\n",
            "Test loss:  1.3218690156936646\n",
            "Test accuracy:  0.9942026138305664\n"
          ],
          "name": "stdout"
        }
      ]
    },
    {
      "cell_type": "code",
      "metadata": {
        "id": "hNtckhso-Vau"
      },
      "source": [
        "val_performance['CNN'] = cnnModel.evaluate(val_dataset_5,verbose=0)\n",
        "performance['CNN'] = cnnModel.evaluate(test_dataset_5,verbose=0)"
      ],
      "execution_count": null,
      "outputs": []
    },
    {
      "cell_type": "markdown",
      "metadata": {
        "id": "VCbIAi_Zsr9v"
      },
      "source": [
        "### RNN"
      ]
    },
    {
      "cell_type": "code",
      "metadata": {
        "id": "Nkpkr4DIvw-h"
      },
      "source": [
        "rnnModel = tf.keras.Sequential()\n",
        "rnnModel.add(tf.keras.layers.SimpleRNN(32,return_sequences=True))\n",
        "rnnModel.add(tf.keras.layers.SimpleRNN(32))\n",
        "rnnModel.add(Dense(1,activation='relu'))\n",
        "rnnModel.compile(optimizer='adam', loss=tf.keras.losses.MeanSquaredError(), metrics=['accuracy'])\n",
        "early_stopping = tf.keras.callbacks.EarlyStopping(monitor='val_loss',patience=2,mode='min')"
      ],
      "execution_count": null,
      "outputs": []
    },
    {
      "cell_type": "code",
      "metadata": {
        "colab": {
          "base_uri": "https://localhost:8080/"
        },
        "id": "gV1mD-LPv-I0",
        "outputId": "5e68f41c-1bdd-4bf4-a2e6-00fb61e1ef34"
      },
      "source": [
        "history = rnnModel.fit(train_dataset_5,validation_data=val_dataset_5,epochs=20,callbacks=[early_stopping])25"
      ],
      "execution_count": null,
      "outputs": [
        {
          "output_type": "stream",
          "text": [
            "Epoch 1/20\n",
            "2212/2212 [==============================] - 606s 272ms/step - loss: 19.9273 - accuracy: 0.9674 - val_loss: 9.5859 - val_accuracy: 0.9740\n",
            "Epoch 2/20\n",
            "2212/2212 [==============================] - 634s 287ms/step - loss: 19.9273 - accuracy: 0.9674 - val_loss: 9.5859 - val_accuracy: 0.9740\n",
            "Epoch 3/20\n",
            "2212/2212 [==============================] - 633s 286ms/step - loss: 19.9273 - accuracy: 0.9674 - val_loss: 9.5859 - val_accuracy: 0.9740\n"
          ],
          "name": "stdout"
        }
      ]
    },
    {
      "cell_type": "code",
      "metadata": {
        "colab": {
          "base_uri": "https://localhost:8080/"
        },
        "id": "acV2YvkJwASH",
        "outputId": "43ded351-88a2-4590-bc58-e4cf64616ac2"
      },
      "source": [
        "loss, acc = rnnModel.evaluate(test_dataset_5,verbose=2)\n",
        "print('Test loss: ',loss)\n",
        "print('Test accuracy: ',acc)"
      ],
      "execution_count": null,
      "outputs": [
        {
          "output_type": "stream",
          "text": [
            "553/553 - 363s - loss: 1.3219 - accuracy: 0.9942\n",
            "Test loss:  1.3218690156936646\n",
            "Test accuracy:  0.9942017197608948\n"
          ],
          "name": "stdout"
        }
      ]
    },
    {
      "cell_type": "code",
      "metadata": {
        "id": "-oWlGrp-T6T_"
      },
      "source": [
        "val_performance['RNN'] = rnnModel.evaluate(val_dataset_5,verbose=0)\n",
        "performance['RNN'] = rnnModel.evaluate(test_dataset_5,verbose=0)"
      ],
      "execution_count": null,
      "outputs": []
    },
    {
      "cell_type": "markdown",
      "metadata": {
        "id": "ER0hIurWvsu_"
      },
      "source": [
        "### LSTM"
      ]
    },
    {
      "cell_type": "code",
      "metadata": {
        "id": "galXn-c5vwRC"
      },
      "source": [
        "lstmModel = tf.keras.Sequential()\n",
        "lstmModel.add(LSTM(32,return_sequences=True))\n",
        "lstmModel.add(Dense(units=1,activation='relu'))\n",
        "lstmModel.compile(loss=tf.keras.losses.MeanSquaredError(),optimizer='adam',metrics=['accuracy'])\n",
        "early_stopping = tf.keras.callbacks.EarlyStopping(monitor='val_loss',patience=2,mode='min')"
      ],
      "execution_count": null,
      "outputs": []
    },
    {
      "cell_type": "code",
      "metadata": {
        "colab": {
          "base_uri": "https://localhost:8080/"
        },
        "id": "Jxn712ZJwExS",
        "outputId": "f81ef270-0d35-449f-a8c2-7f6c2c85ab03"
      },
      "source": [
        "history = lstmModel.fit(train_dataset_5,validation_data=val_dataset_5,epochs=20,callbacks=[early_stopping])"
      ],
      "execution_count": null,
      "outputs": [
        {
          "output_type": "stream",
          "text": [
            "Epoch 1/20\n",
            "2212/2212 [==============================] - 539s 242ms/step - loss: 19.9273 - accuracy: 0.9674 - val_loss: 9.5859 - val_accuracy: 0.9740\n",
            "Epoch 2/20\n",
            "2212/2212 [==============================] - 567s 256ms/step - loss: 19.9273 - accuracy: 0.9674 - val_loss: 9.5859 - val_accuracy: 0.9740\n",
            "Epoch 3/20\n",
            "2212/2212 [==============================] - 591s 267ms/step - loss: 19.9273 - accuracy: 0.9674 - val_loss: 9.5859 - val_accuracy: 0.9740\n"
          ],
          "name": "stdout"
        }
      ]
    },
    {
      "cell_type": "code",
      "metadata": {
        "colab": {
          "base_uri": "https://localhost:8080/"
        },
        "id": "ZOaW8YZjwG1G",
        "outputId": "85e379e4-434d-4355-9e22-18ed67bcd7e3"
      },
      "source": [
        "loss, acc = lstmModel.evaluate(test_dataset_5,verbose=2)\n",
        "print('Test loss: ',loss)\n",
        "print('Test accuracy: ',acc)"
      ],
      "execution_count": null,
      "outputs": [
        {
          "output_type": "stream",
          "text": [
            "553/553 - 370s - loss: 1.3219 - accuracy: 0.9942\n",
            "Test loss:  1.3218690156936646\n",
            "Test accuracy:  0.9942017197608948\n"
          ],
          "name": "stdout"
        }
      ]
    },
    {
      "cell_type": "code",
      "metadata": {
        "id": "8Ck82nvhdElX"
      },
      "source": [
        "val_performance['LSTM'] = lstmModel.evaluate(val_dataset_5,verbose=0)\n",
        "performance['LSTM'] = lstmModel.evaluate(test_dataset_5,verbose=0)"
      ],
      "execution_count": null,
      "outputs": []
    },
    {
      "cell_type": "markdown",
      "metadata": {
        "id": "ftmUqINyreCj"
      },
      "source": [
        "## Gia Lai, Lâm Đồng, Đắk Lắk"
      ]
    },
    {
      "cell_type": "code",
      "metadata": {
        "id": "qN1fccR9S9A_"
      },
      "source": [
        "df_Xy = pd.read_csv('https://raw.githubusercontent.com/vanviethieuanh/CS114.L21/main/DoAn/Datasets/dataset_for_model.csv')"
      ],
      "execution_count": null,
      "outputs": []
    },
    {
      "cell_type": "code",
      "metadata": {
        "id": "VF1DlndDvvU1"
      },
      "source": [
        "df_Xy = df_Xy.sort_values(['year', 'month', 'day'], ascending=False)"
      ],
      "execution_count": null,
      "outputs": []
    },
    {
      "cell_type": "code",
      "metadata": {
        "id": "R1fAaYNOTo1Q"
      },
      "source": [
        "# Xóa các trường không cần thiết\n",
        "del df_Xy['day']\n",
        "del df_Xy['month']\n",
        "del df_Xy['year']\n",
        "del df_Xy['wildfire_in_a_day']"
      ],
      "execution_count": null,
      "outputs": []
    },
    {
      "cell_type": "code",
      "metadata": {
        "id": "s5mCWtQrTrYX"
      },
      "source": [
        "# Lấy ra nhãn của dữ liệu train\n",
        "y = df_Xy.label\n",
        "df_Xy = df_Xy.drop(['label'], axis=1)"
      ],
      "execution_count": null,
      "outputs": []
    },
    {
      "cell_type": "code",
      "metadata": {
        "id": "DOfilfhuTtFP"
      },
      "source": [
        "# Lấy ra dữ liệu train\n",
        "X = df_Xy.select_dtypes(exclude=['object'])"
      ],
      "execution_count": null,
      "outputs": []
    },
    {
      "cell_type": "code",
      "metadata": {
        "colab": {
          "base_uri": "https://localhost:8080/",
          "height": 345
        },
        "id": "iGElU0YtUAMP",
        "outputId": "f24f56f7-ef8c-4555-9132-2d1b5b4a3af5"
      },
      "source": [
        "X.describe()"
      ],
      "execution_count": null,
      "outputs": [
        {
          "output_type": "execute_result",
          "data": {
            "text/html": [
              "<div>\n",
              "<style scoped>\n",
              "    .dataframe tbody tr th:only-of-type {\n",
              "        vertical-align: middle;\n",
              "    }\n",
              "\n",
              "    .dataframe tbody tr th {\n",
              "        vertical-align: top;\n",
              "    }\n",
              "\n",
              "    .dataframe thead th {\n",
              "        text-align: right;\n",
              "    }\n",
              "</style>\n",
              "<table border=\"1\" class=\"dataframe\">\n",
              "  <thead>\n",
              "    <tr style=\"text-align: right;\">\n",
              "      <th></th>\n",
              "      <th>max_temp_d1</th>\n",
              "      <th>min_temp_d1</th>\n",
              "      <th>wind_x_d1</th>\n",
              "      <th>wind_y_d1</th>\n",
              "      <th>rain_d1</th>\n",
              "      <th>humidi_d1</th>\n",
              "      <th>cloud_d1</th>\n",
              "      <th>max_temp_d2</th>\n",
              "      <th>min_temp_d2</th>\n",
              "      <th>wind_x_d2</th>\n",
              "      <th>wind_y_d2</th>\n",
              "      <th>rain_d2</th>\n",
              "      <th>humidi_d2</th>\n",
              "      <th>cloud_d2</th>\n",
              "      <th>max_temp_d3</th>\n",
              "      <th>min_temp_d3</th>\n",
              "      <th>wind_x_d3</th>\n",
              "      <th>wind_y_d3</th>\n",
              "      <th>rain_d3</th>\n",
              "      <th>humidi_d3</th>\n",
              "      <th>cloud_d3</th>\n",
              "      <th>max_temp_d4</th>\n",
              "      <th>min_temp_d4</th>\n",
              "      <th>wind_x_d4</th>\n",
              "      <th>wind_y_d4</th>\n",
              "      <th>rain_d4</th>\n",
              "      <th>humidi_d4</th>\n",
              "      <th>cloud_d4</th>\n",
              "      <th>max_temp_d5</th>\n",
              "      <th>min_temp_d5</th>\n",
              "      <th>wind_x_d5</th>\n",
              "      <th>wind_y_d5</th>\n",
              "      <th>rain_d5</th>\n",
              "      <th>humidi_d5</th>\n",
              "      <th>cloud_d5</th>\n",
              "      <th>max_temp_d6</th>\n",
              "      <th>min_temp_d6</th>\n",
              "      <th>wind_x_d6</th>\n",
              "      <th>wind_y_d6</th>\n",
              "      <th>rain_d6</th>\n",
              "      <th>...</th>\n",
              "      <th>wind_x_d25</th>\n",
              "      <th>wind_y_d25</th>\n",
              "      <th>rain_d25</th>\n",
              "      <th>humidi_d25</th>\n",
              "      <th>cloud_d25</th>\n",
              "      <th>max_temp_d26</th>\n",
              "      <th>min_temp_d26</th>\n",
              "      <th>wind_x_d26</th>\n",
              "      <th>wind_y_d26</th>\n",
              "      <th>rain_d26</th>\n",
              "      <th>humidi_d26</th>\n",
              "      <th>cloud_d26</th>\n",
              "      <th>max_temp_d27</th>\n",
              "      <th>min_temp_d27</th>\n",
              "      <th>wind_x_d27</th>\n",
              "      <th>wind_y_d27</th>\n",
              "      <th>rain_d27</th>\n",
              "      <th>humidi_d27</th>\n",
              "      <th>cloud_d27</th>\n",
              "      <th>max_temp_d28</th>\n",
              "      <th>min_temp_d28</th>\n",
              "      <th>wind_x_d28</th>\n",
              "      <th>wind_y_d28</th>\n",
              "      <th>rain_d28</th>\n",
              "      <th>humidi_d28</th>\n",
              "      <th>cloud_d28</th>\n",
              "      <th>max_temp_d29</th>\n",
              "      <th>min_temp_d29</th>\n",
              "      <th>wind_x_d29</th>\n",
              "      <th>wind_y_d29</th>\n",
              "      <th>rain_d29</th>\n",
              "      <th>humidi_d29</th>\n",
              "      <th>cloud_d29</th>\n",
              "      <th>max_temp_d30</th>\n",
              "      <th>min_temp_d30</th>\n",
              "      <th>wind_x_d30</th>\n",
              "      <th>wind_y_d30</th>\n",
              "      <th>rain_d30</th>\n",
              "      <th>humidi_d30</th>\n",
              "      <th>cloud_d30</th>\n",
              "    </tr>\n",
              "  </thead>\n",
              "  <tbody>\n",
              "    <tr>\n",
              "      <th>count</th>\n",
              "      <td>47030.000000</td>\n",
              "      <td>47030.000000</td>\n",
              "      <td>4.703000e+04</td>\n",
              "      <td>47030.000000</td>\n",
              "      <td>47030.000000</td>\n",
              "      <td>47030.000000</td>\n",
              "      <td>47030.00000</td>\n",
              "      <td>47030.000000</td>\n",
              "      <td>47030.000000</td>\n",
              "      <td>4.703000e+04</td>\n",
              "      <td>47030.000000</td>\n",
              "      <td>47030.000000</td>\n",
              "      <td>47030.000000</td>\n",
              "      <td>47030.000000</td>\n",
              "      <td>47030.000000</td>\n",
              "      <td>47030.000000</td>\n",
              "      <td>4.703000e+04</td>\n",
              "      <td>47030.000000</td>\n",
              "      <td>47030.000000</td>\n",
              "      <td>47030.000000</td>\n",
              "      <td>47030.000000</td>\n",
              "      <td>47030.000000</td>\n",
              "      <td>47030.000000</td>\n",
              "      <td>4.703000e+04</td>\n",
              "      <td>47030.000000</td>\n",
              "      <td>47030.000000</td>\n",
              "      <td>47030.000000</td>\n",
              "      <td>47030.000000</td>\n",
              "      <td>47030.000000</td>\n",
              "      <td>47030.000000</td>\n",
              "      <td>4.703000e+04</td>\n",
              "      <td>47030.000000</td>\n",
              "      <td>47030.000000</td>\n",
              "      <td>47030.000000</td>\n",
              "      <td>47030.000000</td>\n",
              "      <td>47030.000000</td>\n",
              "      <td>47030.000000</td>\n",
              "      <td>4.703000e+04</td>\n",
              "      <td>47030.000000</td>\n",
              "      <td>47030.000000</td>\n",
              "      <td>...</td>\n",
              "      <td>4.703000e+04</td>\n",
              "      <td>4.703000e+04</td>\n",
              "      <td>47030.000000</td>\n",
              "      <td>47030.000000</td>\n",
              "      <td>47030.000000</td>\n",
              "      <td>47030.000000</td>\n",
              "      <td>47030.000000</td>\n",
              "      <td>4.703000e+04</td>\n",
              "      <td>4.703000e+04</td>\n",
              "      <td>47030.000000</td>\n",
              "      <td>47030.000000</td>\n",
              "      <td>47030.000000</td>\n",
              "      <td>47030.000000</td>\n",
              "      <td>47030.000000</td>\n",
              "      <td>4.703000e+04</td>\n",
              "      <td>4.703000e+04</td>\n",
              "      <td>47030.000000</td>\n",
              "      <td>47030.000000</td>\n",
              "      <td>47030.000000</td>\n",
              "      <td>47030.000000</td>\n",
              "      <td>47030.000000</td>\n",
              "      <td>4.703000e+04</td>\n",
              "      <td>4.703000e+04</td>\n",
              "      <td>47030.000000</td>\n",
              "      <td>47030.000000</td>\n",
              "      <td>47030.000000</td>\n",
              "      <td>47030.000000</td>\n",
              "      <td>47030.000000</td>\n",
              "      <td>4.703000e+04</td>\n",
              "      <td>4.703000e+04</td>\n",
              "      <td>47030.000000</td>\n",
              "      <td>47030.000000</td>\n",
              "      <td>47030.000000</td>\n",
              "      <td>47030.000000</td>\n",
              "      <td>47030.000000</td>\n",
              "      <td>4.703000e+04</td>\n",
              "      <td>47030.000000</td>\n",
              "      <td>47030.000000</td>\n",
              "      <td>47030.000000</td>\n",
              "      <td>47030.000000</td>\n",
              "    </tr>\n",
              "    <tr>\n",
              "      <th>mean</th>\n",
              "      <td>29.057750</td>\n",
              "      <td>20.969594</td>\n",
              "      <td>-2.775597e-01</td>\n",
              "      <td>1.714988</td>\n",
              "      <td>10.934408</td>\n",
              "      <td>80.420646</td>\n",
              "      <td>37.54529</td>\n",
              "      <td>29.012630</td>\n",
              "      <td>21.003423</td>\n",
              "      <td>-5.141940e-02</td>\n",
              "      <td>1.844837</td>\n",
              "      <td>10.734712</td>\n",
              "      <td>80.587030</td>\n",
              "      <td>37.266808</td>\n",
              "      <td>29.013523</td>\n",
              "      <td>21.062832</td>\n",
              "      <td>-9.285012e-02</td>\n",
              "      <td>1.874400</td>\n",
              "      <td>10.927334</td>\n",
              "      <td>80.805422</td>\n",
              "      <td>37.213842</td>\n",
              "      <td>29.064448</td>\n",
              "      <td>21.053732</td>\n",
              "      <td>-2.913528e-01</td>\n",
              "      <td>1.768095</td>\n",
              "      <td>10.433070</td>\n",
              "      <td>80.649479</td>\n",
              "      <td>37.211078</td>\n",
              "      <td>29.059685</td>\n",
              "      <td>21.053562</td>\n",
              "      <td>-2.606980e-01</td>\n",
              "      <td>1.638198</td>\n",
              "      <td>11.159022</td>\n",
              "      <td>80.752945</td>\n",
              "      <td>37.286137</td>\n",
              "      <td>29.043143</td>\n",
              "      <td>21.038741</td>\n",
              "      <td>-3.133478e-01</td>\n",
              "      <td>1.599755</td>\n",
              "      <td>11.275554</td>\n",
              "      <td>...</td>\n",
              "      <td>-4.582944e-01</td>\n",
              "      <td>1.174396e+00</td>\n",
              "      <td>10.808216</td>\n",
              "      <td>81.594599</td>\n",
              "      <td>37.907676</td>\n",
              "      <td>28.937657</td>\n",
              "      <td>20.958006</td>\n",
              "      <td>-4.160113e-01</td>\n",
              "      <td>1.076360e+00</td>\n",
              "      <td>11.744431</td>\n",
              "      <td>81.605465</td>\n",
              "      <td>38.022900</td>\n",
              "      <td>28.840868</td>\n",
              "      <td>20.912630</td>\n",
              "      <td>-3.224602e-01</td>\n",
              "      <td>1.076435e+00</td>\n",
              "      <td>11.184040</td>\n",
              "      <td>81.620880</td>\n",
              "      <td>38.054901</td>\n",
              "      <td>28.864087</td>\n",
              "      <td>20.962556</td>\n",
              "      <td>-2.611957e-01</td>\n",
              "      <td>1.182935e+00</td>\n",
              "      <td>10.541425</td>\n",
              "      <td>81.621072</td>\n",
              "      <td>38.231087</td>\n",
              "      <td>28.813608</td>\n",
              "      <td>21.011886</td>\n",
              "      <td>-3.735071e-01</td>\n",
              "      <td>1.142437e+00</td>\n",
              "      <td>11.774193</td>\n",
              "      <td>81.874548</td>\n",
              "      <td>37.950861</td>\n",
              "      <td>28.864469</td>\n",
              "      <td>20.993196</td>\n",
              "      <td>-3.442797e-01</td>\n",
              "      <td>1.130768</td>\n",
              "      <td>11.655401</td>\n",
              "      <td>81.837997</td>\n",
              "      <td>38.139400</td>\n",
              "    </tr>\n",
              "    <tr>\n",
              "      <th>std</th>\n",
              "      <td>3.677849</td>\n",
              "      <td>3.094542</td>\n",
              "      <td>3.692945e+00</td>\n",
              "      <td>6.971640</td>\n",
              "      <td>19.387559</td>\n",
              "      <td>12.104756</td>\n",
              "      <td>25.27878</td>\n",
              "      <td>3.621626</td>\n",
              "      <td>3.080119</td>\n",
              "      <td>3.775183e+00</td>\n",
              "      <td>6.798289</td>\n",
              "      <td>16.380144</td>\n",
              "      <td>11.766377</td>\n",
              "      <td>25.255362</td>\n",
              "      <td>3.524930</td>\n",
              "      <td>3.072623</td>\n",
              "      <td>3.661567e+00</td>\n",
              "      <td>6.700640</td>\n",
              "      <td>17.420900</td>\n",
              "      <td>11.626719</td>\n",
              "      <td>25.266205</td>\n",
              "      <td>3.490730</td>\n",
              "      <td>3.080515</td>\n",
              "      <td>3.766709e+00</td>\n",
              "      <td>6.743636</td>\n",
              "      <td>16.142544</td>\n",
              "      <td>11.475884</td>\n",
              "      <td>25.107531</td>\n",
              "      <td>3.475963</td>\n",
              "      <td>3.089155</td>\n",
              "      <td>3.728955e+00</td>\n",
              "      <td>6.704517</td>\n",
              "      <td>17.265479</td>\n",
              "      <td>11.641761</td>\n",
              "      <td>25.121145</td>\n",
              "      <td>3.594040</td>\n",
              "      <td>3.112454</td>\n",
              "      <td>3.667941e+00</td>\n",
              "      <td>6.606584</td>\n",
              "      <td>17.442971</td>\n",
              "      <td>...</td>\n",
              "      <td>3.680674e+00</td>\n",
              "      <td>6.687638e+00</td>\n",
              "      <td>14.833774</td>\n",
              "      <td>11.144033</td>\n",
              "      <td>25.120345</td>\n",
              "      <td>3.482001</td>\n",
              "      <td>2.989332</td>\n",
              "      <td>3.574172e+00</td>\n",
              "      <td>6.695663e+00</td>\n",
              "      <td>16.811860</td>\n",
              "      <td>11.310461</td>\n",
              "      <td>25.103193</td>\n",
              "      <td>3.516050</td>\n",
              "      <td>3.009536</td>\n",
              "      <td>3.596280e+00</td>\n",
              "      <td>6.656967e+00</td>\n",
              "      <td>15.626911</td>\n",
              "      <td>11.307306</td>\n",
              "      <td>25.130882</td>\n",
              "      <td>3.398499</td>\n",
              "      <td>2.973688</td>\n",
              "      <td>3.489050e+00</td>\n",
              "      <td>6.852674e+00</td>\n",
              "      <td>13.509038</td>\n",
              "      <td>10.996861</td>\n",
              "      <td>25.171646</td>\n",
              "      <td>3.476962</td>\n",
              "      <td>3.000508</td>\n",
              "      <td>3.591847e+00</td>\n",
              "      <td>6.919557e+00</td>\n",
              "      <td>19.190537</td>\n",
              "      <td>11.023059</td>\n",
              "      <td>25.004051</td>\n",
              "      <td>3.400959</td>\n",
              "      <td>2.932541</td>\n",
              "      <td>3.583965e+00</td>\n",
              "      <td>6.888886</td>\n",
              "      <td>17.210699</td>\n",
              "      <td>10.767058</td>\n",
              "      <td>25.218093</td>\n",
              "    </tr>\n",
              "    <tr>\n",
              "      <th>min</th>\n",
              "      <td>17.000000</td>\n",
              "      <td>9.000000</td>\n",
              "      <td>-1.272792e+01</td>\n",
              "      <td>-28.640266</td>\n",
              "      <td>0.000000</td>\n",
              "      <td>36.000000</td>\n",
              "      <td>0.00000</td>\n",
              "      <td>16.000000</td>\n",
              "      <td>9.000000</td>\n",
              "      <td>-1.662983e+01</td>\n",
              "      <td>-22.000000</td>\n",
              "      <td>0.000000</td>\n",
              "      <td>36.000000</td>\n",
              "      <td>0.000000</td>\n",
              "      <td>17.000000</td>\n",
              "      <td>9.000000</td>\n",
              "      <td>-1.131371e+01</td>\n",
              "      <td>-22.000000</td>\n",
              "      <td>0.000000</td>\n",
              "      <td>36.000000</td>\n",
              "      <td>0.000000</td>\n",
              "      <td>17.000000</td>\n",
              "      <td>9.000000</td>\n",
              "      <td>-1.131371e+01</td>\n",
              "      <td>-22.000000</td>\n",
              "      <td>0.000000</td>\n",
              "      <td>36.000000</td>\n",
              "      <td>0.000000</td>\n",
              "      <td>17.000000</td>\n",
              "      <td>10.000000</td>\n",
              "      <td>-1.272792e+01</td>\n",
              "      <td>-28.640266</td>\n",
              "      <td>0.000000</td>\n",
              "      <td>36.000000</td>\n",
              "      <td>0.000000</td>\n",
              "      <td>17.000000</td>\n",
              "      <td>9.000000</td>\n",
              "      <td>-1.272792e+01</td>\n",
              "      <td>-28.640266</td>\n",
              "      <td>0.000000</td>\n",
              "      <td>...</td>\n",
              "      <td>-1.662983e+01</td>\n",
              "      <td>-2.200000e+01</td>\n",
              "      <td>0.000000</td>\n",
              "      <td>36.000000</td>\n",
              "      <td>0.000000</td>\n",
              "      <td>17.000000</td>\n",
              "      <td>9.000000</td>\n",
              "      <td>-1.662983e+01</td>\n",
              "      <td>-2.124923e+01</td>\n",
              "      <td>0.000000</td>\n",
              "      <td>36.000000</td>\n",
              "      <td>0.000000</td>\n",
              "      <td>17.000000</td>\n",
              "      <td>8.000000</td>\n",
              "      <td>-1.202082e+01</td>\n",
              "      <td>-2.124923e+01</td>\n",
              "      <td>0.000000</td>\n",
              "      <td>36.000000</td>\n",
              "      <td>0.000000</td>\n",
              "      <td>16.000000</td>\n",
              "      <td>9.000000</td>\n",
              "      <td>-9.238795e+00</td>\n",
              "      <td>-2.124923e+01</td>\n",
              "      <td>0.000000</td>\n",
              "      <td>36.000000</td>\n",
              "      <td>0.000000</td>\n",
              "      <td>17.000000</td>\n",
              "      <td>8.000000</td>\n",
              "      <td>-1.272792e+01</td>\n",
              "      <td>-2.124923e+01</td>\n",
              "      <td>0.000000</td>\n",
              "      <td>36.000000</td>\n",
              "      <td>0.000000</td>\n",
              "      <td>17.000000</td>\n",
              "      <td>9.000000</td>\n",
              "      <td>-1.272792e+01</td>\n",
              "      <td>-22.000000</td>\n",
              "      <td>0.000000</td>\n",
              "      <td>40.000000</td>\n",
              "      <td>0.000000</td>\n",
              "    </tr>\n",
              "    <tr>\n",
              "      <th>25%</th>\n",
              "      <td>27.000000</td>\n",
              "      <td>19.000000</td>\n",
              "      <td>-3.000000e+00</td>\n",
              "      <td>-3.535534</td>\n",
              "      <td>0.000000</td>\n",
              "      <td>72.000000</td>\n",
              "      <td>17.00000</td>\n",
              "      <td>27.000000</td>\n",
              "      <td>19.000000</td>\n",
              "      <td>-2.828427e+00</td>\n",
              "      <td>-3.535534</td>\n",
              "      <td>0.100000</td>\n",
              "      <td>72.000000</td>\n",
              "      <td>16.000000</td>\n",
              "      <td>27.000000</td>\n",
              "      <td>19.000000</td>\n",
              "      <td>-2.828427e+00</td>\n",
              "      <td>-3.535534</td>\n",
              "      <td>0.100000</td>\n",
              "      <td>73.000000</td>\n",
              "      <td>16.000000</td>\n",
              "      <td>27.000000</td>\n",
              "      <td>19.000000</td>\n",
              "      <td>-3.061467e+00</td>\n",
              "      <td>-3.535534</td>\n",
              "      <td>0.200000</td>\n",
              "      <td>73.000000</td>\n",
              "      <td>16.000000</td>\n",
              "      <td>27.000000</td>\n",
              "      <td>19.000000</td>\n",
              "      <td>-2.828427e+00</td>\n",
              "      <td>-3.695518</td>\n",
              "      <td>0.200000</td>\n",
              "      <td>73.000000</td>\n",
              "      <td>17.000000</td>\n",
              "      <td>27.000000</td>\n",
              "      <td>19.000000</td>\n",
              "      <td>-2.828427e+00</td>\n",
              "      <td>-3.535534</td>\n",
              "      <td>0.100000</td>\n",
              "      <td>...</td>\n",
              "      <td>-3.061467e+00</td>\n",
              "      <td>-4.242641e+00</td>\n",
              "      <td>0.200000</td>\n",
              "      <td>75.000000</td>\n",
              "      <td>18.000000</td>\n",
              "      <td>27.000000</td>\n",
              "      <td>19.000000</td>\n",
              "      <td>-3.000000e+00</td>\n",
              "      <td>-4.242641e+00</td>\n",
              "      <td>0.200000</td>\n",
              "      <td>74.000000</td>\n",
              "      <td>20.000000</td>\n",
              "      <td>26.000000</td>\n",
              "      <td>19.000000</td>\n",
              "      <td>-2.828427e+00</td>\n",
              "      <td>-4.242641e+00</td>\n",
              "      <td>0.100000</td>\n",
              "      <td>74.000000</td>\n",
              "      <td>18.000000</td>\n",
              "      <td>27.000000</td>\n",
              "      <td>19.000000</td>\n",
              "      <td>-3.000000e+00</td>\n",
              "      <td>-4.242641e+00</td>\n",
              "      <td>0.100000</td>\n",
              "      <td>75.000000</td>\n",
              "      <td>19.000000</td>\n",
              "      <td>27.000000</td>\n",
              "      <td>19.000000</td>\n",
              "      <td>-2.828427e+00</td>\n",
              "      <td>-4.242641e+00</td>\n",
              "      <td>0.100000</td>\n",
              "      <td>75.000000</td>\n",
              "      <td>19.000000</td>\n",
              "      <td>27.000000</td>\n",
              "      <td>19.000000</td>\n",
              "      <td>-3.000000e+00</td>\n",
              "      <td>-4.000000</td>\n",
              "      <td>0.200000</td>\n",
              "      <td>75.000000</td>\n",
              "      <td>19.000000</td>\n",
              "    </tr>\n",
              "    <tr>\n",
              "      <th>50%</th>\n",
              "      <td>29.000000</td>\n",
              "      <td>21.000000</td>\n",
              "      <td>4.286264e-16</td>\n",
              "      <td>2.771639</td>\n",
              "      <td>4.400000</td>\n",
              "      <td>84.000000</td>\n",
              "      <td>32.00000</td>\n",
              "      <td>29.000000</td>\n",
              "      <td>21.000000</td>\n",
              "      <td>4.898587e-16</td>\n",
              "      <td>2.771639</td>\n",
              "      <td>5.100000</td>\n",
              "      <td>83.000000</td>\n",
              "      <td>32.000000</td>\n",
              "      <td>29.000000</td>\n",
              "      <td>21.000000</td>\n",
              "      <td>4.898587e-16</td>\n",
              "      <td>2.771639</td>\n",
              "      <td>5.100000</td>\n",
              "      <td>83.000000</td>\n",
              "      <td>32.000000</td>\n",
              "      <td>29.000000</td>\n",
              "      <td>21.000000</td>\n",
              "      <td>3.673940e-16</td>\n",
              "      <td>2.771639</td>\n",
              "      <td>5.000000</td>\n",
              "      <td>83.000000</td>\n",
              "      <td>32.000000</td>\n",
              "      <td>29.000000</td>\n",
              "      <td>21.000000</td>\n",
              "      <td>3.673940e-16</td>\n",
              "      <td>1.913417</td>\n",
              "      <td>5.300000</td>\n",
              "      <td>83.000000</td>\n",
              "      <td>32.000000</td>\n",
              "      <td>29.000000</td>\n",
              "      <td>21.000000</td>\n",
              "      <td>3.673940e-16</td>\n",
              "      <td>1.913417</td>\n",
              "      <td>4.700000</td>\n",
              "      <td>...</td>\n",
              "      <td>3.061617e-16</td>\n",
              "      <td>3.399323e-15</td>\n",
              "      <td>6.700000</td>\n",
              "      <td>84.000000</td>\n",
              "      <td>33.000000</td>\n",
              "      <td>29.000000</td>\n",
              "      <td>21.000000</td>\n",
              "      <td>3.061617e-16</td>\n",
              "      <td>2.832769e-15</td>\n",
              "      <td>6.300000</td>\n",
              "      <td>84.000000</td>\n",
              "      <td>33.000000</td>\n",
              "      <td>29.000000</td>\n",
              "      <td>21.000000</td>\n",
              "      <td>3.061617e-16</td>\n",
              "      <td>3.399323e-15</td>\n",
              "      <td>5.300000</td>\n",
              "      <td>84.000000</td>\n",
              "      <td>33.000000</td>\n",
              "      <td>29.000000</td>\n",
              "      <td>21.000000</td>\n",
              "      <td>3.673940e-16</td>\n",
              "      <td>2.832769e-15</td>\n",
              "      <td>5.100000</td>\n",
              "      <td>84.000000</td>\n",
              "      <td>33.000000</td>\n",
              "      <td>29.000000</td>\n",
              "      <td>21.000000</td>\n",
              "      <td>3.061617e-16</td>\n",
              "      <td>2.266216e-15</td>\n",
              "      <td>6.400000</td>\n",
              "      <td>84.000000</td>\n",
              "      <td>33.000000</td>\n",
              "      <td>29.000000</td>\n",
              "      <td>21.000000</td>\n",
              "      <td>4.286264e-16</td>\n",
              "      <td>0.707107</td>\n",
              "      <td>6.600000</td>\n",
              "      <td>84.000000</td>\n",
              "      <td>34.000000</td>\n",
              "    </tr>\n",
              "    <tr>\n",
              "      <th>75%</th>\n",
              "      <td>31.000000</td>\n",
              "      <td>23.000000</td>\n",
              "      <td>2.296101e+00</td>\n",
              "      <td>7.391036</td>\n",
              "      <td>15.600000</td>\n",
              "      <td>90.000000</td>\n",
              "      <td>55.00000</td>\n",
              "      <td>31.000000</td>\n",
              "      <td>23.000000</td>\n",
              "      <td>2.678784e+00</td>\n",
              "      <td>7.391036</td>\n",
              "      <td>16.300000</td>\n",
              "      <td>90.000000</td>\n",
              "      <td>55.000000</td>\n",
              "      <td>31.000000</td>\n",
              "      <td>23.000000</td>\n",
              "      <td>2.678784e+00</td>\n",
              "      <td>7.391036</td>\n",
              "      <td>15.000000</td>\n",
              "      <td>90.000000</td>\n",
              "      <td>55.000000</td>\n",
              "      <td>31.000000</td>\n",
              "      <td>23.000000</td>\n",
              "      <td>2.678784e+00</td>\n",
              "      <td>7.071068</td>\n",
              "      <td>14.800000</td>\n",
              "      <td>89.000000</td>\n",
              "      <td>55.000000</td>\n",
              "      <td>31.000000</td>\n",
              "      <td>23.000000</td>\n",
              "      <td>2.678784e+00</td>\n",
              "      <td>7.071068</td>\n",
              "      <td>15.400000</td>\n",
              "      <td>90.000000</td>\n",
              "      <td>55.000000</td>\n",
              "      <td>31.000000</td>\n",
              "      <td>23.000000</td>\n",
              "      <td>2.121320e+00</td>\n",
              "      <td>7.000000</td>\n",
              "      <td>15.500000</td>\n",
              "      <td>...</td>\n",
              "      <td>2.296101e+00</td>\n",
              "      <td>7.000000e+00</td>\n",
              "      <td>15.600000</td>\n",
              "      <td>90.000000</td>\n",
              "      <td>55.000000</td>\n",
              "      <td>31.000000</td>\n",
              "      <td>23.000000</td>\n",
              "      <td>2.121320e+00</td>\n",
              "      <td>7.000000e+00</td>\n",
              "      <td>16.500000</td>\n",
              "      <td>90.000000</td>\n",
              "      <td>55.000000</td>\n",
              "      <td>31.000000</td>\n",
              "      <td>23.000000</td>\n",
              "      <td>2.296101e+00</td>\n",
              "      <td>7.000000e+00</td>\n",
              "      <td>16.700000</td>\n",
              "      <td>90.000000</td>\n",
              "      <td>55.000000</td>\n",
              "      <td>31.000000</td>\n",
              "      <td>23.000000</td>\n",
              "      <td>2.296101e+00</td>\n",
              "      <td>7.000000e+00</td>\n",
              "      <td>16.700000</td>\n",
              "      <td>90.000000</td>\n",
              "      <td>55.000000</td>\n",
              "      <td>31.000000</td>\n",
              "      <td>23.000000</td>\n",
              "      <td>2.296101e+00</td>\n",
              "      <td>7.071068e+00</td>\n",
              "      <td>16.600000</td>\n",
              "      <td>91.000000</td>\n",
              "      <td>55.000000</td>\n",
              "      <td>31.000000</td>\n",
              "      <td>23.000000</td>\n",
              "      <td>2.296101e+00</td>\n",
              "      <td>7.000000</td>\n",
              "      <td>17.100000</td>\n",
              "      <td>90.000000</td>\n",
              "      <td>55.000000</td>\n",
              "    </tr>\n",
              "    <tr>\n",
              "      <th>max</th>\n",
              "      <td>42.000000</td>\n",
              "      <td>32.000000</td>\n",
              "      <td>2.050610e+01</td>\n",
              "      <td>22.173109</td>\n",
              "      <td>314.100000</td>\n",
              "      <td>100.000000</td>\n",
              "      <td>100.00000</td>\n",
              "      <td>42.000000</td>\n",
              "      <td>32.000000</td>\n",
              "      <td>2.050610e+01</td>\n",
              "      <td>21.249229</td>\n",
              "      <td>314.100000</td>\n",
              "      <td>99.000000</td>\n",
              "      <td>100.000000</td>\n",
              "      <td>42.000000</td>\n",
              "      <td>32.000000</td>\n",
              "      <td>2.050610e+01</td>\n",
              "      <td>22.173109</td>\n",
              "      <td>314.100000</td>\n",
              "      <td>99.000000</td>\n",
              "      <td>100.000000</td>\n",
              "      <td>42.000000</td>\n",
              "      <td>36.000000</td>\n",
              "      <td>2.050610e+01</td>\n",
              "      <td>22.173109</td>\n",
              "      <td>314.100000</td>\n",
              "      <td>99.000000</td>\n",
              "      <td>100.000000</td>\n",
              "      <td>42.000000</td>\n",
              "      <td>31.000000</td>\n",
              "      <td>2.050610e+01</td>\n",
              "      <td>22.173109</td>\n",
              "      <td>163.400000</td>\n",
              "      <td>100.000000</td>\n",
              "      <td>100.000000</td>\n",
              "      <td>42.000000</td>\n",
              "      <td>36.000000</td>\n",
              "      <td>1.979899e+01</td>\n",
              "      <td>22.173109</td>\n",
              "      <td>163.400000</td>\n",
              "      <td>...</td>\n",
              "      <td>2.050610e+01</td>\n",
              "      <td>2.217311e+01</td>\n",
              "      <td>314.100000</td>\n",
              "      <td>99.000000</td>\n",
              "      <td>100.000000</td>\n",
              "      <td>42.000000</td>\n",
              "      <td>31.000000</td>\n",
              "      <td>2.050610e+01</td>\n",
              "      <td>2.217311e+01</td>\n",
              "      <td>187.900000</td>\n",
              "      <td>100.000000</td>\n",
              "      <td>100.000000</td>\n",
              "      <td>42.000000</td>\n",
              "      <td>36.000000</td>\n",
              "      <td>1.979899e+01</td>\n",
              "      <td>2.217311e+01</td>\n",
              "      <td>163.400000</td>\n",
              "      <td>100.000000</td>\n",
              "      <td>100.000000</td>\n",
              "      <td>42.000000</td>\n",
              "      <td>31.000000</td>\n",
              "      <td>1.979899e+01</td>\n",
              "      <td>2.217311e+01</td>\n",
              "      <td>133.600000</td>\n",
              "      <td>99.000000</td>\n",
              "      <td>100.000000</td>\n",
              "      <td>42.000000</td>\n",
              "      <td>36.000000</td>\n",
              "      <td>2.050610e+01</td>\n",
              "      <td>2.217311e+01</td>\n",
              "      <td>314.100000</td>\n",
              "      <td>100.000000</td>\n",
              "      <td>100.000000</td>\n",
              "      <td>42.000000</td>\n",
              "      <td>32.000000</td>\n",
              "      <td>2.050610e+01</td>\n",
              "      <td>22.173109</td>\n",
              "      <td>314.100000</td>\n",
              "      <td>99.000000</td>\n",
              "      <td>100.000000</td>\n",
              "    </tr>\n",
              "  </tbody>\n",
              "</table>\n",
              "<p>8 rows × 210 columns</p>\n",
              "</div>"
            ],
            "text/plain": [
              "        max_temp_d1   min_temp_d1  ...    humidi_d30     cloud_d30\n",
              "count  47030.000000  47030.000000  ...  47030.000000  47030.000000\n",
              "mean      29.057750     20.969594  ...     81.837997     38.139400\n",
              "std        3.677849      3.094542  ...     10.767058     25.218093\n",
              "min       17.000000      9.000000  ...     40.000000      0.000000\n",
              "25%       27.000000     19.000000  ...     75.000000     19.000000\n",
              "50%       29.000000     21.000000  ...     84.000000     34.000000\n",
              "75%       31.000000     23.000000  ...     90.000000     55.000000\n",
              "max       42.000000     32.000000  ...     99.000000    100.000000\n",
              "\n",
              "[8 rows x 210 columns]"
            ]
          },
          "metadata": {
            "tags": []
          },
          "execution_count": 13
        }
      ]
    },
    {
      "cell_type": "code",
      "metadata": {
        "id": "7ycbwpNFu_pO"
      },
      "source": [
        "# Divide data into training and validation + testing subsets\n",
        "X_train, X_valid_test, y_train, y_valid_test = train_test_split(X, y, train_size=0.7, test_size=0.3,\n",
        "                                                      random_state=42)\n",
        "# Divide data into testing and validation subsets\n",
        "X_valid, X_test, y_valid, y_test = train_test_split(X_valid_test, y_valid_test, train_size=0.7, test_size=0.3,\n",
        "                                                      random_state=42)"
      ],
      "execution_count": null,
      "outputs": []
    },
    {
      "cell_type": "markdown",
      "metadata": {
        "id": "nobARsJmUZPm"
      },
      "source": [
        "#### SVM"
      ]
    },
    {
      "cell_type": "code",
      "metadata": {
        "id": "mfi2LtDNUcbZ"
      },
      "source": [
        "clf = make_pipeline(StandardScaler(), SVC(gamma='auto'))"
      ],
      "execution_count": null,
      "outputs": []
    },
    {
      "cell_type": "code",
      "metadata": {
        "colab": {
          "base_uri": "https://localhost:8080/"
        },
        "id": "EV8OoPY_UqF2",
        "outputId": "005f0fcf-9ac3-4e1d-f67f-f762d90d239a"
      },
      "source": [
        "clf.fit(X_train, y_train)"
      ],
      "execution_count": null,
      "outputs": [
        {
          "output_type": "execute_result",
          "data": {
            "text/plain": [
              "Pipeline(memory=None,\n",
              "         steps=[('standardscaler',\n",
              "                 StandardScaler(copy=True, with_mean=True, with_std=True)),\n",
              "                ('svc',\n",
              "                 SVC(C=1.0, break_ties=False, cache_size=200, class_weight=None,\n",
              "                     coef0=0.0, decision_function_shape='ovr', degree=3,\n",
              "                     gamma='auto', kernel='rbf', max_iter=-1, probability=False,\n",
              "                     random_state=None, shrinking=True, tol=0.001,\n",
              "                     verbose=False))],\n",
              "         verbose=False)"
            ]
          },
          "metadata": {
            "tags": []
          },
          "execution_count": 12
        }
      ]
    },
    {
      "cell_type": "code",
      "metadata": {
        "colab": {
          "base_uri": "https://localhost:8080/"
        },
        "id": "r00iCJmjUsWv",
        "outputId": "185303f1-70d6-4c39-c086-39850077e26d"
      },
      "source": [
        "# Xuất ra accuracy\n",
        "clf.score(X_valid, y_valid)"
      ],
      "execution_count": null,
      "outputs": [
        {
          "output_type": "execute_result",
          "data": {
            "text/plain": [
              "0.9897937486710611"
            ]
          },
          "metadata": {
            "tags": []
          },
          "execution_count": 13
        }
      ]
    },
    {
      "cell_type": "code",
      "metadata": {
        "colab": {
          "base_uri": "https://localhost:8080/"
        },
        "id": "qPIqkI3_UuDn",
        "outputId": "e9db123a-b8c2-47bc-838a-d82ff3416cfc"
      },
      "source": [
        "# Xuất ra confusion matrix\n",
        "confusion_matrix(y_valid, clf.predict(X_valid))"
      ],
      "execution_count": null,
      "outputs": [
        {
          "output_type": "execute_result",
          "data": {
            "text/plain": [
              "array([[4516,    0],\n",
              "       [  96, 4794]])"
            ]
          },
          "metadata": {
            "tags": []
          },
          "execution_count": 16
        }
      ]
    },
    {
      "cell_type": "code",
      "metadata": {
        "colab": {
          "base_uri": "https://localhost:8080/",
          "height": 404
        },
        "id": "k_ZTkADzUxB3",
        "outputId": "d274121b-487b-4650-c445-accf9819bc9d"
      },
      "source": [
        "plot_confusion_matrix(clf, X_valid, y_valid, display_labels = [\"0\",\"1\"], cmap=plt.cm.Blues, normalize=\"true\")\n",
        "plt.title(\"Confusion Matrix\");"
      ],
      "execution_count": null,
      "outputs": [
        {
          "output_type": "display_data",
          "data": {
            "image/png": "[encoded data removed]",
            "text/plain": [
              "<Figure size 1440x432 with 2 Axes>"
            ]
          },
          "metadata": {
            "tags": []
          }
        }
      ]
    },
    {
      "cell_type": "markdown",
      "metadata": {
        "id": "uIHKxP7oW3xG"
      },
      "source": [
        "#### Dense"
      ]
    },
    {
      "cell_type": "code",
      "metadata": {
        "colab": {
          "base_uri": "https://localhost:8080/"
        },
        "id": "Vha2gTvLW3bm",
        "outputId": "23e0af03-833b-4193-8dc2-3adb29bbb78f"
      },
      "source": [
        "model = Sequential()\n",
        "model.add(Input(shape=(210,)))\n",
        "model.add(Dense(128, activation='relu', name='hidden_layer_1'))\n",
        "model.add(Dense(64, activation='relu', name='hidden_layer_2'))\n",
        "model.add(Dense(32, activation='relu', name='hidden_layer_3'))\n",
        "model.add(Dense(1, activation='sigmoid', name='output_layer'))"
      ],
      "execution_count": null,
      "outputs": [
        {
          "output_type": "stream",
          "text": [
            "WARNING:tensorflow:Please add `keras.layers.InputLayer` instead of `keras.Input` to Sequential model. `keras.Input` is intended to be used by Functional model.\n"
          ],
          "name": "stdout"
        }
      ]
    },
    {
      "cell_type": "code",
      "metadata": {
        "colab": {
          "base_uri": "https://localhost:8080/"
        },
        "id": "7J6tWPrAW3VG",
        "outputId": "86a6c2db-8187-417f-b539-963280547790"
      },
      "source": [
        "model.summary()"
      ],
      "execution_count": null,
      "outputs": [
        {
          "output_type": "stream",
          "text": [
            "Model: \"sequential_1\"\n",
            "_________________________________________________________________\n",
            "Layer (type)                 Output Shape              Param #   \n",
            "=================================================================\n",
            "hidden_layer_1 (Dense)       (None, 128)               27008     \n",
            "_________________________________________________________________\n",
            "hidden_layer_2 (Dense)       (None, 64)                8256      \n",
            "_________________________________________________________________\n",
            "hidden_layer_3 (Dense)       (None, 32)                2080      \n",
            "_________________________________________________________________\n",
            "output_layer (Dense)         (None, 1)                 33        \n",
            "=================================================================\n",
            "Total params: 37,377\n",
            "Trainable params: 37,377\n",
            "Non-trainable params: 0\n",
            "_________________________________________________________________\n"
          ],
          "name": "stdout"
        }
      ]
    },
    {
      "cell_type": "code",
      "metadata": {
        "id": "1wjCZIN9Xq6X"
      },
      "source": [
        "model.compile(optimizer='adam', loss='binary_crossentropy',\n",
        "              metrics=['accuracy'])"
      ],
      "execution_count": null,
      "outputs": []
    },
    {
      "cell_type": "code",
      "metadata": {
        "colab": {
          "base_uri": "https://localhost:8080/"
        },
        "id": "iVF9S_pcXtBt",
        "outputId": "e59262e2-6b22-4d7d-f786-b1ea190ef7ce"
      },
      "source": [
        "history = model.fit(X_train, y_train, batch_size=64, epochs=100, validation_data=(X_valid, y_valid), verbose=1)"
      ],
      "execution_count": null,
      "outputs": [
        {
          "output_type": "stream",
          "text": [
            "Epoch 1/100\n",
            "588/588 [==============================] - 2s 3ms/step - loss: 0.3254 - accuracy: 0.9096 - val_loss: 0.1695 - val_accuracy: 0.9546\n",
            "Epoch 2/100\n",
            "588/588 [==============================] - 1s 2ms/step - loss: 0.1493 - accuracy: 0.9524 - val_loss: 0.1388 - val_accuracy: 0.9558\n",
            "Epoch 3/100\n",
            "588/588 [==============================] - 1s 2ms/step - loss: 0.1264 - accuracy: 0.9608 - val_loss: 0.1065 - val_accuracy: 0.9708\n",
            "Epoch 4/100\n",
            "588/588 [==============================] - 1s 2ms/step - loss: 0.1069 - accuracy: 0.9684 - val_loss: 0.0981 - val_accuracy: 0.9711\n",
            "Epoch 5/100\n",
            "588/588 [==============================] - 1s 2ms/step - loss: 0.1055 - accuracy: 0.9678 - val_loss: 0.0904 - val_accuracy: 0.9726\n",
            "Epoch 6/100\n",
            "588/588 [==============================] - 1s 2ms/step - loss: 0.0919 - accuracy: 0.9731 - val_loss: 0.0853 - val_accuracy: 0.9751\n",
            "Epoch 7/100\n",
            "588/588 [==============================] - 1s 2ms/step - loss: 0.0907 - accuracy: 0.9736 - val_loss: 0.0880 - val_accuracy: 0.9765\n",
            "Epoch 8/100\n",
            "588/588 [==============================] - 1s 2ms/step - loss: 0.0854 - accuracy: 0.9745 - val_loss: 0.0938 - val_accuracy: 0.9776\n",
            "Epoch 9/100\n",
            "588/588 [==============================] - 1s 2ms/step - loss: 0.0815 - accuracy: 0.9760 - val_loss: 0.0670 - val_accuracy: 0.9835\n",
            "Epoch 10/100\n",
            "588/588 [==============================] - 1s 2ms/step - loss: 0.0722 - accuracy: 0.9793 - val_loss: 0.0882 - val_accuracy: 0.9807\n",
            "Epoch 11/100\n",
            "588/588 [==============================] - 1s 2ms/step - loss: 0.0756 - accuracy: 0.9778 - val_loss: 0.0826 - val_accuracy: 0.9741\n",
            "Epoch 12/100\n",
            "588/588 [==============================] - 1s 2ms/step - loss: 0.0671 - accuracy: 0.9809 - val_loss: 0.0600 - val_accuracy: 0.9837\n",
            "Epoch 13/100\n",
            "588/588 [==============================] - 1s 2ms/step - loss: 0.0663 - accuracy: 0.9817 - val_loss: 0.1621 - val_accuracy: 0.9460\n",
            "Epoch 14/100\n",
            "588/588 [==============================] - 1s 2ms/step - loss: 0.0642 - accuracy: 0.9820 - val_loss: 0.0602 - val_accuracy: 0.9862\n",
            "Epoch 15/100\n",
            "588/588 [==============================] - 1s 2ms/step - loss: 0.0644 - accuracy: 0.9828 - val_loss: 0.0458 - val_accuracy: 0.9887\n",
            "Epoch 16/100\n",
            "588/588 [==============================] - 1s 2ms/step - loss: 0.0600 - accuracy: 0.9833 - val_loss: 0.0575 - val_accuracy: 0.9837\n",
            "Epoch 17/100\n",
            "588/588 [==============================] - 1s 2ms/step - loss: 0.0628 - accuracy: 0.9823 - val_loss: 0.0630 - val_accuracy: 0.9828\n",
            "Epoch 18/100\n",
            "588/588 [==============================] - 1s 2ms/step - loss: 0.0526 - accuracy: 0.9856 - val_loss: 0.0541 - val_accuracy: 0.9850\n",
            "Epoch 19/100\n",
            "588/588 [==============================] - 1s 2ms/step - loss: 0.0545 - accuracy: 0.9849 - val_loss: 0.0442 - val_accuracy: 0.9889\n",
            "Epoch 20/100\n",
            "588/588 [==============================] - 1s 2ms/step - loss: 0.0547 - accuracy: 0.9856 - val_loss: 0.0422 - val_accuracy: 0.9897\n",
            "Epoch 21/100\n",
            "588/588 [==============================] - 1s 2ms/step - loss: 0.0540 - accuracy: 0.9849 - val_loss: 0.0774 - val_accuracy: 0.9822\n",
            "Epoch 22/100\n",
            "588/588 [==============================] - 1s 2ms/step - loss: 0.0513 - accuracy: 0.9861 - val_loss: 0.0517 - val_accuracy: 0.9870\n",
            "Epoch 23/100\n",
            "588/588 [==============================] - 1s 2ms/step - loss: 0.0481 - accuracy: 0.9869 - val_loss: 0.0450 - val_accuracy: 0.9903\n",
            "Epoch 24/100\n",
            "588/588 [==============================] - 1s 2ms/step - loss: 0.0499 - accuracy: 0.9867 - val_loss: 0.0472 - val_accuracy: 0.9855\n",
            "Epoch 25/100\n",
            "588/588 [==============================] - 1s 2ms/step - loss: 0.0490 - accuracy: 0.9864 - val_loss: 0.0723 - val_accuracy: 0.9793\n",
            "Epoch 26/100\n",
            "588/588 [==============================] - 1s 2ms/step - loss: 0.0500 - accuracy: 0.9862 - val_loss: 0.0576 - val_accuracy: 0.9859\n",
            "Epoch 27/100\n",
            "588/588 [==============================] - 1s 2ms/step - loss: 0.0453 - accuracy: 0.9876 - val_loss: 0.0458 - val_accuracy: 0.9881\n",
            "Epoch 28/100\n",
            "588/588 [==============================] - 1s 2ms/step - loss: 0.0416 - accuracy: 0.9885 - val_loss: 0.0581 - val_accuracy: 0.9842\n",
            "Epoch 29/100\n",
            "588/588 [==============================] - 1s 2ms/step - loss: 0.0392 - accuracy: 0.9896 - val_loss: 0.0655 - val_accuracy: 0.9862\n",
            "Epoch 30/100\n",
            "588/588 [==============================] - 1s 3ms/step - loss: 0.0483 - accuracy: 0.9867 - val_loss: 0.0485 - val_accuracy: 0.9894\n",
            "Epoch 31/100\n",
            "588/588 [==============================] - 1s 2ms/step - loss: 0.0386 - accuracy: 0.9898 - val_loss: 0.0576 - val_accuracy: 0.9856\n",
            "Epoch 32/100\n",
            "588/588 [==============================] - 1s 2ms/step - loss: 0.0419 - accuracy: 0.9884 - val_loss: 0.0435 - val_accuracy: 0.9894\n",
            "Epoch 33/100\n",
            "588/588 [==============================] - 1s 2ms/step - loss: 0.0361 - accuracy: 0.9909 - val_loss: 0.0488 - val_accuracy: 0.9887\n",
            "Epoch 34/100\n",
            "588/588 [==============================] - 1s 2ms/step - loss: 0.0389 - accuracy: 0.9898 - val_loss: 0.0517 - val_accuracy: 0.9861\n",
            "Epoch 35/100\n",
            "588/588 [==============================] - 1s 2ms/step - loss: 0.0417 - accuracy: 0.9889 - val_loss: 0.0482 - val_accuracy: 0.9879\n",
            "Epoch 36/100\n",
            "588/588 [==============================] - 1s 2ms/step - loss: 0.0387 - accuracy: 0.9901 - val_loss: 0.0460 - val_accuracy: 0.9879\n",
            "Epoch 37/100\n",
            "588/588 [==============================] - 1s 2ms/step - loss: 0.0388 - accuracy: 0.9897 - val_loss: 0.0403 - val_accuracy: 0.9913\n",
            "Epoch 38/100\n",
            "588/588 [==============================] - 1s 2ms/step - loss: 0.0351 - accuracy: 0.9902 - val_loss: 0.0438 - val_accuracy: 0.9901\n",
            "Epoch 39/100\n",
            "588/588 [==============================] - 1s 2ms/step - loss: 0.0355 - accuracy: 0.9906 - val_loss: 0.0620 - val_accuracy: 0.9829\n",
            "Epoch 40/100\n",
            "588/588 [==============================] - 1s 2ms/step - loss: 0.0397 - accuracy: 0.9890 - val_loss: 0.0736 - val_accuracy: 0.9827\n",
            "Epoch 41/100\n",
            "588/588 [==============================] - 1s 2ms/step - loss: 0.0352 - accuracy: 0.9904 - val_loss: 0.0607 - val_accuracy: 0.9848\n",
            "Epoch 42/100\n",
            "588/588 [==============================] - 1s 2ms/step - loss: 0.0360 - accuracy: 0.9906 - val_loss: 0.0382 - val_accuracy: 0.9905\n",
            "Epoch 43/100\n",
            "588/588 [==============================] - 1s 2ms/step - loss: 0.0346 - accuracy: 0.9906 - val_loss: 0.1072 - val_accuracy: 0.9681\n",
            "Epoch 44/100\n",
            "588/588 [==============================] - 1s 2ms/step - loss: 0.0356 - accuracy: 0.9906 - val_loss: 0.0424 - val_accuracy: 0.9911\n",
            "Epoch 45/100\n",
            "588/588 [==============================] - 1s 2ms/step - loss: 0.0315 - accuracy: 0.9915 - val_loss: 0.0552 - val_accuracy: 0.9865\n",
            "Epoch 46/100\n",
            "588/588 [==============================] - 1s 2ms/step - loss: 0.0329 - accuracy: 0.9912 - val_loss: 0.0374 - val_accuracy: 0.9916\n",
            "Epoch 47/100\n",
            "588/588 [==============================] - 1s 2ms/step - loss: 0.0358 - accuracy: 0.9906 - val_loss: 0.0398 - val_accuracy: 0.9916\n",
            "Epoch 48/100\n",
            "588/588 [==============================] - 1s 2ms/step - loss: 0.0296 - accuracy: 0.9922 - val_loss: 0.0379 - val_accuracy: 0.9911\n",
            "Epoch 49/100\n",
            "588/588 [==============================] - 1s 2ms/step - loss: 0.0322 - accuracy: 0.9913 - val_loss: 0.0652 - val_accuracy: 0.9819\n",
            "Epoch 50/100\n",
            "588/588 [==============================] - 1s 2ms/step - loss: 0.0347 - accuracy: 0.9908 - val_loss: 0.0420 - val_accuracy: 0.9914\n",
            "Epoch 51/100\n",
            "588/588 [==============================] - 1s 2ms/step - loss: 0.0301 - accuracy: 0.9921 - val_loss: 0.0484 - val_accuracy: 0.9878\n",
            "Epoch 52/100\n",
            "588/588 [==============================] - 1s 2ms/step - loss: 0.0298 - accuracy: 0.9925 - val_loss: 0.0409 - val_accuracy: 0.9912\n",
            "Epoch 53/100\n",
            "588/588 [==============================] - 1s 2ms/step - loss: 0.0333 - accuracy: 0.9915 - val_loss: 0.0714 - val_accuracy: 0.9831\n",
            "Epoch 54/100\n",
            "588/588 [==============================] - 1s 2ms/step - loss: 0.0275 - accuracy: 0.9930 - val_loss: 0.0378 - val_accuracy: 0.9914\n",
            "Epoch 55/100\n",
            "588/588 [==============================] - 1s 2ms/step - loss: 0.0329 - accuracy: 0.9913 - val_loss: 0.0513 - val_accuracy: 0.9873\n",
            "Epoch 56/100\n",
            "588/588 [==============================] - 1s 2ms/step - loss: 0.0346 - accuracy: 0.9908 - val_loss: 0.0364 - val_accuracy: 0.9921\n",
            "Epoch 57/100\n",
            "588/588 [==============================] - 1s 2ms/step - loss: 0.0290 - accuracy: 0.9923 - val_loss: 0.0334 - val_accuracy: 0.9926\n",
            "Epoch 58/100\n",
            "588/588 [==============================] - 1s 2ms/step - loss: 0.0274 - accuracy: 0.9926 - val_loss: 0.0688 - val_accuracy: 0.9841\n",
            "Epoch 59/100\n",
            "588/588 [==============================] - 1s 2ms/step - loss: 0.0291 - accuracy: 0.9923 - val_loss: 0.0395 - val_accuracy: 0.9913\n",
            "Epoch 60/100\n",
            "588/588 [==============================] - 1s 2ms/step - loss: 0.0264 - accuracy: 0.9932 - val_loss: 0.0394 - val_accuracy: 0.9913\n",
            "Epoch 61/100\n",
            "588/588 [==============================] - 1s 2ms/step - loss: 0.0317 - accuracy: 0.9913 - val_loss: 0.0329 - val_accuracy: 0.9928\n",
            "Epoch 62/100\n",
            "588/588 [==============================] - 1s 2ms/step - loss: 0.0238 - accuracy: 0.9942 - val_loss: 0.0423 - val_accuracy: 0.9906\n",
            "Epoch 63/100\n",
            "588/588 [==============================] - 1s 2ms/step - loss: 0.0308 - accuracy: 0.9917 - val_loss: 0.0400 - val_accuracy: 0.9918\n",
            "Epoch 64/100\n",
            "588/588 [==============================] - 1s 2ms/step - loss: 0.0307 - accuracy: 0.9920 - val_loss: 0.0347 - val_accuracy: 0.9920\n",
            "Epoch 65/100\n",
            "588/588 [==============================] - 1s 2ms/step - loss: 0.0258 - accuracy: 0.9935 - val_loss: 0.0633 - val_accuracy: 0.9848\n",
            "Epoch 66/100\n",
            "588/588 [==============================] - 1s 2ms/step - loss: 0.0310 - accuracy: 0.9921 - val_loss: 0.0460 - val_accuracy: 0.9865\n",
            "Epoch 67/100\n",
            "588/588 [==============================] - 1s 2ms/step - loss: 0.0288 - accuracy: 0.9919 - val_loss: 0.0402 - val_accuracy: 0.9917\n",
            "Epoch 68/100\n",
            "588/588 [==============================] - 1s 2ms/step - loss: 0.0282 - accuracy: 0.9928 - val_loss: 0.0323 - val_accuracy: 0.9923\n",
            "Epoch 69/100\n",
            "588/588 [==============================] - 1s 2ms/step - loss: 0.0283 - accuracy: 0.9925 - val_loss: 0.0453 - val_accuracy: 0.9895\n",
            "Epoch 70/100\n",
            "588/588 [==============================] - 1s 2ms/step - loss: 0.0253 - accuracy: 0.9934 - val_loss: 0.0410 - val_accuracy: 0.9917\n",
            "Epoch 71/100\n",
            "588/588 [==============================] - 1s 2ms/step - loss: 0.0283 - accuracy: 0.9927 - val_loss: 0.0440 - val_accuracy: 0.9900\n",
            "Epoch 72/100\n",
            "588/588 [==============================] - 1s 2ms/step - loss: 0.0268 - accuracy: 0.9929 - val_loss: 0.0364 - val_accuracy: 0.9919\n",
            "Epoch 73/100\n",
            "588/588 [==============================] - 1s 2ms/step - loss: 0.0261 - accuracy: 0.9929 - val_loss: 0.0398 - val_accuracy: 0.9910\n",
            "Epoch 74/100\n",
            "588/588 [==============================] - 1s 2ms/step - loss: 0.0273 - accuracy: 0.9927 - val_loss: 0.0408 - val_accuracy: 0.9881\n",
            "Epoch 75/100\n",
            "588/588 [==============================] - 1s 2ms/step - loss: 0.0264 - accuracy: 0.9931 - val_loss: 0.0503 - val_accuracy: 0.9905\n",
            "Epoch 76/100\n",
            "588/588 [==============================] - 1s 2ms/step - loss: 0.0249 - accuracy: 0.9937 - val_loss: 0.0339 - val_accuracy: 0.9923\n",
            "Epoch 77/100\n",
            "588/588 [==============================] - 1s 2ms/step - loss: 0.0342 - accuracy: 0.9906 - val_loss: 0.0323 - val_accuracy: 0.9927\n",
            "Epoch 78/100\n",
            "588/588 [==============================] - 1s 2ms/step - loss: 0.0232 - accuracy: 0.9941 - val_loss: 0.0448 - val_accuracy: 0.9888\n",
            "Epoch 79/100\n",
            "588/588 [==============================] - 1s 2ms/step - loss: 0.0244 - accuracy: 0.9937 - val_loss: 0.0318 - val_accuracy: 0.9929\n",
            "Epoch 80/100\n",
            "588/588 [==============================] - 1s 2ms/step - loss: 0.0311 - accuracy: 0.9917 - val_loss: 0.0368 - val_accuracy: 0.9922\n",
            "Epoch 81/100\n",
            "588/588 [==============================] - 1s 2ms/step - loss: 0.0222 - accuracy: 0.9947 - val_loss: 0.0345 - val_accuracy: 0.9925\n",
            "Epoch 82/100\n",
            "588/588 [==============================] - 1s 2ms/step - loss: 0.0353 - accuracy: 0.9907 - val_loss: 0.0316 - val_accuracy: 0.9930\n",
            "Epoch 83/100\n",
            "588/588 [==============================] - 1s 2ms/step - loss: 0.0221 - accuracy: 0.9942 - val_loss: 0.0394 - val_accuracy: 0.9915\n",
            "Epoch 84/100\n",
            "588/588 [==============================] - 1s 2ms/step - loss: 0.0259 - accuracy: 0.9932 - val_loss: 0.0368 - val_accuracy: 0.9920\n",
            "Epoch 85/100\n",
            "588/588 [==============================] - 1s 2ms/step - loss: 0.0243 - accuracy: 0.9936 - val_loss: 0.0339 - val_accuracy: 0.9927\n",
            "Epoch 86/100\n",
            "588/588 [==============================] - 1s 2ms/step - loss: 0.0224 - accuracy: 0.9944 - val_loss: 0.0357 - val_accuracy: 0.9917\n",
            "Epoch 87/100\n",
            "588/588 [==============================] - 1s 2ms/step - loss: 0.0363 - accuracy: 0.9899 - val_loss: 0.0323 - val_accuracy: 0.9925\n",
            "Epoch 88/100\n",
            "588/588 [==============================] - 1s 2ms/step - loss: 0.0260 - accuracy: 0.9932 - val_loss: 0.0347 - val_accuracy: 0.9923\n",
            "Epoch 89/100\n",
            "588/588 [==============================] - 1s 2ms/step - loss: 0.0217 - accuracy: 0.9944 - val_loss: 0.0450 - val_accuracy: 0.9918\n",
            "Epoch 90/100\n",
            "588/588 [==============================] - 1s 2ms/step - loss: 0.0257 - accuracy: 0.9934 - val_loss: 0.0339 - val_accuracy: 0.9929\n",
            "Epoch 91/100\n",
            "588/588 [==============================] - 1s 2ms/step - loss: 0.0281 - accuracy: 0.9925 - val_loss: 0.0470 - val_accuracy: 0.9898\n",
            "Epoch 92/100\n",
            "588/588 [==============================] - 1s 2ms/step - loss: 0.0231 - accuracy: 0.9941 - val_loss: 0.0347 - val_accuracy: 0.9928\n",
            "Epoch 93/100\n",
            "588/588 [==============================] - 1s 2ms/step - loss: 0.0251 - accuracy: 0.9937 - val_loss: 0.0651 - val_accuracy: 0.9846\n",
            "Epoch 94/100\n",
            "588/588 [==============================] - 1s 2ms/step - loss: 0.0239 - accuracy: 0.9939 - val_loss: 0.0791 - val_accuracy: 0.9642\n",
            "Epoch 95/100\n",
            "588/588 [==============================] - 1s 2ms/step - loss: 0.0354 - accuracy: 0.9908 - val_loss: 0.0345 - val_accuracy: 0.9920\n",
            "Epoch 96/100\n",
            "588/588 [==============================] - 1s 2ms/step - loss: 0.0301 - accuracy: 0.9919 - val_loss: 0.0351 - val_accuracy: 0.9926\n",
            "Epoch 97/100\n",
            "588/588 [==============================] - 1s 2ms/step - loss: 0.0220 - accuracy: 0.9944 - val_loss: 0.0344 - val_accuracy: 0.9927\n",
            "Epoch 98/100\n",
            "588/588 [==============================] - 1s 2ms/step - loss: 0.0207 - accuracy: 0.9946 - val_loss: 0.0394 - val_accuracy: 0.9923\n",
            "Epoch 99/100\n",
            "588/588 [==============================] - 1s 2ms/step - loss: 0.0260 - accuracy: 0.9929 - val_loss: 0.0318 - val_accuracy: 0.9936\n",
            "Epoch 100/100\n",
            "588/588 [==============================] - 1s 2ms/step - loss: 0.0219 - accuracy: 0.9945 - val_loss: 0.0360 - val_accuracy: 0.9922\n"
          ],
          "name": "stdout"
        }
      ]
    },
    {
      "cell_type": "code",
      "metadata": {
        "colab": {
          "base_uri": "https://localhost:8080/"
        },
        "id": "SrdJJi2yX9H1",
        "outputId": "beef7aec-fbce-4bb2-ad28-6b473bd649c6"
      },
      "source": [
        "# evaluate the network\n",
        "print(\"[INFO] evaluating network...\")\n",
        "predictions = model.predict(X_valid, batch_size=64)\n",
        "predictions = np.around(predictions)\n",
        "print(classification_report(y_valid, predictions))"
      ],
      "execution_count": null,
      "outputs": [
        {
          "output_type": "stream",
          "text": [
            "[INFO] evaluating network...\n",
            "              precision    recall  f1-score   support\n",
            "\n",
            "           0       0.98      1.00      0.99      4516\n",
            "           1       1.00      0.98      0.99      4890\n",
            "\n",
            "    accuracy                           0.99      9406\n",
            "   macro avg       0.99      0.99      0.99      9406\n",
            "weighted avg       0.99      0.99      0.99      9406\n",
            "\n"
          ],
          "name": "stdout"
        }
      ]
    },
    {
      "cell_type": "code",
      "metadata": {
        "colab": {
          "base_uri": "https://localhost:8080/",
          "height": 261
        },
        "id": "FStcJhASYNIm",
        "outputId": "e807465f-80fa-40de-f41b-c8acd1dd3f51"
      },
      "source": [
        "# plot the training loss and accuracy\n",
        "plt.style.use(\"ggplot\")\n",
        "plt.figure()\n",
        "plt.plot(np.arange(0, 100), history.history[\"loss\"], label=\"train_loss\")\n",
        "plt.plot(np.arange(0, 100), history.history[\"val_loss\"], label=\"val_loss\")\n",
        "plt.plot(np.arange(0, 100), history.history[\"accuracy\"], label=\"train_accuracy\")\n",
        "plt.plot(np.arange(0, 100), history.history[\"val_accuracy\"], label=\"val_accuracy\")\n",
        "plt.title(\"Training Loss and Accuracy\")\n",
        "plt.xlabel(\"Epoch #\")\n",
        "plt.ylabel(\"Loss/Accuracy\")\n",
        "plt.legend()\n",
        "plt.show()"
      ],
      "execution_count": null,
      "outputs": [
        {
          "output_type": "display_data",
          "data": {
            "image/png": "[encoded data removed]",
            "text/plain": [
              "<Figure size 1440x432 with 1 Axes>"
            ]
          },
          "metadata": {
            "tags": []
          }
        }
      ]
    },
    {
      "cell_type": "markdown",
      "metadata": {
        "id": "DDkWiX9-fMds"
      },
      "source": [
        "#### Random Forest Classifier"
      ]
    },
    {
      "cell_type": "code",
      "metadata": {
        "id": "Rm0Dm-dYfJtb"
      },
      "source": [
        "rfc = RandomForestClassifier(max_depth=4, random_state=42)"
      ],
      "execution_count": null,
      "outputs": []
    },
    {
      "cell_type": "code",
      "metadata": {
        "colab": {
          "base_uri": "https://localhost:8080/"
        },
        "id": "RzJkPLQ2eb2v",
        "outputId": "a1b29272-f2b9-4c19-8864-579e2f1b0883"
      },
      "source": [
        "rfc.fit(X_train, y_train)"
      ],
      "execution_count": null,
      "outputs": [
        {
          "output_type": "execute_result",
          "data": {
            "text/plain": [
              "RandomForestClassifier(bootstrap=True, ccp_alpha=0.0, class_weight=None,\n",
              "                       criterion='gini', max_depth=4, max_features='auto',\n",
              "                       max_leaf_nodes=None, max_samples=None,\n",
              "                       min_impurity_decrease=0.0, min_impurity_split=None,\n",
              "                       min_samples_leaf=1, min_samples_split=2,\n",
              "                       min_weight_fraction_leaf=0.0, n_estimators=100,\n",
              "                       n_jobs=None, oob_score=False, random_state=42, verbose=0,\n",
              "                       warm_start=False)"
            ]
          },
          "metadata": {
            "tags": []
          },
          "execution_count": 38
        }
      ]
    },
    {
      "cell_type": "code",
      "metadata": {
        "colab": {
          "base_uri": "https://localhost:8080/"
        },
        "id": "48MkWLSkfRuC",
        "outputId": "1d2cc8c0-74c6-4ebe-e2cc-676fc2f74420"
      },
      "source": [
        "rfc.score(X_valid, y_valid)"
      ],
      "execution_count": null,
      "outputs": [
        {
          "output_type": "execute_result",
          "data": {
            "text/plain": [
              "0.9453540293429725"
            ]
          },
          "metadata": {
            "tags": []
          },
          "execution_count": 39
        }
      ]
    },
    {
      "cell_type": "code",
      "metadata": {
        "colab": {
          "base_uri": "https://localhost:8080/"
        },
        "id": "_KXnLGv4fT_6",
        "outputId": "e43e1154-b56a-4bc3-a8c4-d02ab0613bae"
      },
      "source": [
        "confusion_matrix(y_valid, rfc.predict(X_valid))"
      ],
      "execution_count": null,
      "outputs": [
        {
          "output_type": "execute_result",
          "data": {
            "text/plain": [
              "array([[4503,   13],\n",
              "       [ 501, 4389]])"
            ]
          },
          "metadata": {
            "tags": []
          },
          "execution_count": 40
        }
      ]
    },
    {
      "cell_type": "code",
      "metadata": {
        "colab": {
          "base_uri": "https://localhost:8080/",
          "height": 408
        },
        "id": "y4JIDTaBfWp-",
        "outputId": "201ab4e4-472e-4c76-c8a2-934970a4835b"
      },
      "source": [
        "plot_confusion_matrix(rfc, X_valid, y_valid, display_labels = [\"0\",\"1\"], cmap=plt.cm.Blues, normalize=\"true\")\n",
        "plt.title(\"Confusion Matrix\");"
      ],
      "execution_count": null,
      "outputs": [
        {
          "output_type": "display_data",
          "data": {
            "image/png": "[encoded data removed]",
            "text/plain": [
              "<Figure size 1440x432 with 2 Axes>"
            ]
          },
          "metadata": {
            "tags": []
          }
        }
      ]
    },
    {
      "cell_type": "code",
      "metadata": {
        "colab": {
          "base_uri": "https://localhost:8080/"
        },
        "id": "U--9YUXjgAqc",
        "outputId": "2d4af56d-6a8c-4ff5-e392-f7a113049dfa"
      },
      "source": [
        "print(classification_report(y_valid, rfc.predict(X_valid)))"
      ],
      "execution_count": null,
      "outputs": [
        {
          "output_type": "stream",
          "text": [
            "              precision    recall  f1-score   support\n",
            "\n",
            "           0       0.90      1.00      0.95      4516\n",
            "           1       1.00      0.90      0.94      4890\n",
            "\n",
            "    accuracy                           0.95      9406\n",
            "   macro avg       0.95      0.95      0.95      9406\n",
            "weighted avg       0.95      0.95      0.95      9406\n",
            "\n"
          ],
          "name": "stdout"
        }
      ]
    },
    {
      "cell_type": "markdown",
      "metadata": {
        "id": "XLTyl1YWfwFh"
      },
      "source": [
        "#### Logistic Regression"
      ]
    },
    {
      "cell_type": "code",
      "metadata": {
        "id": "NYXWwrOyft8i"
      },
      "source": [
        "loreg = LogisticRegression(C = 10)"
      ],
      "execution_count": null,
      "outputs": []
    },
    {
      "cell_type": "code",
      "metadata": {
        "colab": {
          "base_uri": "https://localhost:8080/"
        },
        "id": "6ErI5R9ff2CC",
        "outputId": "86c40a25-9c82-46b5-cfdd-bfdb4a1b655b"
      },
      "source": [
        "loreg.fit(X_train, y_train)"
      ],
      "execution_count": null,
      "outputs": [
        {
          "output_type": "stream",
          "text": [
            "/usr/local/lib/python3.7/dist-packages/sklearn/linear_model/_logistic.py:940: ConvergenceWarning: lbfgs failed to converge (status=1):\n",
            "STOP: TOTAL NO. of ITERATIONS REACHED LIMIT.\n",
            "\n",
            "Increase the number of iterations (max_iter) or scale the data as shown in:\n",
            "    https://scikit-learn.org/stable/modules/preprocessing.html\n",
            "Please also refer to the documentation for alternative solver options:\n",
            "    https://scikit-learn.org/stable/modules/linear_model.html#logistic-regression\n",
            "  extra_warning_msg=_LOGISTIC_SOLVER_CONVERGENCE_MSG)\n"
          ],
          "name": "stderr"
        },
        {
          "output_type": "execute_result",
          "data": {
            "text/plain": [
              "LogisticRegression(C=10, class_weight=None, dual=False, fit_intercept=True,\n",
              "                   intercept_scaling=1, l1_ratio=None, max_iter=100,\n",
              "                   multi_class='auto', n_jobs=None, penalty='l2',\n",
              "                   random_state=None, solver='lbfgs', tol=0.0001, verbose=0,\n",
              "                   warm_start=False)"
            ]
          },
          "metadata": {
            "tags": []
          },
          "execution_count": 45
        }
      ]
    },
    {
      "cell_type": "code",
      "metadata": {
        "colab": {
          "base_uri": "https://localhost:8080/"
        },
        "id": "91OvCjEFf5Iq",
        "outputId": "cefae6d1-eb02-45bf-f380-fc3cce0bbc63"
      },
      "source": [
        "loreg.score(X_valid, y_valid)"
      ],
      "execution_count": null,
      "outputs": [
        {
          "output_type": "execute_result",
          "data": {
            "text/plain": [
              "0.948011907293217"
            ]
          },
          "metadata": {
            "tags": []
          },
          "execution_count": 46
        }
      ]
    },
    {
      "cell_type": "code",
      "metadata": {
        "colab": {
          "base_uri": "https://localhost:8080/"
        },
        "id": "1mXJomCyf7sC",
        "outputId": "edd2d594-1a42-49d1-c35b-27c70be7050e"
      },
      "source": [
        "confusion_matrix(y_valid, loreg.predict(X_valid))"
      ],
      "execution_count": null,
      "outputs": [
        {
          "output_type": "execute_result",
          "data": {
            "text/plain": [
              "array([[4412,  104],\n",
              "       [ 385, 4505]])"
            ]
          },
          "metadata": {
            "tags": []
          },
          "execution_count": 47
        }
      ]
    },
    {
      "cell_type": "code",
      "metadata": {
        "colab": {
          "base_uri": "https://localhost:8080/",
          "height": 408
        },
        "id": "JS0y9plQf9mS",
        "outputId": "2ec7fcc6-1118-4239-b5c9-36ccf876ae5d"
      },
      "source": [
        "plot_confusion_matrix(loreg, X_valid, y_valid, display_labels = [\"0\",\"1\"], cmap=plt.cm.Blues, normalize=\"true\")\n",
        "plt.title(\"Confusion Matrix\");"
      ],
      "execution_count": null,
      "outputs": [
        {
          "output_type": "display_data",
          "data": {
            "image/png": "[encoded data removed]",
            "text/plain": [
              "<Figure size 1440x432 with 2 Axes>"
            ]
          },
          "metadata": {
            "tags": []
          }
        }
      ]
    },
    {
      "cell_type": "code",
      "metadata": {
        "colab": {
          "base_uri": "https://localhost:8080/"
        },
        "id": "qeoa8KOAgFZq",
        "outputId": "edfe5701-ff0b-424e-e618-dd7fb2034bcf"
      },
      "source": [
        "print(classification_report(y_valid, loreg.predict(X_valid)))"
      ],
      "execution_count": null,
      "outputs": [
        {
          "output_type": "stream",
          "text": [
            "              precision    recall  f1-score   support\n",
            "\n",
            "           0       0.92      0.98      0.95      4516\n",
            "           1       0.98      0.92      0.95      4890\n",
            "\n",
            "    accuracy                           0.95      9406\n",
            "   macro avg       0.95      0.95      0.95      9406\n",
            "weighted avg       0.95      0.95      0.95      9406\n",
            "\n"
          ],
          "name": "stdout"
        }
      ]
    },
    {
      "cell_type": "markdown",
      "metadata": {
        "id": "lvdV2bCSgLmK"
      },
      "source": [
        "#### Naive Bayes Classifier"
      ]
    },
    {
      "cell_type": "code",
      "metadata": {
        "id": "1CKjjJ_rgLPB"
      },
      "source": [
        "GNB = GaussianNB()"
      ],
      "execution_count": null,
      "outputs": []
    },
    {
      "cell_type": "code",
      "metadata": {
        "colab": {
          "base_uri": "https://localhost:8080/"
        },
        "id": "PPpmoGxLgRwq",
        "outputId": "c39fa705-3c9d-4497-c017-57ca1e2e50d8"
      },
      "source": [
        "GNB.fit(X_train, y_train)"
      ],
      "execution_count": null,
      "outputs": [
        {
          "output_type": "execute_result",
          "data": {
            "text/plain": [
              "GaussianNB(priors=None, var_smoothing=1e-09)"
            ]
          },
          "metadata": {
            "tags": []
          },
          "execution_count": 52
        }
      ]
    },
    {
      "cell_type": "code",
      "metadata": {
        "colab": {
          "base_uri": "https://localhost:8080/"
        },
        "id": "5FeP1BpygURC",
        "outputId": "9868ddfa-2b18-4c93-a299-c409db6e6f32"
      },
      "source": [
        "GNB.score(X_valid, y_valid)"
      ],
      "execution_count": null,
      "outputs": [
        {
          "output_type": "execute_result",
          "data": {
            "text/plain": [
              "0.90293429725707"
            ]
          },
          "metadata": {
            "tags": []
          },
          "execution_count": 53
        }
      ]
    },
    {
      "cell_type": "code",
      "metadata": {
        "colab": {
          "base_uri": "https://localhost:8080/"
        },
        "id": "reyqcSR2gV9D",
        "outputId": "c5e46f58-3b36-4b9d-eb3a-d3089dd6bdee"
      },
      "source": [
        "confusion_matrix(y_valid, GNB.predict(X_valid))"
      ],
      "execution_count": null,
      "outputs": [
        {
          "output_type": "execute_result",
          "data": {
            "text/plain": [
              "array([[4271,  245],\n",
              "       [ 668, 4222]])"
            ]
          },
          "metadata": {
            "tags": []
          },
          "execution_count": 54
        }
      ]
    },
    {
      "cell_type": "code",
      "metadata": {
        "colab": {
          "base_uri": "https://localhost:8080/",
          "height": 408
        },
        "id": "DCu0xh7xgYPe",
        "outputId": "951045cd-c655-431d-e88d-d0cb4dc84005"
      },
      "source": [
        "plot_confusion_matrix(GNB, X_valid, y_valid, display_labels = [\"0\",\"1\"], cmap=plt.cm.Blues, normalize=\"true\")\n",
        "plt.title(\"Confusion Matrix\");"
      ],
      "execution_count": null,
      "outputs": [
        {
          "output_type": "display_data",
          "data": {
            "image/png": "[encoded data removed]",
            "text/plain": [
              "<Figure size 1440x432 with 2 Axes>"
            ]
          },
          "metadata": {
            "tags": []
          }
        }
      ]
    },
    {
      "cell_type": "code",
      "metadata": {
        "colab": {
          "base_uri": "https://localhost:8080/"
        },
        "id": "x7EPrENAge3q",
        "outputId": "c5a159d0-1424-431f-9155-de1560388d51"
      },
      "source": [
        "print(classification_report(y_valid, GNB.predict(X_valid)))"
      ],
      "execution_count": null,
      "outputs": [
        {
          "output_type": "stream",
          "text": [
            "              precision    recall  f1-score   support\n",
            "\n",
            "           0       0.86      0.95      0.90      4516\n",
            "           1       0.95      0.86      0.90      4890\n",
            "\n",
            "    accuracy                           0.90      9406\n",
            "   macro avg       0.90      0.90      0.90      9406\n",
            "weighted avg       0.91      0.90      0.90      9406\n",
            "\n"
          ],
          "name": "stdout"
        }
      ]
    },
    {
      "cell_type": "markdown",
      "metadata": {
        "id": "NTNAkZ8kgkEy"
      },
      "source": [
        "#### K-Neighbors Classifier"
      ]
    },
    {
      "cell_type": "code",
      "metadata": {
        "id": "oFgGjRuigmBC"
      },
      "source": [
        "knn = KNeighborsClassifier(n_neighbors=10)"
      ],
      "execution_count": null,
      "outputs": []
    },
    {
      "cell_type": "code",
      "metadata": {
        "colab": {
          "base_uri": "https://localhost:8080/"
        },
        "id": "f6bOx2MJgocM",
        "outputId": "36de637e-ee65-4453-bd28-deb35fb71276"
      },
      "source": [
        "knn.fit(X_train, y_train)"
      ],
      "execution_count": null,
      "outputs": [
        {
          "output_type": "execute_result",
          "data": {
            "text/plain": [
              "KNeighborsClassifier(algorithm='auto', leaf_size=30, metric='minkowski',\n",
              "                     metric_params=None, n_jobs=None, n_neighbors=10, p=2,\n",
              "                     weights='uniform')"
            ]
          },
          "metadata": {
            "tags": []
          },
          "execution_count": 58
        }
      ]
    },
    {
      "cell_type": "code",
      "metadata": {
        "colab": {
          "base_uri": "https://localhost:8080/"
        },
        "id": "TKW3yheDgsaz",
        "outputId": "ffa0ea51-1a05-48ea-aa4f-5ed7d385c2c2"
      },
      "source": [
        "knn.score(X_valid, y_valid)"
      ],
      "execution_count": null,
      "outputs": [
        {
          "output_type": "execute_result",
          "data": {
            "text/plain": [
              "0.9760790984477993"
            ]
          },
          "metadata": {
            "tags": []
          },
          "execution_count": 59
        }
      ]
    },
    {
      "cell_type": "code",
      "metadata": {
        "colab": {
          "base_uri": "https://localhost:8080/"
        },
        "id": "l-vm3ShXgufy",
        "outputId": "3f693224-c249-405e-f3f4-a549b1ba947a"
      },
      "source": [
        "confusion_matrix(y_valid, knn.predict(X_valid))"
      ],
      "execution_count": null,
      "outputs": [
        {
          "output_type": "execute_result",
          "data": {
            "text/plain": [
              "array([[4515,    1],\n",
              "       [ 224, 4666]])"
            ]
          },
          "metadata": {
            "tags": []
          },
          "execution_count": 60
        }
      ]
    },
    {
      "cell_type": "code",
      "metadata": {
        "colab": {
          "base_uri": "https://localhost:8080/",
          "height": 408
        },
        "id": "HgoDQIZNgwZC",
        "outputId": "ca6c12f0-e0f5-40de-d4d3-ad8d4426faf7"
      },
      "source": [
        "plot_confusion_matrix(knn, X_valid, y_valid, display_labels = [\"0\",\"1\"], cmap=plt.cm.Blues, normalize=\"true\")\n",
        "plt.title(\"Confusion Matrix\");"
      ],
      "execution_count": null,
      "outputs": [
        {
          "output_type": "display_data",
          "data": {
            "image/png": "[encoded data removed]",
            "text/plain": [
              "<Figure size 1440x432 with 2 Axes>"
            ]
          },
          "metadata": {
            "tags": []
          }
        }
      ]
    },
    {
      "cell_type": "code",
      "metadata": {
        "colab": {
          "base_uri": "https://localhost:8080/"
        },
        "id": "vUt-Q6f2g1pt",
        "outputId": "3bdb81bf-19b7-4057-de3c-d2a288c7df96"
      },
      "source": [
        "print(classification_report(y_valid, knn.predict(X_valid)))"
      ],
      "execution_count": null,
      "outputs": [
        {
          "output_type": "stream",
          "text": [
            "              precision    recall  f1-score   support\n",
            "\n",
            "           0       0.95      1.00      0.98      4516\n",
            "           1       1.00      0.95      0.98      4890\n",
            "\n",
            "    accuracy                           0.98      9406\n",
            "   macro avg       0.98      0.98      0.98      9406\n",
            "weighted avg       0.98      0.98      0.98      9406\n",
            "\n"
          ],
          "name": "stdout"
        }
      ]
    },
    {
      "cell_type": "markdown",
      "metadata": {
        "id": "MS3iInTpgzMa"
      },
      "source": [
        "#### Decision Tree Classifier"
      ]
    },
    {
      "cell_type": "code",
      "metadata": {
        "id": "H1b6jaOzgy8i"
      },
      "source": [
        "dtc = DecisionTreeClassifier(random_state=0)"
      ],
      "execution_count": null,
      "outputs": []
    },
    {
      "cell_type": "code",
      "metadata": {
        "colab": {
          "base_uri": "https://localhost:8080/"
        },
        "id": "nzd-hjmgg8pC",
        "outputId": "52852b45-f6d3-45c9-9354-ffa2023b5949"
      },
      "source": [
        "dtc.fit(X_train, y_train)"
      ],
      "execution_count": null,
      "outputs": [
        {
          "output_type": "execute_result",
          "data": {
            "text/plain": [
              "DecisionTreeClassifier(ccp_alpha=0.0, class_weight=None, criterion='gini',\n",
              "                       max_depth=None, max_features=None, max_leaf_nodes=None,\n",
              "                       min_impurity_decrease=0.0, min_impurity_split=None,\n",
              "                       min_samples_leaf=1, min_samples_split=2,\n",
              "                       min_weight_fraction_leaf=0.0, presort='deprecated',\n",
              "                       random_state=0, splitter='best')"
            ]
          },
          "metadata": {
            "tags": []
          },
          "execution_count": 64
        }
      ]
    },
    {
      "cell_type": "code",
      "metadata": {
        "colab": {
          "base_uri": "https://localhost:8080/"
        },
        "id": "SPoNbGTVhZ7r",
        "outputId": "f8609734-4cbb-49c6-ace5-260e9fd2e0ef"
      },
      "source": [
        "dtc.score(X_valid, y_valid)"
      ],
      "execution_count": null,
      "outputs": [
        {
          "output_type": "execute_result",
          "data": {
            "text/plain": [
              "0.9937274080374229"
            ]
          },
          "metadata": {
            "tags": []
          },
          "execution_count": 65
        }
      ]
    },
    {
      "cell_type": "code",
      "metadata": {
        "colab": {
          "base_uri": "https://localhost:8080/"
        },
        "id": "z31e9yNRhca1",
        "outputId": "bf49ea8e-d317-4085-898d-3c7aa92ed878"
      },
      "source": [
        "confusion_matrix(y_valid, dtc.predict(X_valid))"
      ],
      "execution_count": null,
      "outputs": [
        {
          "output_type": "execute_result",
          "data": {
            "text/plain": [
              "array([[4516,    0],\n",
              "       [  59, 4831]])"
            ]
          },
          "metadata": {
            "tags": []
          },
          "execution_count": 66
        }
      ]
    },
    {
      "cell_type": "code",
      "metadata": {
        "colab": {
          "base_uri": "https://localhost:8080/",
          "height": 408
        },
        "id": "wpVUXysOhhQ1",
        "outputId": "bdbe69b4-e999-4dc5-d04f-682b026f335e"
      },
      "source": [
        "plot_confusion_matrix(dtc, X_valid, y_valid, display_labels = [\"0\",\"1\"], cmap=plt.cm.Blues, normalize=\"true\")\n",
        "plt.title(\"Confusion Matrix\");"
      ],
      "execution_count": null,
      "outputs": [
        {
          "output_type": "display_data",
          "data": {
            "image/png": "[encoded data removed]",
            "text/plain": [
              "<Figure size 1440x432 with 2 Axes>"
            ]
          },
          "metadata": {
            "tags": []
          }
        }
      ]
    },
    {
      "cell_type": "code",
      "metadata": {
        "colab": {
          "base_uri": "https://localhost:8080/"
        },
        "id": "1q7267qWhi3S",
        "outputId": "da84e36c-779f-4849-d4b0-2d72d2cebbac"
      },
      "source": [
        "print(classification_report(y_valid, dtc.predict(X_valid)))"
      ],
      "execution_count": null,
      "outputs": [
        {
          "output_type": "stream",
          "text": [
            "              precision    recall  f1-score   support\n",
            "\n",
            "           0       0.99      1.00      0.99      4516\n",
            "           1       1.00      0.99      0.99      4890\n",
            "\n",
            "    accuracy                           0.99      9406\n",
            "   macro avg       0.99      0.99      0.99      9406\n",
            "weighted avg       0.99      0.99      0.99      9406\n",
            "\n"
          ],
          "name": "stdout"
        }
      ]
    },
    {
      "cell_type": "code",
      "metadata": {
        "colab": {
          "base_uri": "https://localhost:8080/",
          "height": 283
        },
        "id": "YY1XkvWtMM_o",
        "outputId": "b11efaf7-f109-4f79-de28-9e7615795731"
      },
      "source": [
        "df_fire_count = df_wildfire_tn.groupby(['ward_code','date']).size().reset_index(name='fires')\n",
        "df_fire_count['fires'].value_counts().sort_index().plot()"
      ],
      "execution_count": null,
      "outputs": [
        {
          "output_type": "execute_result",
          "data": {
            "text/plain": [
              "<matplotlib.axes._subplots.AxesSubplot at 0x7ff1a046d450>"
            ]
          },
          "metadata": {
            "tags": []
          },
          "execution_count": 100
        },
        {
          "output_type": "display_data",
          "data": {
            "image/png": "[encoded data removed]",
            "text/plain": [
              "<Figure size 1440x288 with 1 Axes>"
            ]
          },
          "metadata": {
            "tags": []
          }
        }
      ]
    },
    {
      "cell_type": "markdown",
      "metadata": {
        "id": "W7Bcv9tTM0t9"
      },
      "source": [
        "0 -> 0\n",
        "\n",
        "1 -> 1 (21093)\n",
        "\n",
        "[2:25] -> 2 (21123)\n",
        "\n",
        "[25:] -> 3 (3003)\n"
      ]
    },
    {
      "cell_type": "code",
      "metadata": {
        "colab": {
          "base_uri": "https://localhost:8080/"
        },
        "id": "JIZrfRmcNiEg",
        "outputId": "f637be6d-da9d-48e0-ef78-82d8b192ea9f"
      },
      "source": [
        "df_fire_count['fires'].value_counts().sort_index()[25:].sum()"
      ],
      "execution_count": null,
      "outputs": [
        {
          "output_type": "execute_result",
          "data": {
            "text/plain": [
              "3003"
            ]
          },
          "metadata": {
            "tags": []
          },
          "execution_count": 116
        }
      ]
    },
    {
      "cell_type": "markdown",
      "metadata": {
        "id": "xigEICg5-zvP"
      },
      "source": [
        "# Reference materials\n",
        "\n",
        "https://www.tensorflow.org/tutorials/structured_data/time_series\n",
        "\n",
        "https://www.weather.gov/btv/7dayPrecip\n",
        "\n",
        "https://www.sisense.com/blog/calculate-mtd-qtd-ytd/\n"
      ]
    }
  ]
}